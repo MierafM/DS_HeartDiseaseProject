{
 "cells": [
  {
   "cell_type": "code",
   "execution_count": 1,
   "id": "a4b1058d",
   "metadata": {},
   "outputs": [],
   "source": [
    "from sklearn.model_selection import train_test_split\n",
    "import pandas as pd\n",
    "import numpy as np\n",
    "from sklearn.linear_model import LogisticRegression\n",
    "from sklearn.model_selection import cross_validate\n",
    "from sklearn.model_selection import train_test_split\n",
    "from sklearn.ensemble import AdaBoostClassifier\n",
    "from sklearn.ensemble import VotingClassifier\n",
    "from sklearn.model_selection import GridSearchCV\n",
    "from sklearn.cluster import KMeans\n",
    "from sklearn import metrics\n",
    "from sklearn.ensemble import StackingClassifier\n",
    "from sklearn.ensemble import RandomForestClassifier\n",
    "from sklearn.ensemble import BaggingClassifier\n",
    "from matplotlib import pyplot as plt"
   ]
  },
  {
   "cell_type": "code",
   "execution_count": 2,
   "id": "49ef7014",
   "metadata": {
    "scrolled": true
   },
   "outputs": [
    {
     "data": {
      "text/html": [
       "<div>\n",
       "<style scoped>\n",
       "    .dataframe tbody tr th:only-of-type {\n",
       "        vertical-align: middle;\n",
       "    }\n",
       "\n",
       "    .dataframe tbody tr th {\n",
       "        vertical-align: top;\n",
       "    }\n",
       "\n",
       "    .dataframe thead th {\n",
       "        text-align: right;\n",
       "    }\n",
       "</style>\n",
       "<table border=\"1\" class=\"dataframe\">\n",
       "  <thead>\n",
       "    <tr style=\"text-align: right;\">\n",
       "      <th></th>\n",
       "      <th>HeartDisease</th>\n",
       "      <th>BMI</th>\n",
       "      <th>Smoking</th>\n",
       "      <th>AlcoholDrinking</th>\n",
       "      <th>Stroke</th>\n",
       "      <th>PhysicalHealth</th>\n",
       "      <th>MentalHealth</th>\n",
       "      <th>DiffWalking</th>\n",
       "      <th>Sex</th>\n",
       "      <th>AgeCategory</th>\n",
       "      <th>...</th>\n",
       "      <th>AmericanIndian/AlaskanNative</th>\n",
       "      <th>Diabetic</th>\n",
       "      <th>DiabeticWhilePregnant</th>\n",
       "      <th>BorderlineDiabetic</th>\n",
       "      <th>PhysicalActivity</th>\n",
       "      <th>GenHealth</th>\n",
       "      <th>SleepTime</th>\n",
       "      <th>Asthma</th>\n",
       "      <th>KidneyDisease</th>\n",
       "      <th>SkinCancer</th>\n",
       "    </tr>\n",
       "  </thead>\n",
       "  <tbody>\n",
       "    <tr>\n",
       "      <th>0</th>\n",
       "      <td>0</td>\n",
       "      <td>16.60</td>\n",
       "      <td>1</td>\n",
       "      <td>0</td>\n",
       "      <td>0</td>\n",
       "      <td>3.0</td>\n",
       "      <td>30.0</td>\n",
       "      <td>0</td>\n",
       "      <td>1</td>\n",
       "      <td>7</td>\n",
       "      <td>...</td>\n",
       "      <td>0</td>\n",
       "      <td>1</td>\n",
       "      <td>0</td>\n",
       "      <td>0</td>\n",
       "      <td>1</td>\n",
       "      <td>4</td>\n",
       "      <td>5.0</td>\n",
       "      <td>1</td>\n",
       "      <td>0</td>\n",
       "      <td>1</td>\n",
       "    </tr>\n",
       "    <tr>\n",
       "      <th>1</th>\n",
       "      <td>0</td>\n",
       "      <td>20.34</td>\n",
       "      <td>0</td>\n",
       "      <td>0</td>\n",
       "      <td>1</td>\n",
       "      <td>0.0</td>\n",
       "      <td>0.0</td>\n",
       "      <td>0</td>\n",
       "      <td>1</td>\n",
       "      <td>12</td>\n",
       "      <td>...</td>\n",
       "      <td>0</td>\n",
       "      <td>0</td>\n",
       "      <td>0</td>\n",
       "      <td>0</td>\n",
       "      <td>1</td>\n",
       "      <td>4</td>\n",
       "      <td>7.0</td>\n",
       "      <td>0</td>\n",
       "      <td>0</td>\n",
       "      <td>0</td>\n",
       "    </tr>\n",
       "    <tr>\n",
       "      <th>2</th>\n",
       "      <td>0</td>\n",
       "      <td>26.58</td>\n",
       "      <td>1</td>\n",
       "      <td>0</td>\n",
       "      <td>0</td>\n",
       "      <td>20.0</td>\n",
       "      <td>30.0</td>\n",
       "      <td>0</td>\n",
       "      <td>0</td>\n",
       "      <td>9</td>\n",
       "      <td>...</td>\n",
       "      <td>0</td>\n",
       "      <td>1</td>\n",
       "      <td>0</td>\n",
       "      <td>0</td>\n",
       "      <td>1</td>\n",
       "      <td>2</td>\n",
       "      <td>8.0</td>\n",
       "      <td>1</td>\n",
       "      <td>0</td>\n",
       "      <td>0</td>\n",
       "    </tr>\n",
       "  </tbody>\n",
       "</table>\n",
       "<p>3 rows × 25 columns</p>\n",
       "</div>"
      ],
      "text/plain": [
       "   HeartDisease    BMI  Smoking  AlcoholDrinking  Stroke  PhysicalHealth  \\\n",
       "0             0  16.60        1                0       0             3.0   \n",
       "1             0  20.34        0                0       1             0.0   \n",
       "2             0  26.58        1                0       0            20.0   \n",
       "\n",
       "   MentalHealth  DiffWalking  Sex  AgeCategory  ...  \\\n",
       "0          30.0            0    1            7  ...   \n",
       "1           0.0            0    1           12  ...   \n",
       "2          30.0            0    0            9  ...   \n",
       "\n",
       "   AmericanIndian/AlaskanNative  Diabetic  DiabeticWhilePregnant  \\\n",
       "0                             0         1                      0   \n",
       "1                             0         0                      0   \n",
       "2                             0         1                      0   \n",
       "\n",
       "   BorderlineDiabetic  PhysicalActivity  GenHealth  SleepTime  Asthma  \\\n",
       "0                   0                 1          4        5.0       1   \n",
       "1                   0                 1          4        7.0       0   \n",
       "2                   0                 1          2        8.0       1   \n",
       "\n",
       "   KidneyDisease  SkinCancer  \n",
       "0              0           1  \n",
       "1              0           0  \n",
       "2              0           0  \n",
       "\n",
       "[3 rows x 25 columns]"
      ]
     },
     "execution_count": 2,
     "metadata": {},
     "output_type": "execute_result"
    }
   ],
   "source": [
    "df = pd.read_csv('heart-2020-cleaned-numerical.csv') #data with feature \n",
    "df.head(3)\n",
    "# len(df.index)"
   ]
  },
  {
   "cell_type": "markdown",
   "id": "4bb2a7dc",
   "metadata": {},
   "source": [
    "# balancing data"
   ]
  },
  {
   "cell_type": "code",
   "execution_count": 3,
   "id": "075471c2",
   "metadata": {},
   "outputs": [],
   "source": [
    "\n",
    "df_HD = df.loc[df['HeartDisease'] == 1]\n",
    "df_NHD = df.loc[df['HeartDisease'] == 0]\n",
    "#get equal amount of sample of each\n",
    "df_HD = df_HD.sample(27373)\n",
    "df_NHD = df_NHD.sample(27373)\n",
    "# merge the two types\n",
    "df = pd.concat([df_HD, df_NHD], axis=0)"
   ]
  },
  {
   "cell_type": "markdown",
   "id": "8cebe8bb",
   "metadata": {},
   "source": [
    "# split data into training & testing data"
   ]
  },
  {
   "cell_type": "code",
   "execution_count": 4,
   "id": "5afe9726",
   "metadata": {},
   "outputs": [
    {
     "name": "stdout",
     "output_type": "stream",
     "text": [
      "training size:  43796 43796\n",
      "test size:  10950 10950\n"
     ]
    }
   ],
   "source": [
    "# set up training data\n",
    "X = df.loc[:, df.columns != 'HeartDisease']\n",
    "y = df['HeartDisease']\n",
    "X_train, X_test, y_train, y_test = train_test_split(X,y,test_size=0.2,random_state=0)\n",
    "print('training size: ', len(X_train), len(y_train))\n",
    "print('test size: ', len(X_test), len(y_test))"
   ]
  },
  {
   "cell_type": "markdown",
   "id": "029d83e9",
   "metadata": {},
   "source": [
    "# Best single model"
   ]
  },
  {
   "cell_type": "code",
   "execution_count": 5,
   "id": "bddeccbd",
   "metadata": {},
   "outputs": [
    {
     "name": "stdout",
     "output_type": "stream",
     "text": [
      "Simple Logistic Regression Results: 0.7671058425638686\n"
     ]
    }
   ],
   "source": [
    "# initial LR\n",
    "lr_model = LogisticRegression(solver='liblinear', C=10) #add parameters \n",
    "lr_cv_results = cross_validate(lr_model, X_train, y_train, cv=5, scoring='f1') \n",
    "print('Simple Logistic Regression Results:', lr_cv_results['test_score'].mean())\n"
   ]
  },
  {
   "cell_type": "markdown",
   "id": "f35a4e7c",
   "metadata": {},
   "source": [
    "# trying LR model with adaBooster"
   ]
  },
  {
   "cell_type": "code",
   "execution_count": 8,
   "id": "808e7e0d",
   "metadata": {},
   "outputs": [
    {
     "name": "stdout",
     "output_type": "stream",
     "text": [
      "ada booster test score:  0.7633802153140854\n"
     ]
    }
   ],
   "source": [
    "adaclf = AdaBoostClassifier(base_estimator=lr_model)\n",
    "cv_results = cross_validate(adaclf, X_train, y_train, cv=5)\n",
    "print('ada booster test score: ', cv_results['test_score'].mean())"
   ]
  },
  {
   "cell_type": "code",
   "execution_count": 9,
   "id": "adb10050",
   "metadata": {},
   "outputs": [
    {
     "name": "stdout",
     "output_type": "stream",
     "text": [
      "best params:  {'learning_rate': 1.8}\n",
      "score on testing test:  0.7713069468345258\n"
     ]
    }
   ],
   "source": [
    "# tuning adabooster\n",
    "parameters = {'learning_rate':[1, 1.2, 1.4, 1.6, 1.8]}\n",
    "adaclf = AdaBoostClassifier(base_estimator=lr_model)\n",
    "adaclfgs = GridSearchCV(adaclf, parameters,cv=5, scoring='f1')#liblinear allow l1 panelty as well\n",
    "adaclfgs.fit(X_train,y_train)\n",
    "print(\"best params: \", adaclfgs.best_params_)\n",
    "print('score on testing test: ', adaclfgs.score(X_test, y_test)) #gives .86"
   ]
  },
  {
   "cell_type": "code",
   "execution_count": 20,
   "id": "5440493d",
   "metadata": {},
   "outputs": [
    {
     "name": "stdout",
     "output_type": "stream",
     "text": [
      "ada boosting score:  0.7672146118721461\n"
     ]
    }
   ],
   "source": [
    "# tuning adabooster\n",
    "adaclf2 = AdaBoostClassifier(base_estimator=lr_model, learning_rate=1.8)\n",
    "adaclf2.fit(X_train, y_train)\n",
    "adaclf2.predict(X_test)\n",
    "print(\"ada boosting score: \", adaclf2.score(X_test, y_test))"
   ]
  },
  {
   "cell_type": "code",
   "execution_count": 17,
   "id": "4e393c0e",
   "metadata": {},
   "outputs": [
    {
     "name": "stdout",
     "output_type": "stream",
     "text": [
      "Accuracy: 0.7679452054794521\n",
      "f1: 0.7709366267015235\n",
      "roc: 0.7680559245269699\n"
     ]
    }
   ],
   "source": [
    "# tuning adabooster\n",
    "adaclf3 = AdaBoostClassifier(base_estimator=lr_model, n_estimators=150,learning_rate=1.8)\n",
    "adaclf3 = adaclf3.fit(X_train, y_train)\n",
    "y_pred = adaclf3.predict(X_test)\n",
    "print(\"Accuracy:\",metrics.accuracy_score(y_test, y_pred))\n",
    "print('f1:', metrics.f1_score(y_test, y_pred))\n",
    "print('roc:', metrics.roc_auc_score(y_test, y_pred))"
   ]
  },
  {
   "cell_type": "markdown",
   "id": "c81f3c2c",
   "metadata": {},
   "source": [
    "## trying LR model with Voting Classifier"
   ]
  },
  {
   "cell_type": "code",
   "execution_count": 21,
   "id": "a832f962",
   "metadata": {},
   "outputs": [
    {
     "name": "stdout",
     "output_type": "stream",
     "text": [
      "voting hard test score:  0.7650013788817869\n"
     ]
    }
   ],
   "source": [
    "vtgclf = VotingClassifier(estimators=[('lr', lr_model), ('lr2', lr_model), ('lr3', lr_model), ('lr4', lr_model), ('lr5', lr_model), ('lr6', lr_model), ('lr7', lr_model), ('lr8', lr_model), ('lr9', lr_model), ('lr10', lr_model), ('lr11', lr_model), ('lr12', lr_model), ('lr13', lr_model), ('lr14', lr_model), ('lr15', lr_model), ('lr16', lr_model), ('lr17', lr_model), ('lr18', lr_model), ('lr19', lr_model), ('lr20', lr_model), ('lr21', lr_model)], voting='hard')\n",
    "cv_results = cross_validate(vtgclf, X_train, y_train, cv=5)\n",
    "print('voting hard test score: ', cv_results['test_score'].mean())"
   ]
  },
  {
   "cell_type": "code",
   "execution_count": 15,
   "id": "ebcf7021",
   "metadata": {},
   "outputs": [
    {
     "name": "stdout",
     "output_type": "stream",
     "text": [
      "voting soft test score:  0.842260852405229\n"
     ]
    }
   ],
   "source": [
    "vtgclf = VotingClassifier(estimators=[('lr', lr_model), ('lr2', lr_model), ('lr3', lr_model)], voting='soft' )\n",
    "cv_results = cross_validate(vtgclf, X_train, y_train, cv=5,  scoring='roc_auc')\n",
    "print('voting soft test score: ', cv_results['test_score'].mean())"
   ]
  },
  {
   "cell_type": "code",
   "execution_count": 12,
   "id": "ad444993",
   "metadata": {},
   "outputs": [
    {
     "name": "stdout",
     "output_type": "stream",
     "text": [
      "voting soft test score:  0.8414712774868238\n"
     ]
    }
   ],
   "source": [
    "vtgclf2 = VotingClassifier(estimators=[('lr', lr_model), ('lr2', lr_model), ('lr3', lr_model), ('lr4', lr_model), ('lr5', lr_model), ('lr6', lr_model), ('lr7', lr_model), ('lr8', lr_model), ('lr9', lr_model), ('lr10', lr_model), ('lr11', lr_model), ('lr12', lr_model), ('lr13', lr_model), ('lr14', lr_model), ('lr15', lr_model), ('lr16', lr_model), ('lr17', lr_model), ('lr18', lr_model), ('lr19', lr_model), ('lr20', lr_model), ('lr21', lr_model)], voting='soft')\n",
    "cv_results = cross_validate(vtgclf2, X_train, y_train, cv=5,  scoring='roc_auc')\n",
    "print('voting soft test score: ', cv_results['test_score'].mean())"
   ]
  },
  {
   "cell_type": "code",
   "execution_count": 13,
   "id": "e1b2b172",
   "metadata": {},
   "outputs": [
    {
     "name": "stdout",
     "output_type": "stream",
     "text": [
      "kmeans score:  0.5031050228310502\n",
      "kmeans score:  0.411324200913242\n",
      "kmeans score:  0.485296803652968\n",
      "kmeans score:  0.1749771689497717\n",
      "kmeans score:  0.38794520547945205\n",
      "kmeans score:  0.20191780821917807\n",
      "kmeans score:  0.22812785388127854\n",
      "kmeans score:  0.1678538812785388\n",
      "kmeans score:  0.049406392694063925\n"
     ]
    }
   ],
   "source": [
    "# trying clustering\n",
    "\n",
    "for x in range(1,10):\n",
    "    kmeans = KMeans(n_clusters=x).fit(X_train)\n",
    "    y_pred = kmeans.predict(X_test)\n",
    "    print(\"kmeans score: \", metrics.accuracy_score(y_test, y_pred))\n",
    "    "
   ]
  },
  {
   "cell_type": "markdown",
   "id": "3811353d",
   "metadata": {},
   "source": [
    "## trying LR model with stacking classifier"
   ]
  },
  {
   "cell_type": "code",
   "execution_count": 19,
   "id": "1d0d0806",
   "metadata": {},
   "outputs": [
    {
     "name": "stdout",
     "output_type": "stream",
     "text": [
      "f1: 0.7709889318815801\n",
      "roc: 0.7677019566218171\n"
     ]
    }
   ],
   "source": [
    "#stacking\n",
    "estimators = [('lr', lr_model), ('lr2', lr_model), ('lr3', lr_model), ('lr4', lr_model), ('lr5', lr_model), ('lr6', lr_model), ('lr7', lr_model), ('lr8', lr_model), ('lr9', lr_model), ('lr10', lr_model), ('lr11', lr_model), ('lr12', lr_model), ('lr13', lr_model), ('lr14', lr_model), ('lr15', lr_model), ('lr16', lr_model), ('lr17', lr_model), ('lr18', lr_model), ('lr19', lr_model), ('lr20', lr_model), ('lr21', lr_model)]\n",
    "clf = StackingClassifier(estimators=estimators, final_estimator=LogisticRegression())\n",
    "clf.fit(X_train, y_train).score(X_test, y_test)\n",
    "y_pred = clf.predict(X_test)\n",
    "print('f1:', metrics.f1_score(y_test, y_pred))\n",
    "print('roc:', metrics.roc_auc_score(y_test, y_pred))"
   ]
  },
  {
   "cell_type": "markdown",
   "id": "8f2f0b3d",
   "metadata": {},
   "source": [
    "trying LR model with bagging classifier"
   ]
  },
  {
   "cell_type": "code",
   "execution_count": 25,
   "id": "ad0d5be8",
   "metadata": {},
   "outputs": [
    {
     "name": "stdout",
     "output_type": "stream",
     "text": [
      "f1: 0.7701583873290136\n",
      "roc: 0.7668794399660591\n"
     ]
    }
   ],
   "source": [
    "# bagging\n",
    "clf = BaggingClassifier(base_estimator=lr_model, n_estimators=100, random_state=0, max_features=20)\n",
    "clf.fit(X_train, y_train).score(X_test, y_test)\n",
    "y_pred = clf.predict(X_test)\n",
    "print('f1:', metrics.f1_score(y_test, y_pred))\n",
    "print('roc:', metrics.roc_auc_score(y_test, y_pred))"
   ]
  },
  {
   "cell_type": "code",
   "execution_count": 47,
   "id": "333af5ff",
   "metadata": {},
   "outputs": [
    {
     "data": {
      "text/plain": [
       "0.7445662100456621"
      ]
     },
     "execution_count": 47,
     "metadata": {},
     "output_type": "execute_result"
    }
   ],
   "source": [
    "clf = RandomForestClassifier(max_depth=2, random_state=0)\n",
    "clf.fit(X_train, y_train).score(X_test, y_test)"
   ]
  },
  {
   "cell_type": "code",
   "execution_count": 52,
   "id": "466c85b3",
   "metadata": {},
   "outputs": [
    {
     "name": "stdout",
     "output_type": "stream",
     "text": [
      "best params:  {'learning_rate': 1}\n",
      "score on testing test:  0.8439799717552962\n"
     ]
    }
   ],
   "source": [
    "# roc for ada\n",
    "parameters = {'learning_rate':[1, 1.2, 1.4, 1.6, 1.8]}\n",
    "adaclf = AdaBoostClassifier(base_estimator=lr_model)\n",
    "adaclfgs = GridSearchCV(adaclf, parameters,cv=5, scoring='roc_auc')#liblinear allow l1 panelty as well\n",
    "adaclfgs.fit(X_train,y_train)\n",
    "print(\"best params: \", adaclfgs.best_params_)\n",
    "print('score on testing test: ', adaclfgs.score(X_test, y_test)) #gives .86"
   ]
  },
  {
   "cell_type": "code",
   "execution_count": null,
   "id": "5879a050",
   "metadata": {},
   "outputs": [],
   "source": [
    "printing roc_auc & f1 scores for 4 ensemble methods"
   ]
  },
  {
   "cell_type": "code",
   "execution_count": 28,
   "id": "e435fc1b",
   "metadata": {},
   "outputs": [
    {
     "name": "stdout",
     "output_type": "stream",
     "text": [
      "bagging rc:  0.8413126701547636\n",
      "bagging f1:  0.7652334727807286\n",
      "stacking rc:  0.8414712774868238\n",
      "stacking f1:  0.7662632502624483\n",
      "ada rc:  0.8412065947671803\n",
      "ada f1:  0.7655240746563294\n",
      "voting rc:  0.8414712774868238\n",
      "voting f1:  0.7671058425638686\n"
     ]
    }
   ],
   "source": [
    "# bagging\n",
    "clf = BaggingClassifier(base_estimator=lr_model, n_estimators=100, random_state=0, max_features=20)\n",
    "cv_results = cross_validate(clf, X_train, y_train, cv=5,  scoring='roc_auc')\n",
    "print('bagging rc: ', cv_results['test_score'].mean())\n",
    "f1bag = cv_results['test_score'].mean()\n",
    "cv_results = cross_validate(clf, X_train, y_train, cv=5,  scoring='f1')\n",
    "print('bagging f1: ', cv_results['test_score'].mean())\n",
    "rocbag= cv_results['test_score'].mean()\n",
    "\n",
    "#stacking\n",
    "estimators = [('lr', lr_model), ('lr2', lr_model), ('lr3', lr_model), ('lr4', lr_model), ('lr5', lr_model), ('lr6', lr_model), ('lr7', lr_model), ('lr8', lr_model), ('lr9', lr_model), ('lr10', lr_model), ('lr11', lr_model), ('lr12', lr_model), ('lr13', lr_model), ('lr14', lr_model), ('lr15', lr_model), ('lr16', lr_model), ('lr17', lr_model), ('lr18', lr_model), ('lr19', lr_model), ('lr20', lr_model), ('lr21', lr_model)]\n",
    "clf = StackingClassifier(estimators=estimators, final_estimator=LogisticRegression())\n",
    "cv_results = cross_validate(clf, X_train, y_train, cv=5,  scoring='roc_auc')\n",
    "print('stacking rc: ', cv_results['test_score'].mean())\n",
    "f1stack = cv_results['test_score'].mean()\n",
    "cv_results = cross_validate(clf, X_train, y_train, cv=5,  scoring='f1')\n",
    "print('stacking f1: ', cv_results['test_score'].mean())\n",
    "rocstack= cv_results['test_score'].mean()\n",
    "\n",
    "#ada\n",
    "adaclf3 = AdaBoostClassifier(base_estimator=lr_model, n_estimators=150,learning_rate=1.8)\n",
    "cv_results = cross_validate(adaclf3, X_train, y_train, cv=5,  scoring='roc_auc')\n",
    "print('ada rc: ', cv_results['test_score'].mean())\n",
    "f1ada = cv_results['test_score'].mean()\n",
    "cv_results = cross_validate(adaclf3, X_train, y_train, cv=5,  scoring='f1')\n",
    "print('ada f1: ', cv_results['test_score'].mean())\n",
    "rocada= cv_results['test_score'].mean()\n",
    "\n",
    "#voting\n",
    "vtgclf2 = VotingClassifier(estimators=[('lr', lr_model), ('lr2', lr_model), ('lr3', lr_model), ('lr4', lr_model), ('lr5', lr_model), ('lr6', lr_model), ('lr7', lr_model), ('lr8', lr_model), ('lr9', lr_model), ('lr10', lr_model), ('lr11', lr_model), ('lr12', lr_model), ('lr13', lr_model), ('lr14', lr_model), ('lr15', lr_model), ('lr16', lr_model), ('lr17', lr_model), ('lr18', lr_model), ('lr19', lr_model), ('lr20', lr_model), ('lr21', lr_model)], voting='soft')\n",
    "cv_results = cross_validate(vtgclf2, X_train, y_train, cv=5,  scoring='roc_auc')\n",
    "print('voting rc: ', cv_results['test_score'].mean())\n",
    "f1vtg = cv_results['test_score'].mean()\n",
    "cv_results = cross_validate(vtgclf2, X_train, y_train, cv=5,  scoring='f1')\n",
    "print('voting f1: ', cv_results['test_score'].mean())\n",
    "rocvtg= cv_results['test_score'].mean()\n"
   ]
  },
  {
   "cell_type": "markdown",
   "id": "9f1fab96",
   "metadata": {},
   "source": [
    "## graphing the above results"
   ]
  },
  {
   "cell_type": "code",
   "execution_count": 30,
   "id": "a31d656c",
   "metadata": {},
   "outputs": [
    {
     "name": "stdout",
     "output_type": "stream",
     "text": [
      "['bagging', 'stacking', 'adaBooster', 'voting'] [0.8413126701547636, 0.8414712774868238, 0.8412065947671803, 0.8414712774868238] [0.7652334727807286, 0.7662632502624483, 0.7655240746563294, 0.7671058425638686]\n"
     ]
    }
   ],
   "source": [
    "xaxis = ['bagging', 'stacking', 'adaBooster', 'voting']\n",
    "f1scores = [f1bag,f1stack,f1ada, f1vtg]\n",
    "rocscores = [rocbag, rocstack, rocada, rocvtg]\n",
    "print(xaxis, f1scores, rocscores)"
   ]
  },
  {
   "cell_type": "code",
   "execution_count": 42,
   "id": "450521fa",
   "metadata": {},
   "outputs": [
    {
     "data": {
      "image/png": "[encoded data removed]",
      "text/plain": [
       "<Figure size 432x288 with 1 Axes>"
      ]
     },
     "metadata": {
      "needs_background": "light"
     },
     "output_type": "display_data"
    }
   ],
   "source": [
    "plt.bar(xaxis, f1scores, 0.4, label = 'roc_aoc')\n",
    "plt.bar(xaxis, rocscores, 0.4, label = 'f1')\n",
    "\n",
    "plt.xlabel(\"Ensemble Methods\")\n",
    "plt.ylabel(\"Scores\")\n",
    "plt.title(\"performance of ensemble models with LR\")\n",
    "plt.legend()\n",
    "plt.show()"
   ]
  },
  {
   "cell_type": "code",
   "execution_count": null,
   "id": "cd4685f6",
   "metadata": {},
   "outputs": [],
   "source": []
  }
 ],
 "metadata": {
  "kernelspec": {
   "display_name": "Python 3 (ipykernel)",
   "language": "python",
   "name": "python3"
  },
  "language_info": {
   "codemirror_mode": {
    "name": "ipython",
    "version": 3
   },
   "file_extension": ".py",
   "mimetype": "text/x-python",
   "name": "python",
   "nbconvert_exporter": "python",
   "pygments_lexer": "ipython3",
   "version": "3.9.7"
  }
 },
 "nbformat": 4,
 "nbformat_minor": 5
}
