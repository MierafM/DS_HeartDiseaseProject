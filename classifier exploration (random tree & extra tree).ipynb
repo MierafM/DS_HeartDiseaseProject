{
 "cells": [
  {
   "cell_type": "markdown",
   "id": "174c2c68",
   "metadata": {},
   "source": [
    "## turn categorical data into numerical"
   ]
  },
  {
   "cell_type": "code",
   "execution_count": 2,
   "id": "a90626c7",
   "metadata": {},
   "outputs": [],
   "source": [
    "\n",
    "from sklearn.model_selection import train_test_split\n",
    "import pandas as pd\n",
    "import numpy as np\n",
    "df = pd.read_csv('heart-2020-cleaned-numerical.csv')\n"
   ]
  },
  {
   "cell_type": "code",
   "execution_count": 3,
   "id": "99c0b8b9",
   "metadata": {},
   "outputs": [
    {
     "name": "stdout",
     "output_type": "stream",
     "text": [
      "319795\n"
     ]
    }
   ],
   "source": [
    "print(len(df))"
   ]
  },
  {
   "cell_type": "code",
   "execution_count": 4,
   "id": "5b5df2e0",
   "metadata": {},
   "outputs": [
    {
     "data": {
      "text/html": [
       "<div>\n",
       "<style scoped>\n",
       "    .dataframe tbody tr th:only-of-type {\n",
       "        vertical-align: middle;\n",
       "    }\n",
       "\n",
       "    .dataframe tbody tr th {\n",
       "        vertical-align: top;\n",
       "    }\n",
       "\n",
       "    .dataframe thead th {\n",
       "        text-align: right;\n",
       "    }\n",
       "</style>\n",
       "<table border=\"1\" class=\"dataframe\">\n",
       "  <thead>\n",
       "    <tr style=\"text-align: right;\">\n",
       "      <th></th>\n",
       "      <th>HeartDisease</th>\n",
       "      <th>BMI</th>\n",
       "      <th>Smoking</th>\n",
       "      <th>AlcoholDrinking</th>\n",
       "      <th>Stroke</th>\n",
       "      <th>PhysicalHealth</th>\n",
       "      <th>MentalHealth</th>\n",
       "      <th>DiffWalking</th>\n",
       "      <th>Sex</th>\n",
       "      <th>AgeCategory</th>\n",
       "      <th>...</th>\n",
       "      <th>AmericanIndian/AlaskanNative</th>\n",
       "      <th>Diabetic</th>\n",
       "      <th>DiabeticWhilePregnant</th>\n",
       "      <th>BorderlineDiabetic</th>\n",
       "      <th>PhysicalActivity</th>\n",
       "      <th>GenHealth</th>\n",
       "      <th>SleepTime</th>\n",
       "      <th>Asthma</th>\n",
       "      <th>KidneyDisease</th>\n",
       "      <th>SkinCancer</th>\n",
       "    </tr>\n",
       "  </thead>\n",
       "  <tbody>\n",
       "    <tr>\n",
       "      <th>0</th>\n",
       "      <td>0</td>\n",
       "      <td>16.60</td>\n",
       "      <td>1</td>\n",
       "      <td>0</td>\n",
       "      <td>0</td>\n",
       "      <td>3.0</td>\n",
       "      <td>30.0</td>\n",
       "      <td>0</td>\n",
       "      <td>1</td>\n",
       "      <td>7</td>\n",
       "      <td>...</td>\n",
       "      <td>0</td>\n",
       "      <td>1</td>\n",
       "      <td>0</td>\n",
       "      <td>0</td>\n",
       "      <td>1</td>\n",
       "      <td>4</td>\n",
       "      <td>5.0</td>\n",
       "      <td>1</td>\n",
       "      <td>0</td>\n",
       "      <td>1</td>\n",
       "    </tr>\n",
       "    <tr>\n",
       "      <th>1</th>\n",
       "      <td>0</td>\n",
       "      <td>20.34</td>\n",
       "      <td>0</td>\n",
       "      <td>0</td>\n",
       "      <td>1</td>\n",
       "      <td>0.0</td>\n",
       "      <td>0.0</td>\n",
       "      <td>0</td>\n",
       "      <td>1</td>\n",
       "      <td>12</td>\n",
       "      <td>...</td>\n",
       "      <td>0</td>\n",
       "      <td>0</td>\n",
       "      <td>0</td>\n",
       "      <td>0</td>\n",
       "      <td>1</td>\n",
       "      <td>4</td>\n",
       "      <td>7.0</td>\n",
       "      <td>0</td>\n",
       "      <td>0</td>\n",
       "      <td>0</td>\n",
       "    </tr>\n",
       "    <tr>\n",
       "      <th>2</th>\n",
       "      <td>0</td>\n",
       "      <td>26.58</td>\n",
       "      <td>1</td>\n",
       "      <td>0</td>\n",
       "      <td>0</td>\n",
       "      <td>20.0</td>\n",
       "      <td>30.0</td>\n",
       "      <td>0</td>\n",
       "      <td>0</td>\n",
       "      <td>9</td>\n",
       "      <td>...</td>\n",
       "      <td>0</td>\n",
       "      <td>1</td>\n",
       "      <td>0</td>\n",
       "      <td>0</td>\n",
       "      <td>1</td>\n",
       "      <td>2</td>\n",
       "      <td>8.0</td>\n",
       "      <td>1</td>\n",
       "      <td>0</td>\n",
       "      <td>0</td>\n",
       "    </tr>\n",
       "    <tr>\n",
       "      <th>3</th>\n",
       "      <td>0</td>\n",
       "      <td>24.21</td>\n",
       "      <td>0</td>\n",
       "      <td>0</td>\n",
       "      <td>0</td>\n",
       "      <td>0.0</td>\n",
       "      <td>0.0</td>\n",
       "      <td>0</td>\n",
       "      <td>1</td>\n",
       "      <td>11</td>\n",
       "      <td>...</td>\n",
       "      <td>0</td>\n",
       "      <td>0</td>\n",
       "      <td>0</td>\n",
       "      <td>0</td>\n",
       "      <td>0</td>\n",
       "      <td>3</td>\n",
       "      <td>6.0</td>\n",
       "      <td>0</td>\n",
       "      <td>0</td>\n",
       "      <td>1</td>\n",
       "    </tr>\n",
       "    <tr>\n",
       "      <th>4</th>\n",
       "      <td>0</td>\n",
       "      <td>23.71</td>\n",
       "      <td>0</td>\n",
       "      <td>0</td>\n",
       "      <td>0</td>\n",
       "      <td>28.0</td>\n",
       "      <td>0.0</td>\n",
       "      <td>1</td>\n",
       "      <td>1</td>\n",
       "      <td>4</td>\n",
       "      <td>...</td>\n",
       "      <td>0</td>\n",
       "      <td>0</td>\n",
       "      <td>0</td>\n",
       "      <td>0</td>\n",
       "      <td>1</td>\n",
       "      <td>4</td>\n",
       "      <td>8.0</td>\n",
       "      <td>0</td>\n",
       "      <td>0</td>\n",
       "      <td>0</td>\n",
       "    </tr>\n",
       "  </tbody>\n",
       "</table>\n",
       "<p>5 rows × 25 columns</p>\n",
       "</div>"
      ],
      "text/plain": [
       "   HeartDisease    BMI  Smoking  AlcoholDrinking  Stroke  PhysicalHealth  \\\n",
       "0             0  16.60        1                0       0             3.0   \n",
       "1             0  20.34        0                0       1             0.0   \n",
       "2             0  26.58        1                0       0            20.0   \n",
       "3             0  24.21        0                0       0             0.0   \n",
       "4             0  23.71        0                0       0            28.0   \n",
       "\n",
       "   MentalHealth  DiffWalking  Sex  AgeCategory  ...  \\\n",
       "0          30.0            0    1            7  ...   \n",
       "1           0.0            0    1           12  ...   \n",
       "2          30.0            0    0            9  ...   \n",
       "3           0.0            0    1           11  ...   \n",
       "4           0.0            1    1            4  ...   \n",
       "\n",
       "   AmericanIndian/AlaskanNative  Diabetic  DiabeticWhilePregnant  \\\n",
       "0                             0         1                      0   \n",
       "1                             0         0                      0   \n",
       "2                             0         1                      0   \n",
       "3                             0         0                      0   \n",
       "4                             0         0                      0   \n",
       "\n",
       "   BorderlineDiabetic  PhysicalActivity  GenHealth  SleepTime  Asthma  \\\n",
       "0                   0                 1          4        5.0       1   \n",
       "1                   0                 1          4        7.0       0   \n",
       "2                   0                 1          2        8.0       1   \n",
       "3                   0                 0          3        6.0       0   \n",
       "4                   0                 1          4        8.0       0   \n",
       "\n",
       "   KidneyDisease  SkinCancer  \n",
       "0              0           1  \n",
       "1              0           0  \n",
       "2              0           0  \n",
       "3              0           1  \n",
       "4              0           0  \n",
       "\n",
       "[5 rows x 25 columns]"
      ]
     },
     "execution_count": 4,
     "metadata": {},
     "output_type": "execute_result"
    }
   ],
   "source": [
    "df = df.replace('Yes', 1, regex=True).replace('No', 0, regex=True).replace('Yes (during pregnancy)', 1, regex=True)\n",
    "df = df.replace('Female', 0, regex=True).replace('Male', 1, regex=True)\n",
    "df = df.replace('18-24', 0, regex=True).replace(\"25-29\", 1, regex=True).replace(\"30-34\", 2, regex=True).replace(\"35-39\", 3, regex=True)\n",
    "df = df.replace(\"40-44\", 4, regex=True).replace(\"45-49\", 5, regex=True).replace(\"50-54\", 6, regex=True).replace(\"55-59\", 7, regex=True)\n",
    "df = df.replace(\"60-64\", 8, regex=True).replace(\"65-69\", 9, regex=True).replace(\"70-74\", 10, regex=True).replace(\"75-79\", 11, regex=True).replace(\"80 or older\", 12, regex=True)\n",
    "\n",
    "df =df.replace(\"American Indian/Alaskan Native\", 0, regex=True)\n",
    "df =df.replace(\"Asian\", 1, regex=True)\n",
    "df =df.replace(\"Black\", 2, regex=True)\n",
    "df =df.replace(\"Hispanic\", 3, regex=True)\n",
    "df =df.replace(\"White\", 4, regex=True)\n",
    "df =df.replace(\"Other\", 5, regex=True)\n",
    "\n",
    "\n",
    "\n",
    "df.head(5)"
   ]
  },
  {
   "cell_type": "markdown",
   "id": "22113e1a",
   "metadata": {},
   "source": [
    "## balance data"
   ]
  },
  {
   "cell_type": "code",
   "execution_count": 5,
   "id": "55ba2025",
   "metadata": {},
   "outputs": [],
   "source": [
    "# seperate by col value\n",
    "df_HD = df.loc[df['HeartDisease'] == 1]\n",
    "df_NHD = df.loc[df['HeartDisease'] == 0]\n",
    "\n",
    "#get equal amount of sample of each\n",
    "df_HD = df_HD.sample(27373)\n",
    "df_NHD = df_NHD.sample(27373)\n",
    "# merge the two types\n",
    "df = pd.concat([df_HD, df_NHD], axis=0)\n"
   ]
  },
  {
   "cell_type": "markdown",
   "id": "34b9833b",
   "metadata": {},
   "source": [
    "## split into testing and training data"
   ]
  },
  {
   "cell_type": "code",
   "execution_count": 6,
   "id": "9724c6c4",
   "metadata": {},
   "outputs": [],
   "source": [
    "X = df.loc[:, df.columns != 'HeartDisease']\n",
    "y = df['HeartDisease']\n",
    "X_train, X_test, y_train, y_test = train_test_split(X,y,test_size=0.2,random_state=0)\n"
   ]
  },
  {
   "cell_type": "markdown",
   "id": "07a0665b",
   "metadata": {},
   "source": [
    "## Random Forest Classifier Training"
   ]
  },
  {
   "cell_type": "code",
   "execution_count": 7,
   "id": "c624d980",
   "metadata": {},
   "outputs": [],
   "source": [
    "from sklearn.ensemble import RandomForestClassifier\n",
    "from sklearn.model_selection import cross_validate\n",
    "from sklearn.model_selection import GridSearchCV"
   ]
  },
  {
   "cell_type": "code",
   "execution_count": 8,
   "id": "5339579c",
   "metadata": {},
   "outputs": [
    {
     "name": "stdout",
     "output_type": "stream",
     "text": [
      "random forest test score:  0.7478995277395044\n"
     ]
    }
   ],
   "source": [
    "# basic model\n",
    "rfclf = RandomForestClassifier()\n",
    "cv_results = cross_validate(rfclf, X_train, y_train, cv=5)\n",
    "print('random forest test score: ', sum(cv_results['test_score'])/len(cv_results['test_score']))"
   ]
  },
  {
   "cell_type": "code",
   "execution_count": 9,
   "id": "741414ff",
   "metadata": {},
   "outputs": [
    {
     "name": "stdout",
     "output_type": "stream",
     "text": [
      "Fitting 5 folds for each of 121 candidates, totalling 605 fits\n"
     ]
    },
    {
     "name": "stderr",
     "output_type": "stream",
     "text": [
      "C:\\Users\\miera\\anaconda3\\lib\\site-packages\\sklearn\\model_selection\\_search.py:922: UserWarning: One or more of the test scores are non-finite: [       nan        nan        nan        nan        nan        nan\n",
      "        nan        nan        nan        nan        nan        nan\n",
      "        nan 0.73971839 0.73598944 0.74055637 0.72944485 0.73597891\n",
      " 0.74225056 0.73974472 0.73647545 0.74139944        nan        nan\n",
      " 0.74916764 0.74332767 0.7478682  0.74745713 0.74972833 0.74966221\n",
      " 0.74804913 0.74984721 0.74907415        nan        nan 0.75274163\n",
      " 0.75462933 0.75321943 0.75335608 0.75596377 0.75334713 0.75444664\n",
      " 0.75368843 0.75236282        nan        nan 0.75925897 0.75881999\n",
      " 0.75566199 0.75769641 0.7622111  0.75677112 0.75882825 0.75686817\n",
      " 0.75808667        nan        nan 0.76179717 0.76169359 0.76304671\n",
      " 0.760205   0.7658424  0.76352444 0.76077033 0.76442853 0.76122001\n",
      "        nan        nan 0.77077836 0.7703168  0.76788432 0.76955957\n",
      " 0.7666366  0.77059338 0.76844152 0.76936875 0.77042752        nan\n",
      "        nan 0.77223791 0.77185413 0.77219964 0.77168378 0.77216836\n",
      " 0.77250296 0.77246191 0.77166509 0.77209806        nan        nan\n",
      " 0.77637399 0.77534528 0.77540727 0.77583967 0.77456533 0.77410421\n",
      " 0.77562426 0.77442737 0.7734813         nan        nan 0.77706978\n",
      " 0.77604931 0.77715841 0.77622652 0.77609003 0.77625491 0.77708367\n",
      " 0.77702861 0.77635449        nan        nan 0.77770335 0.77815979\n",
      " 0.77846551 0.77806885 0.77880353 0.77823002 0.77832584 0.77809166\n",
      " 0.77769513]\n",
      "  warnings.warn(\n"
     ]
    },
    {
     "data": {
      "text/plain": [
       "GridSearchCV(cv=5, estimator=RandomForestClassifier(), n_jobs=-1,\n",
       "             param_grid={'max_depth': array([ 0,  1,  2,  3,  4,  5,  6,  7,  8,  9, 10]),\n",
       "                         'min_samples_split': array([ 0,  1,  2,  3,  4,  5,  6,  7,  8,  9, 10])},\n",
       "             scoring='f1', verbose=1)"
      ]
     },
     "execution_count": 9,
     "metadata": {},
     "output_type": "execute_result"
    }
   ],
   "source": [
    "#param tuning\n",
    "from sklearn.model_selection import GridSearchCV\n",
    "\n",
    "parameters = {\n",
    "    'max_depth' : np.arange(0,11, 1), \n",
    "    'min_samples_split': np.arange(0, 11, 1)\n",
    "    # 'subsample': np.arange(0, 1.1, 0.1)\n",
    "}\n",
    "rf = GridSearchCV(rfclf, parameters,cv=5, scoring='f1', verbose=1, n_jobs=-1)\n",
    "rf.fit(X_train,y_train)"
   ]
  },
  {
   "cell_type": "code",
   "execution_count": 9,
   "id": "103a3f92",
   "metadata": {},
   "outputs": [
    {
     "name": "stdout",
     "output_type": "stream",
     "text": [
      "rf test score:  0.7783873561931195\n",
      "rf best params {'max_depth': 9, 'min_samples_split': 8}\n"
     ]
    }
   ],
   "source": [
    "print('rf test score: ', rf.best_score_)\n",
    "print('rf best params', rf.best_params_)"
   ]
  },
  {
   "cell_type": "code",
   "execution_count": 10,
   "id": "231904df",
   "metadata": {},
   "outputs": [
    {
     "name": "stdout",
     "output_type": "stream",
     "text": [
      "random forest test score:  0.7442916353225202\n"
     ]
    }
   ],
   "source": [
    "rfclf2 = RandomForestClassifier()\n",
    "cv_results = cross_validate(rfclf2, X_train, y_train, cv=5)\n",
    "print('random forest test score: ', sum(cv_results['test_score'])/len(cv_results['test_score']))"
   ]
  },
  {
   "cell_type": "code",
   "execution_count": 11,
   "id": "c64b0a49",
   "metadata": {},
   "outputs": [
    {
     "name": "stdout",
     "output_type": "stream",
     "text": [
      "Fitting 5 folds for each of 210 candidates, totalling 1050 fits\n"
     ]
    },
    {
     "name": "stderr",
     "output_type": "stream",
     "text": [
      "C:\\Users\\miera\\anaconda3\\lib\\site-packages\\sklearn\\model_selection\\_search.py:922: UserWarning: One or more of the test scores are non-finite: [0.76773782 0.76573699 0.76803531 0.7684105  0.76661179 0.767091\n",
      " 0.76766955 0.77304273 0.7729229  0.77063199 0.77097623 0.7721425\n",
      " 0.77350469 0.77235356 0.77465447 0.77459331 0.77503228 0.77510224\n",
      " 0.77520971 0.77376032 0.77644184 0.77736354 0.77746554 0.77718108\n",
      " 0.77638182 0.77712488 0.77717055 0.77668138 0.77798107 0.77740342\n",
      " 0.77787144 0.7784808  0.7774338  0.77706044 0.77730936 0.77800822\n",
      " 0.77728169 0.77800382 0.77707355 0.77839178 0.77766639 0.77821013\n",
      " 0.77685552 0.7774886  0.77666864 0.77705139 0.77674822 0.77791822\n",
      " 0.77740307 0.77722848 0.77694036 0.77605247 0.77759858 0.77788482\n",
      " 0.77733781 0.77754587 0.77694435 0.77709379 0.77709359 0.77668682\n",
      " 0.77744498 0.77721293 0.77704685 0.77512404 0.77615997 0.77659114\n",
      " 0.77649544 0.77646018 0.77775736 0.77691907 0.7664774  0.76824267\n",
      " 0.76638659 0.76262168 0.76590064 0.76618889 0.76434059 0.77069628\n",
      " 0.77072128 0.76964634 0.77140863 0.7691715  0.77088368 0.77086945\n",
      " 0.77539116 0.77422191 0.77383756 0.7745268  0.77331858 0.77276674\n",
      " 0.77493952 0.77582764 0.77541809 0.77487398 0.77658701 0.77699696\n",
      " 0.77651    0.77591454 0.77766847 0.77830518 0.77688353 0.77721404\n",
      " 0.7776967  0.77697921 0.77726036 0.77723503 0.777096   0.77741877\n",
      " 0.77731078 0.77768984 0.77752452 0.7770588  0.77754623 0.77747188\n",
      " 0.77686267 0.77737229 0.77718076 0.77752644 0.77776648 0.77656006\n",
      " 0.77681474 0.77751845 0.77733609 0.77794366 0.77699516 0.77723002\n",
      " 0.77710551 0.77627135 0.77628738 0.77715997 0.7767145  0.77613994\n",
      " 0.77724001 0.77709813 0.77727677 0.77616775 0.77659322 0.77640546\n",
      " 0.77580822 0.77626953        nan        nan        nan        nan\n",
      "        nan        nan        nan        nan        nan        nan\n",
      "        nan        nan        nan        nan        nan        nan\n",
      "        nan        nan        nan        nan        nan        nan\n",
      "        nan        nan        nan        nan        nan        nan\n",
      "        nan        nan        nan        nan        nan        nan\n",
      "        nan        nan        nan        nan        nan        nan\n",
      "        nan        nan        nan        nan        nan        nan\n",
      "        nan        nan        nan        nan        nan        nan\n",
      "        nan        nan        nan        nan        nan        nan\n",
      "        nan        nan        nan        nan        nan        nan\n",
      "        nan        nan        nan        nan        nan        nan]\n",
      "  warnings.warn(\n"
     ]
    },
    {
     "data": {
      "text/plain": [
       "GridSearchCV(cv=5, estimator=RandomForestClassifier(), n_jobs=-1,\n",
       "             param_grid={'criterion': ['gini', 'entropy', 'log_loss'],\n",
       "                         'max_depth': array([ 5,  6,  7,  8,  9, 10, 11, 12, 13, 14]),\n",
       "                         'min_samples_split': array([ 8,  9, 10, 11, 12, 13, 14])},\n",
       "             scoring='f1', verbose=1)"
      ]
     },
     "execution_count": 11,
     "metadata": {},
     "output_type": "execute_result"
    }
   ],
   "source": [
    "# further param tuning\n",
    "parameters = {\n",
    "    'max_depth' : np.arange(5,15, 1), \n",
    "    'min_samples_split': np.arange(8, 15, 1),\n",
    "    'criterion': ['gini', 'entropy', 'log_loss']\n",
    "}\n",
    "rf2 = GridSearchCV(rfclf2, parameters,cv=5, scoring='f1', verbose=1, n_jobs=-1)\n",
    "rf2.fit(X_train,y_train)"
   ]
  },
  {
   "cell_type": "code",
   "execution_count": 12,
   "id": "c8f05dc4",
   "metadata": {},
   "outputs": [
    {
     "name": "stdout",
     "output_type": "stream",
     "text": [
      "rf test score:  0.7784807991221412\n",
      "rf best params {'criterion': 'gini', 'max_depth': 9, 'min_samples_split': 11}\n"
     ]
    }
   ],
   "source": [
    "print('rf test score: ', rf2.best_score_)\n",
    "print('rf best params', rf2.best_params_)\n",
    "# rf test score:  0.7784807991221412\n",
    "# rf best params {'criterion': 'gini', 'max_depth': 9, 'min_samples_split': 11}"
   ]
  },
  {
   "cell_type": "code",
   "execution_count": 12,
   "id": "361cd466",
   "metadata": {},
   "outputs": [
    {
     "name": "stdout",
     "output_type": "stream",
     "text": [
      "random forest test score:  0.7427619236782415\n"
     ]
    }
   ],
   "source": [
    "rfclf3 = RandomForestClassifier()\n",
    "cv_results3 = cross_validate(rfclf3, X_train, y_train, cv=5)\n",
    "print('random forest test score: ', sum(cv_results3['test_score'])/len(cv_results3['test_score']))"
   ]
  },
  {
   "cell_type": "code",
   "execution_count": 14,
   "id": "d1463caa",
   "metadata": {},
   "outputs": [
    {
     "name": "stdout",
     "output_type": "stream",
     "text": [
      "Fitting 5 folds for each of 720 candidates, totalling 3600 fits\n"
     ]
    },
    {
     "name": "stderr",
     "output_type": "stream",
     "text": [
      "C:\\Users\\miera\\anaconda3\\lib\\site-packages\\sklearn\\model_selection\\_search.py:922: UserWarning: One or more of the test scores are non-finite: [0.77616318 0.7763963  0.77609613 0.77611268 0.77653663 0.77595294\n",
      " 0.7764135  0.77620982 0.77689699 0.77739718 0.77657481 0.77665505\n",
      " 0.77643575 0.77660413 0.77665292 0.77590903 0.77720668 0.77704272\n",
      " 0.77681444 0.77644593 0.7762734  0.77679242 0.77728618 0.77663479\n",
      " 0.77680468 0.77576558 0.77619871 0.7764763  0.77598192 0.7762198\n",
      " 0.77710672 0.77650712 0.77642233 0.77688614 0.77763792 0.776049\n",
      " 0.77702976 0.77705729 0.77743784 0.77726572 0.77636633 0.77635294\n",
      " 0.77628816 0.77654798 0.77628837 0.77616524 0.77653314 0.77652623\n",
      " 0.77683364 0.77606658 0.7768064  0.77620518 0.77675957 0.77667423\n",
      " 0.77669975 0.77724008 0.77655095 0.77747865 0.77646571 0.77702427\n",
      " 0.77688063 0.77668577 0.77672682 0.77719305 0.77681308 0.77681818\n",
      " 0.77637431 0.7760033  0.77703014 0.77738352 0.77681394 0.7769357\n",
      " 0.77716133 0.7764997  0.77652863 0.77627146 0.77660062 0.77676141\n",
      " 0.77702134 0.77602099 0.77162277 0.77170133 0.7712073  0.77113151\n",
      " 0.7710506  0.77236012 0.77221597 0.77194777 0.77152645 0.77201015\n",
      " 0.77171473 0.77195909 0.77129264 0.77173852 0.7723252  0.77223281\n",
      " 0.77228548 0.77167401 0.77170797 0.77110412 0.77181926 0.77152954\n",
      " 0.77130844 0.77175577 0.7726096  0.77194197 0.77154453 0.77172584\n",
      " 0.77183048 0.77141723 0.77224405 0.77234844 0.7717433  0.7713911\n",
      " 0.77175527 0.77251934 0.77189305 0.77264096 0.77131379 0.77206719\n",
      " 0.77684886 0.7762735  0.77628071 0.77670648 0.77601938 0.77636298\n",
      " 0.77680891 0.77634686 0.77622172 0.77600531 0.77628051 0.77547118\n",
      " 0.77629497 0.77682072 0.7756392  0.77677459 0.77640287 0.77641239\n",
      " 0.77550693 0.77623024 0.7762857  0.77617182 0.77659889 0.77667283\n",
      " 0.77558815 0.77627327 0.77628375 0.77602273 0.77566534 0.77688414\n",
      " 0.7771295  0.77617802 0.77626395 0.77634957 0.77649215 0.77734857\n",
      " 0.77701846 0.77644184 0.77648115 0.77550052 0.77614305 0.77637306\n",
      " 0.77670166 0.77626271 0.7765471  0.77583627 0.77629282 0.77607486\n",
      " 0.77609839 0.7767731  0.77679347 0.77637322 0.77668974 0.77649702\n",
      " 0.77593512 0.77577875 0.77561706 0.77614317 0.7764941  0.77635907\n",
      " 0.77611946 0.77592482 0.7759862  0.77557967 0.77660787 0.77685042\n",
      " 0.77564145 0.77649356 0.77647521 0.77647484 0.77546328 0.77658889\n",
      " 0.77670361 0.77546869 0.77658731 0.77694136 0.77621683 0.77622866\n",
      " 0.77627755 0.7765969  0.77149652 0.77254218 0.77207342 0.77162428\n",
      " 0.7719308  0.77222293 0.77136356 0.77207189 0.77185375 0.77155014\n",
      " 0.77199214 0.77151069 0.77205837 0.77202642 0.77156578 0.77198137\n",
      " 0.77172694 0.77229796 0.7724222  0.77168335 0.77153271 0.77256769\n",
      " 0.77176924 0.77134663 0.77219207 0.77146298 0.77231276 0.77204701\n",
      " 0.77167276 0.7712809  0.7718478  0.77184811 0.77220877 0.77179154\n",
      " 0.77167958 0.77142535 0.77141345 0.77220211 0.77148576 0.77251066\n",
      "        nan        nan        nan        nan        nan        nan\n",
      "        nan        nan        nan        nan        nan        nan\n",
      "        nan        nan        nan        nan        nan        nan\n",
      "        nan        nan        nan        nan        nan        nan\n",
      "        nan        nan        nan        nan        nan        nan\n",
      "        nan        nan        nan        nan        nan        nan\n",
      "        nan        nan        nan        nan        nan        nan\n",
      "        nan        nan        nan        nan        nan        nan\n",
      "        nan        nan        nan        nan        nan        nan\n",
      "        nan        nan        nan        nan        nan        nan\n",
      "        nan        nan        nan        nan        nan        nan\n",
      "        nan        nan        nan        nan        nan        nan\n",
      "        nan        nan        nan        nan        nan        nan\n",
      "        nan        nan        nan        nan        nan        nan\n",
      "        nan        nan        nan        nan        nan        nan\n",
      "        nan        nan        nan        nan        nan        nan\n",
      "        nan        nan        nan        nan        nan        nan\n",
      "        nan        nan        nan        nan        nan        nan\n",
      "        nan        nan        nan        nan        nan        nan\n",
      "        nan        nan        nan        nan        nan        nan\n",
      " 0.7760598  0.7764709  0.77686722 0.77631163 0.77709363 0.77619195\n",
      " 0.77652863 0.77700822 0.77563809 0.77690385 0.77558381 0.77593073\n",
      " 0.77663118 0.77651377 0.77678677 0.77661489 0.77652672 0.77615731\n",
      " 0.77643698 0.77666895 0.77569078 0.77609509 0.77639757 0.77626571\n",
      " 0.77643343 0.77739187 0.7763287  0.77670628 0.77622033 0.77690239\n",
      " 0.77640568 0.77575582 0.77656855 0.77590968 0.77602583 0.77635423\n",
      " 0.77657781 0.77636566 0.77690156 0.77701868 0.77627298 0.77694097\n",
      " 0.77727256 0.77706292 0.77611191 0.77652447 0.77632457 0.77685032\n",
      " 0.77578866 0.7764279  0.77653277 0.77596006 0.77591776 0.77673475\n",
      " 0.77602389 0.77701839 0.77669839 0.77672282 0.77720738 0.7765045\n",
      " 0.77671984 0.77602626 0.77629765 0.77719047 0.77631447 0.77705237\n",
      " 0.7765967  0.77683367 0.77642652 0.77639574 0.77671481 0.77687275\n",
      " 0.7766188  0.77607046 0.77701857 0.77626674 0.77700906 0.77666322\n",
      " 0.77665281 0.77632417 0.77179589 0.77127526 0.77175445 0.77169236\n",
      " 0.77202684 0.77162189 0.77118765 0.77169054 0.77171996 0.77152949\n",
      " 0.77166152 0.77153986 0.77198622 0.77162788 0.77186018 0.77139309\n",
      " 0.77202905 0.77154822 0.77201576 0.77184473 0.77165317 0.77190515\n",
      " 0.77160226 0.77216419 0.77179173 0.77203286 0.77150734 0.77155882\n",
      " 0.77167905 0.77204843 0.77177285 0.77100325 0.77134303 0.77168342\n",
      " 0.77178224 0.77219132 0.77207225 0.7717692  0.77177359 0.77215712\n",
      " 0.77605897 0.77605282 0.77560448 0.7758908  0.77690624 0.77592551\n",
      " 0.77559463 0.77666637 0.77623916 0.77567091 0.7751668  0.77506691\n",
      " 0.77658212 0.77574716 0.77635326 0.77678123 0.77646821 0.77690548\n",
      " 0.77589341 0.77599052 0.77562782 0.77679864 0.77680908 0.77657671\n",
      " 0.77631301 0.77653797 0.77645689 0.77659805 0.77610136 0.77634059\n",
      " 0.77611383 0.77624801 0.77662941 0.77624025 0.77719719 0.77612995\n",
      " 0.77693628 0.77601146 0.77641995 0.77635018 0.77603585 0.77729989\n",
      " 0.77580683 0.77544734 0.77525266 0.77639934 0.77527289 0.77660049\n",
      " 0.77587516 0.77645265 0.77626521 0.77623723 0.77662295 0.77609098\n",
      " 0.77609599 0.77584572 0.77636745 0.77703664 0.7762937  0.77594319\n",
      " 0.77594406 0.77593878 0.77665831 0.77572337 0.77713883 0.77616878\n",
      " 0.77611347 0.77593703 0.77645875 0.77654872 0.77709008 0.77634167\n",
      " 0.77615271 0.776244   0.77627291 0.77641474 0.77673039 0.7764814\n",
      " 0.77625092 0.77615643 0.77190879 0.7717669  0.77151222 0.77180493\n",
      " 0.77175103 0.7719121  0.77207269 0.7716219  0.77184351 0.77190919\n",
      " 0.77211621 0.77149746 0.77229516 0.77214554 0.77194692 0.77135543\n",
      " 0.77190275 0.7718122  0.77189418 0.77208486 0.77164434 0.77140073\n",
      " 0.77215676 0.77230333 0.77167957 0.77228754 0.77182386 0.77224375\n",
      " 0.77184093 0.77157312 0.77232089 0.77195248 0.77158618 0.77130571\n",
      " 0.7716051  0.77223229 0.77177865 0.77155422 0.77203972 0.77180872\n",
      "        nan        nan        nan        nan        nan        nan\n",
      "        nan        nan        nan        nan        nan        nan\n",
      "        nan        nan        nan        nan        nan        nan\n",
      "        nan        nan        nan        nan        nan        nan\n",
      "        nan        nan        nan        nan        nan        nan\n",
      "        nan        nan        nan        nan        nan        nan\n",
      "        nan        nan        nan        nan        nan        nan\n",
      "        nan        nan        nan        nan        nan        nan\n",
      "        nan        nan        nan        nan        nan        nan\n",
      "        nan        nan        nan        nan        nan        nan\n",
      "        nan        nan        nan        nan        nan        nan\n",
      "        nan        nan        nan        nan        nan        nan\n",
      "        nan        nan        nan        nan        nan        nan\n",
      "        nan        nan        nan        nan        nan        nan\n",
      "        nan        nan        nan        nan        nan        nan\n",
      "        nan        nan        nan        nan        nan        nan\n",
      "        nan        nan        nan        nan        nan        nan\n",
      "        nan        nan        nan        nan        nan        nan\n",
      "        nan        nan        nan        nan        nan        nan\n",
      "        nan        nan        nan        nan        nan        nan]\n",
      "  warnings.warn(\n"
     ]
    },
    {
     "data": {
      "text/plain": [
       "GridSearchCV(cv=5, estimator=RandomForestClassifier(), n_jobs=-1,\n",
       "             param_grid={'bootstrap': ['True', 'False'],\n",
       "                         'criterion': ['gini', 'entropy', 'log_loss'],\n",
       "                         'max_depth': [9],\n",
       "                         'max_features': ['sqrt', 'log2', None],\n",
       "                         'min_samples_split': array([ 8,  9, 10, 11]),\n",
       "                         'n_estimators': array([100, 110, 120, 130, 140, 150, 160, 170, 180, 190])},\n",
       "             scoring='f1', verbose=1)"
      ]
     },
     "execution_count": 14,
     "metadata": {},
     "output_type": "execute_result"
    }
   ],
   "source": [
    "# third round of tuning\n",
    "parameters = {\n",
    "    'max_depth' : [9], \n",
    "    'min_samples_split': np.arange(8, 12, 1),\n",
    "    'criterion': ['gini', 'entropy', 'log_loss'],\n",
    "    'n_estimators': np.arange(100, 200, 10),\n",
    "    'max_features': ['sqrt', 'log2', None],\n",
    "    'bootstrap': ['True', 'False'],\n",
    "    \n",
    "}\n",
    "rf3 = GridSearchCV(rfclf3, parameters,cv=5, scoring='f1', verbose=1, n_jobs=-1)\n",
    "rf3.fit(X_train,y_train)"
   ]
  },
  {
   "cell_type": "code",
   "execution_count": 15,
   "id": "e9bce776",
   "metadata": {},
   "outputs": [
    {
     "name": "stdout",
     "output_type": "stream",
     "text": [
      "rf test score:  0.777637919551298\n",
      "rf best params {'bootstrap': 'True', 'criterion': 'gini', 'max_depth': 9, 'max_features': 'sqrt', 'min_samples_split': 11, 'n_estimators': 140}\n"
     ]
    }
   ],
   "source": [
    "print('rf test score: ', rf3.best_score_)\n",
    "print('rf best params', rf3.best_params_)\n",
    "# rf test score:  0.777637919551298\n",
    "# rf best params {'bootstrap': 'True', 'criterion': 'gini', 'max_depth': 9, 'max_features': 'sqrt', 'min_samples_split': 11, 'n_estimators': 140}"
   ]
  },
  {
   "cell_type": "markdown",
   "id": "f0eecc31",
   "metadata": {},
   "source": [
    "## Extra Trees Classifier"
   ]
  },
  {
   "cell_type": "code",
   "execution_count": 8,
   "id": "a2ae825c",
   "metadata": {},
   "outputs": [],
   "source": [
    "from sklearn.ensemble import ExtraTreesClassifier"
   ]
  },
  {
   "cell_type": "code",
   "execution_count": 13,
   "id": "34f53cde",
   "metadata": {},
   "outputs": [
    {
     "name": "stdout",
     "output_type": "stream",
     "text": [
      "random forest test score:  0.7278518351118042\n"
     ]
    }
   ],
   "source": [
    "# initial model\n",
    "etclf = ExtraTreesClassifier()\n",
    "cv_results2 = cross_validate(etclf, X_train, y_train, cv=5)\n",
    "print('random forest test score: ', sum(cv_results2['test_score'])/len(cv_results2['test_score']))"
   ]
  },
  {
   "cell_type": "code",
   "execution_count": 14,
   "id": "6039ed51",
   "metadata": {},
   "outputs": [
    {
     "name": "stdout",
     "output_type": "stream",
     "text": [
      "Fitting 5 folds for each of 189 candidates, totalling 945 fits\n"
     ]
    },
    {
     "name": "stderr",
     "output_type": "stream",
     "text": [
      "C:\\Users\\miera\\anaconda3\\lib\\site-packages\\sklearn\\model_selection\\_search.py:922: UserWarning: One or more of the test scores are non-finite: [0.69176132 0.69578681 0.70940749 0.68847132 0.70881577 0.70875078\n",
      " 0.6986199  0.71793476 0.7081678  0.72688617 0.71601243 0.72435725\n",
      " 0.718137   0.71157187 0.73240021 0.73397622 0.73943627 0.73369025\n",
      " 0.71962558 0.73727326 0.73221034 0.74756854 0.74397212 0.74978745\n",
      " 0.74604077 0.74997972 0.74350137 0.74559475 0.75653615 0.75109672\n",
      " 0.75571144 0.75466463 0.75523318 0.75553263 0.75391219 0.76200241\n",
      " 0.76055615 0.75840014 0.76173126 0.76022752 0.7600807  0.75973089\n",
      " 0.76172091 0.76501754 0.76399027 0.76479026 0.76316951 0.76379187\n",
      " 0.76394476 0.76695406 0.76794146 0.76927585 0.76762734 0.76652528\n",
      " 0.76771838 0.76846325 0.77010944 0.76901223 0.77053854 0.77001234\n",
      " 0.76878099 0.77051017 0.76850753 0.70986777 0.69356424 0.70174931\n",
      " 0.69793274 0.70586826 0.70668544 0.70889766 0.72031444 0.71556458\n",
      " 0.71391251 0.72201399 0.71418265 0.72296    0.71960255 0.73411016\n",
      " 0.73532817 0.73285043 0.73009247 0.7313325  0.73805911 0.72713078\n",
      " 0.74866351 0.74387717 0.75159359 0.74651571 0.74238921 0.74616551\n",
      " 0.74812138 0.75413588 0.75444163 0.75412885 0.75410218 0.7531378\n",
      " 0.75701929 0.75283534 0.76183129 0.76291556 0.76035862 0.76046653\n",
      " 0.76249636 0.76097752 0.75906037 0.76383555 0.7650593  0.76515356\n",
      " 0.7632051  0.7645174  0.76549068 0.76484081 0.76769074 0.76851138\n",
      " 0.76761696 0.76577523 0.77001699 0.76887268 0.76866658 0.76967154\n",
      " 0.77050393 0.77001422 0.77089227 0.7723302  0.76991601 0.76918478\n",
      "        nan        nan        nan        nan        nan        nan\n",
      "        nan        nan        nan        nan        nan        nan\n",
      "        nan        nan        nan        nan        nan        nan\n",
      "        nan        nan        nan        nan        nan        nan\n",
      "        nan        nan        nan        nan        nan        nan\n",
      "        nan        nan        nan        nan        nan        nan\n",
      "        nan        nan        nan        nan        nan        nan\n",
      "        nan        nan        nan        nan        nan        nan\n",
      "        nan        nan        nan        nan        nan        nan\n",
      "        nan        nan        nan        nan        nan        nan\n",
      "        nan        nan        nan]\n",
      "  warnings.warn(\n"
     ]
    },
    {
     "data": {
      "text/plain": [
       "GridSearchCV(cv=5, estimator=ExtraTreesClassifier(), n_jobs=-1,\n",
       "             param_grid={'criterion': ['gini', 'entropy', 'log_loss'],\n",
       "                         'max_depth': array([1, 2, 3, 4, 5, 6, 7, 8, 9]),\n",
       "                         'min_samples_split': array([ 8,  9, 10, 11, 12, 13, 14])},\n",
       "             scoring='f1', verbose=1)"
      ]
     },
     "execution_count": 14,
     "metadata": {},
     "output_type": "execute_result"
    }
   ],
   "source": [
    "# tuning\n",
    "parameters = {\n",
    "    'max_depth' : np.arange(1,10, 1), \n",
    "    'min_samples_split': np.arange(8, 15, 1),\n",
    "    'criterion': ['gini', 'entropy', 'log_loss']\n",
    "}\n",
    "et = GridSearchCV(etclf, parameters,cv=5, scoring='f1', verbose=1, n_jobs=-1)\n",
    "et.fit(X_train,y_train)"
   ]
  },
  {
   "cell_type": "code",
   "execution_count": 15,
   "id": "e50786cb",
   "metadata": {},
   "outputs": [
    {
     "name": "stdout",
     "output_type": "stream",
     "text": [
      "rf test score:  0.7723301951842264\n",
      "rf best params {'criterion': 'entropy', 'max_depth': 9, 'min_samples_split': 12}\n"
     ]
    }
   ],
   "source": [
    "print('rf test score: ', et.best_score_)\n",
    "print('rf best params', et.best_params_)\n",
    "# rf test score:  0.7723301951842264\n",
    "# rf best params {'criterion': 'entropy', 'max_depth': 9, 'min_samples_split': 12}"
   ]
  },
  {
   "cell_type": "code",
   "execution_count": 16,
   "id": "5395757f",
   "metadata": {},
   "outputs": [
    {
     "name": "stdout",
     "output_type": "stream",
     "text": [
      "random forest test score:  0.7273722918266456\n"
     ]
    }
   ],
   "source": [
    "etclf2 = ExtraTreesClassifier()\n",
    "cv_results4 = cross_validate(etclf2, X_train, y_train, cv=5)\n",
    "print('random forest test score: ', sum(cv_results4['test_score'])/len(cv_results4['test_score']))"
   ]
  },
  {
   "cell_type": "code",
   "execution_count": 17,
   "id": "7ca1e146",
   "metadata": {},
   "outputs": [
    {
     "name": "stdout",
     "output_type": "stream",
     "text": [
      "Fitting 5 folds for each of 210 candidates, totalling 1050 fits\n"
     ]
    },
    {
     "data": {
      "text/plain": [
       "GridSearchCV(cv=5, estimator=ExtraTreesClassifier(), n_jobs=-1,\n",
       "             param_grid={'criterion': ['entropy'],\n",
       "                         'max_depth': array([ 9, 10, 11, 12, 13, 14, 15, 16, 17, 18]),\n",
       "                         'max_features': ['sqrt', 'log2', None],\n",
       "                         'min_samples_split': array([11, 12, 13, 14, 15, 16, 17])},\n",
       "             scoring='f1', verbose=1)"
      ]
     },
     "execution_count": 17,
     "metadata": {},
     "output_type": "execute_result"
    }
   ],
   "source": [
    "# further tuning\n",
    "parameters = {\n",
    "    'max_depth' : np.arange(9,19, 1), \n",
    "    'min_samples_split': np.arange(11, 18, 1),\n",
    "    'criterion': ['entropy'],\n",
    "    'max_features': ['sqrt', 'log2', None]\n",
    "    \n",
    "}\n",
    "et2 = GridSearchCV(etclf2, parameters,cv=5, scoring='f1', verbose=1, n_jobs=-1)\n",
    "et2.fit(X_train,y_train)"
   ]
  },
  {
   "cell_type": "code",
   "execution_count": 19,
   "id": "d40df24d",
   "metadata": {},
   "outputs": [
    {
     "name": "stdout",
     "output_type": "stream",
     "text": [
      "rf test score:  0.7754580458308484\n",
      "rf best params {'criterion': 'entropy', 'max_depth': 12, 'max_features': 'log2', 'min_samples_split': 16}\n"
     ]
    }
   ],
   "source": [
    "print('rf test score: ', et2.best_score_)\n",
    "print('rf best params', et2.best_params_)"
   ]
  },
  {
   "cell_type": "code",
   "execution_count": 21,
   "id": "f7a89f62",
   "metadata": {},
   "outputs": [
    {
     "name": "stdout",
     "output_type": "stream",
     "text": [
      "Fitting 5 folds for each of 224 candidates, totalling 1120 fits\n"
     ]
    },
    {
     "data": {
      "text/plain": [
       "GridSearchCV(cv=5, estimator=ExtraTreesClassifier(), n_jobs=-1,\n",
       "             param_grid={'bootstrap': ['true', 'false'],\n",
       "                         'criterion': ['entropy'], 'max_depth': [12],\n",
       "                         'max_features': ['log2'],\n",
       "                         'min_samples_split': array([11, 12, 13, 14, 15, 16, 17, 18, 19, 20, 21, 22, 23, 24]),\n",
       "                         'oob_score': ['true', 'false'],\n",
       "                         'random_state': array([1, 2, 3, 4])},\n",
       "             scoring='f1', verbose=1)"
      ]
     },
     "execution_count": 21,
     "metadata": {},
     "output_type": "execute_result"
    }
   ],
   "source": [
    "# more tuning\n",
    "etclf3 = ExtraTreesClassifier()\n",
    "parameters = {\n",
    "    'max_depth' : [12], \n",
    "    'min_samples_split': np.arange(11, 25, 1),\n",
    "    'criterion': ['entropy'],\n",
    "    'max_features': ['log2'],\n",
    "    'bootstrap': ['true', 'false'],\n",
    "    'oob_score': ['true', 'false'],\n",
    "    'random_state':  np.arange(1, 5, 1)\n",
    "    \n",
    "}\n",
    "et3 = GridSearchCV(etclf3, parameters,cv=5, scoring='f1', verbose=1, n_jobs=-1)\n",
    "et3.fit(X_train,y_train)"
   ]
  },
  {
   "cell_type": "code",
   "execution_count": 22,
   "id": "c81274fd",
   "metadata": {},
   "outputs": [
    {
     "name": "stdout",
     "output_type": "stream",
     "text": [
      "rf test score:  0.7761679592501389\n",
      "rf best params {'bootstrap': 'true', 'criterion': 'entropy', 'max_depth': 12, 'max_features': 'log2', 'min_samples_split': 24, 'oob_score': 'true', 'random_state': 3}\n"
     ]
    }
   ],
   "source": [
    "print('rf test score: ', et3.best_score_)\n",
    "print('rf best params', et3.best_params_)"
   ]
  },
  {
   "cell_type": "code",
   "execution_count": 9,
   "id": "2011ec62",
   "metadata": {},
   "outputs": [
    {
     "name": "stdout",
     "output_type": "stream",
     "text": [
      "Fitting 5 folds for each of 720 candidates, totalling 3600 fits\n"
     ]
    },
    {
     "data": {
      "text/plain": [
       "GridSearchCV(cv=5, estimator=ExtraTreesClassifier(), n_jobs=-1,\n",
       "             param_grid={'bootstrap': ['true', 'false'],\n",
       "                         'criterion': ['entropy'], 'max_depth': [12],\n",
       "                         'max_features': ['log2'],\n",
       "                         'min_samples_leaf': array([1, 2, 3, 4, 5, 6, 7, 8, 9]),\n",
       "                         'min_samples_split': array([23, 24, 25, 26, 27]),\n",
       "                         'oob_score': ['true', 'false'],\n",
       "                         'random_state': array([1, 2, 3, 4])},\n",
       "             scoring='f1', verbose=1)"
      ]
     },
     "execution_count": 9,
     "metadata": {},
     "output_type": "execute_result"
    }
   ],
   "source": [
    "# additional tuning\n",
    "etclf4 = ExtraTreesClassifier()\n",
    "parameters = {\n",
    "    'max_depth' : [12], \n",
    "    'min_samples_split': np.arange(23, 28, 1),\n",
    "    'min_samples_leaf': np.arange(1, 10, 1),\n",
    "    'criterion': ['entropy'],\n",
    "    'max_features': ['log2'],\n",
    "    'bootstrap': ['true', 'false'],\n",
    "    'oob_score': ['true', 'false'],\n",
    "    'random_state':  np.arange(1, 5, 1)    \n",
    "}\n",
    "et4 = GridSearchCV(etclf4, parameters,cv=5, scoring='f1', verbose=1, n_jobs=-1)\n",
    "et4.fit(X_train,y_train)"
   ]
  },
  {
   "cell_type": "code",
   "execution_count": 10,
   "id": "2a695ce2",
   "metadata": {},
   "outputs": [
    {
     "name": "stdout",
     "output_type": "stream",
     "text": [
      "rf test score:  0.7737919732320606\n",
      "rf best params {'bootstrap': 'true', 'criterion': 'entropy', 'max_depth': 12, 'max_features': 'log2', 'min_samples_leaf': 4, 'min_samples_split': 25, 'oob_score': 'true', 'random_state': 3}\n"
     ]
    }
   ],
   "source": [
    "print('rf test score: ', et4.best_score_)\n",
    "print('rf best params', et4.best_params_)\n",
    "\n",
    "# rf test score:  0.7737919732320606\n",
    "# rf best params {'bootstrap': 'true', 'criterion': 'entropy', 'max_depth': 12, 'max_features': 'log2', 'min_samples_leaf': 4, 'min_samples_split': 25, 'oob_score': 'true', 'random_state': 3}"
   ]
  }
 ],
 "metadata": {
  "kernelspec": {
   "display_name": "Python 3 (ipykernel)",
   "language": "python",
   "name": "python3"
  },
  "language_info": {
   "codemirror_mode": {
    "name": "ipython",
    "version": 3
   },
   "file_extension": ".py",
   "mimetype": "text/x-python",
   "name": "python",
   "nbconvert_exporter": "python",
   "pygments_lexer": "ipython3",
   "version": "3.9.7"
  }
 },
 "nbformat": 4,
 "nbformat_minor": 5
}
