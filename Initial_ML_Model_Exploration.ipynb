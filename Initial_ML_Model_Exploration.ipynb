{
 "cells": [
  {
   "cell_type": "code",
   "execution_count": 10,
   "metadata": {
    "colab": {
     "base_uri": "https://localhost:8080/",
     "height": 300
    },
    "id": "CkbgJk2sSpac",
    "outputId": "1f1d796f-6791-4063-c84c-cabd1796a601"
   },
   "outputs": [],
   "source": [
    "import pandas as pd\n",
    "from statistics import mean\n",
    "\n",
    "df = pd.read_csv('heart-2020-cleaned-numerical.csv')"
   ]
  },
  {
   "cell_type": "code",
   "execution_count": 11,
   "metadata": {},
   "outputs": [],
   "source": [
    "df = df.replace('Yes', 1, regex=True).replace('No', 0, regex=True).replace('Yes (during pregnancy)', 1, regex=True)\n",
    "df = df.replace('Female', 0, regex=True).replace('Male', 1, regex=True)\n",
    "df = df.replace('18-24', 0, regex=True).replace(\"25-29\", 1, regex=True).replace(\"30-34\", 2, regex=True).replace(\"35-39\", 3, regex=True)\n",
    "df = df.replace(\"40-44\", 4, regex=True).replace(\"45-49\", 5, regex=True).replace(\"50-54\", 6, regex=True).replace(\"55-59\", 7, regex=True)\n",
    "df = df.replace(\"60-64\", 8, regex=True).replace(\"65-69\", 9, regex=True).replace(\"70-74\", 10, regex=True).replace(\"75-79\", 11, regex=True).replace(\"80 or older\", 12, regex=True)\n",
    "\n",
    "df =df.replace(\"American Indian/Alaskan Native\", 0, regex=True)\n",
    "df =df.replace(\"Asian\", 1, regex=True)\n",
    "df =df.replace(\"Black\", 2, regex=True)\n",
    "df =df.replace(\"Hispanic\", 3, regex=True)\n",
    "df =df.replace(\"White\", 4, regex=True)\n",
    "df =df.replace(\"Other\", 5, regex=True)\n"
   ]
  },
  {
   "cell_type": "code",
   "execution_count": 12,
   "metadata": {
    "colab": {
     "base_uri": "https://localhost:8080/",
     "height": 353
    },
    "id": "xTlw2fPpJAA5",
    "outputId": "0ac45a3c-26d9-4695-d63d-4035fcbf96e0"
   },
   "outputs": [
    {
     "data": {
      "text/html": [
       "<div>\n",
       "<style scoped>\n",
       "    .dataframe tbody tr th:only-of-type {\n",
       "        vertical-align: middle;\n",
       "    }\n",
       "\n",
       "    .dataframe tbody tr th {\n",
       "        vertical-align: top;\n",
       "    }\n",
       "\n",
       "    .dataframe thead th {\n",
       "        text-align: right;\n",
       "    }\n",
       "</style>\n",
       "<table border=\"1\" class=\"dataframe\">\n",
       "  <thead>\n",
       "    <tr style=\"text-align: right;\">\n",
       "      <th></th>\n",
       "      <th>HeartDisease</th>\n",
       "      <th>BMI</th>\n",
       "      <th>Smoking</th>\n",
       "      <th>AlcoholDrinking</th>\n",
       "      <th>Stroke</th>\n",
       "      <th>PhysicalHealth</th>\n",
       "      <th>MentalHealth</th>\n",
       "      <th>DiffWalking</th>\n",
       "      <th>Sex</th>\n",
       "      <th>AgeCategory</th>\n",
       "      <th>...</th>\n",
       "      <th>AmericanIndian/AlaskanNative</th>\n",
       "      <th>Diabetic</th>\n",
       "      <th>DiabeticWhilePregnant</th>\n",
       "      <th>BorderlineDiabetic</th>\n",
       "      <th>PhysicalActivity</th>\n",
       "      <th>GenHealth</th>\n",
       "      <th>SleepTime</th>\n",
       "      <th>Asthma</th>\n",
       "      <th>KidneyDisease</th>\n",
       "      <th>SkinCancer</th>\n",
       "    </tr>\n",
       "  </thead>\n",
       "  <tbody>\n",
       "    <tr>\n",
       "      <th>5</th>\n",
       "      <td>1</td>\n",
       "      <td>28.87</td>\n",
       "      <td>1</td>\n",
       "      <td>0</td>\n",
       "      <td>0</td>\n",
       "      <td>6.0</td>\n",
       "      <td>0.0</td>\n",
       "      <td>1</td>\n",
       "      <td>1</td>\n",
       "      <td>11</td>\n",
       "      <td>...</td>\n",
       "      <td>0</td>\n",
       "      <td>0</td>\n",
       "      <td>0</td>\n",
       "      <td>0</td>\n",
       "      <td>0</td>\n",
       "      <td>2</td>\n",
       "      <td>12.0</td>\n",
       "      <td>0</td>\n",
       "      <td>0</td>\n",
       "      <td>0</td>\n",
       "    </tr>\n",
       "    <tr>\n",
       "      <th>10</th>\n",
       "      <td>1</td>\n",
       "      <td>34.30</td>\n",
       "      <td>1</td>\n",
       "      <td>0</td>\n",
       "      <td>0</td>\n",
       "      <td>30.0</td>\n",
       "      <td>0.0</td>\n",
       "      <td>1</td>\n",
       "      <td>0</td>\n",
       "      <td>8</td>\n",
       "      <td>...</td>\n",
       "      <td>0</td>\n",
       "      <td>1</td>\n",
       "      <td>0</td>\n",
       "      <td>0</td>\n",
       "      <td>0</td>\n",
       "      <td>1</td>\n",
       "      <td>15.0</td>\n",
       "      <td>1</td>\n",
       "      <td>0</td>\n",
       "      <td>0</td>\n",
       "    </tr>\n",
       "    <tr>\n",
       "      <th>35</th>\n",
       "      <td>1</td>\n",
       "      <td>32.98</td>\n",
       "      <td>1</td>\n",
       "      <td>0</td>\n",
       "      <td>1</td>\n",
       "      <td>10.0</td>\n",
       "      <td>0.0</td>\n",
       "      <td>1</td>\n",
       "      <td>0</td>\n",
       "      <td>11</td>\n",
       "      <td>...</td>\n",
       "      <td>0</td>\n",
       "      <td>1</td>\n",
       "      <td>0</td>\n",
       "      <td>0</td>\n",
       "      <td>1</td>\n",
       "      <td>1</td>\n",
       "      <td>4.0</td>\n",
       "      <td>0</td>\n",
       "      <td>0</td>\n",
       "      <td>1</td>\n",
       "    </tr>\n",
       "    <tr>\n",
       "      <th>42</th>\n",
       "      <td>1</td>\n",
       "      <td>25.06</td>\n",
       "      <td>0</td>\n",
       "      <td>0</td>\n",
       "      <td>0</td>\n",
       "      <td>0.0</td>\n",
       "      <td>0.0</td>\n",
       "      <td>1</td>\n",
       "      <td>1</td>\n",
       "      <td>12</td>\n",
       "      <td>...</td>\n",
       "      <td>0</td>\n",
       "      <td>1</td>\n",
       "      <td>0</td>\n",
       "      <td>0</td>\n",
       "      <td>0</td>\n",
       "      <td>3</td>\n",
       "      <td>7.0</td>\n",
       "      <td>0</td>\n",
       "      <td>0</td>\n",
       "      <td>1</td>\n",
       "    </tr>\n",
       "    <tr>\n",
       "      <th>43</th>\n",
       "      <td>1</td>\n",
       "      <td>30.23</td>\n",
       "      <td>1</td>\n",
       "      <td>0</td>\n",
       "      <td>0</td>\n",
       "      <td>6.0</td>\n",
       "      <td>2.0</td>\n",
       "      <td>1</td>\n",
       "      <td>1</td>\n",
       "      <td>11</td>\n",
       "      <td>...</td>\n",
       "      <td>0</td>\n",
       "      <td>1</td>\n",
       "      <td>0</td>\n",
       "      <td>0</td>\n",
       "      <td>1</td>\n",
       "      <td>2</td>\n",
       "      <td>8.0</td>\n",
       "      <td>0</td>\n",
       "      <td>1</td>\n",
       "      <td>0</td>\n",
       "    </tr>\n",
       "  </tbody>\n",
       "</table>\n",
       "<p>5 rows × 25 columns</p>\n",
       "</div>"
      ],
      "text/plain": [
       "    HeartDisease    BMI  Smoking  AlcoholDrinking  Stroke  PhysicalHealth  \\\n",
       "5              1  28.87        1                0       0             6.0   \n",
       "10             1  34.30        1                0       0            30.0   \n",
       "35             1  32.98        1                0       1            10.0   \n",
       "42             1  25.06        0                0       0             0.0   \n",
       "43             1  30.23        1                0       0             6.0   \n",
       "\n",
       "    MentalHealth  DiffWalking  Sex  AgeCategory  ...  \\\n",
       "5            0.0            1    1           11  ...   \n",
       "10           0.0            1    0            8  ...   \n",
       "35           0.0            1    0           11  ...   \n",
       "42           0.0            1    1           12  ...   \n",
       "43           2.0            1    1           11  ...   \n",
       "\n",
       "    AmericanIndian/AlaskanNative  Diabetic  DiabeticWhilePregnant  \\\n",
       "5                              0         0                      0   \n",
       "10                             0         1                      0   \n",
       "35                             0         1                      0   \n",
       "42                             0         1                      0   \n",
       "43                             0         1                      0   \n",
       "\n",
       "    BorderlineDiabetic  PhysicalActivity  GenHealth  SleepTime  Asthma  \\\n",
       "5                    0                 0          2       12.0       0   \n",
       "10                   0                 0          1       15.0       1   \n",
       "35                   0                 1          1        4.0       0   \n",
       "42                   0                 0          3        7.0       0   \n",
       "43                   0                 1          2        8.0       0   \n",
       "\n",
       "    KidneyDisease  SkinCancer  \n",
       "5               0           0  \n",
       "10              0           0  \n",
       "35              0           1  \n",
       "42              0           1  \n",
       "43              1           0  \n",
       "\n",
       "[5 rows x 25 columns]"
      ]
     },
     "execution_count": 12,
     "metadata": {},
     "output_type": "execute_result"
    }
   ],
   "source": [
    "hd_true = df[(df['HeartDisease'] == 1)]\n",
    "n = len(hd_true.index)\n",
    "hd_false = df[(df['HeartDisease'] == 0)].sample(n)\n",
    "df_balanced = pd.concat([hd_true, hd_false])\n",
    "df_balanced.head()\n"
   ]
  },
  {
   "cell_type": "code",
   "execution_count": 13,
   "metadata": {
    "colab": {
     "base_uri": "https://localhost:8080/",
     "height": 237
    },
    "id": "hRrfl3orUQF3",
    "outputId": "05a4b9dc-2a5c-4886-aaf2-370621582632"
   },
   "outputs": [
    {
     "data": {
      "text/html": [
       "<div>\n",
       "<style scoped>\n",
       "    .dataframe tbody tr th:only-of-type {\n",
       "        vertical-align: middle;\n",
       "    }\n",
       "\n",
       "    .dataframe tbody tr th {\n",
       "        vertical-align: top;\n",
       "    }\n",
       "\n",
       "    .dataframe thead th {\n",
       "        text-align: right;\n",
       "    }\n",
       "</style>\n",
       "<table border=\"1\" class=\"dataframe\">\n",
       "  <thead>\n",
       "    <tr style=\"text-align: right;\">\n",
       "      <th></th>\n",
       "      <th>BMI</th>\n",
       "      <th>Smoking</th>\n",
       "      <th>AlcoholDrinking</th>\n",
       "      <th>Stroke</th>\n",
       "      <th>PhysicalHealth</th>\n",
       "      <th>MentalHealth</th>\n",
       "      <th>DiffWalking</th>\n",
       "      <th>Sex</th>\n",
       "      <th>AgeCategory</th>\n",
       "      <th>White</th>\n",
       "      <th>...</th>\n",
       "      <th>AmericanIndian/AlaskanNative</th>\n",
       "      <th>Diabetic</th>\n",
       "      <th>DiabeticWhilePregnant</th>\n",
       "      <th>BorderlineDiabetic</th>\n",
       "      <th>PhysicalActivity</th>\n",
       "      <th>GenHealth</th>\n",
       "      <th>SleepTime</th>\n",
       "      <th>Asthma</th>\n",
       "      <th>KidneyDisease</th>\n",
       "      <th>SkinCancer</th>\n",
       "    </tr>\n",
       "  </thead>\n",
       "  <tbody>\n",
       "    <tr>\n",
       "      <th>5</th>\n",
       "      <td>28.87</td>\n",
       "      <td>1</td>\n",
       "      <td>0</td>\n",
       "      <td>0</td>\n",
       "      <td>6.0</td>\n",
       "      <td>0.0</td>\n",
       "      <td>1</td>\n",
       "      <td>1</td>\n",
       "      <td>11</td>\n",
       "      <td>0</td>\n",
       "      <td>...</td>\n",
       "      <td>0</td>\n",
       "      <td>0</td>\n",
       "      <td>0</td>\n",
       "      <td>0</td>\n",
       "      <td>0</td>\n",
       "      <td>2</td>\n",
       "      <td>12.0</td>\n",
       "      <td>0</td>\n",
       "      <td>0</td>\n",
       "      <td>0</td>\n",
       "    </tr>\n",
       "    <tr>\n",
       "      <th>10</th>\n",
       "      <td>34.30</td>\n",
       "      <td>1</td>\n",
       "      <td>0</td>\n",
       "      <td>0</td>\n",
       "      <td>30.0</td>\n",
       "      <td>0.0</td>\n",
       "      <td>1</td>\n",
       "      <td>0</td>\n",
       "      <td>8</td>\n",
       "      <td>1</td>\n",
       "      <td>...</td>\n",
       "      <td>0</td>\n",
       "      <td>1</td>\n",
       "      <td>0</td>\n",
       "      <td>0</td>\n",
       "      <td>0</td>\n",
       "      <td>1</td>\n",
       "      <td>15.0</td>\n",
       "      <td>1</td>\n",
       "      <td>0</td>\n",
       "      <td>0</td>\n",
       "    </tr>\n",
       "    <tr>\n",
       "      <th>35</th>\n",
       "      <td>32.98</td>\n",
       "      <td>1</td>\n",
       "      <td>0</td>\n",
       "      <td>1</td>\n",
       "      <td>10.0</td>\n",
       "      <td>0.0</td>\n",
       "      <td>1</td>\n",
       "      <td>0</td>\n",
       "      <td>11</td>\n",
       "      <td>1</td>\n",
       "      <td>...</td>\n",
       "      <td>0</td>\n",
       "      <td>1</td>\n",
       "      <td>0</td>\n",
       "      <td>0</td>\n",
       "      <td>1</td>\n",
       "      <td>1</td>\n",
       "      <td>4.0</td>\n",
       "      <td>0</td>\n",
       "      <td>0</td>\n",
       "      <td>1</td>\n",
       "    </tr>\n",
       "  </tbody>\n",
       "</table>\n",
       "<p>3 rows × 24 columns</p>\n",
       "</div>"
      ],
      "text/plain": [
       "      BMI  Smoking  AlcoholDrinking  Stroke  PhysicalHealth  MentalHealth  \\\n",
       "5   28.87        1                0       0             6.0           0.0   \n",
       "10  34.30        1                0       0            30.0           0.0   \n",
       "35  32.98        1                0       1            10.0           0.0   \n",
       "\n",
       "    DiffWalking  Sex  AgeCategory  White  ...  AmericanIndian/AlaskanNative  \\\n",
       "5             1    1           11      0  ...                             0   \n",
       "10            1    0            8      1  ...                             0   \n",
       "35            1    0           11      1  ...                             0   \n",
       "\n",
       "    Diabetic  DiabeticWhilePregnant  BorderlineDiabetic  PhysicalActivity  \\\n",
       "5          0                      0                   0                 0   \n",
       "10         1                      0                   0                 0   \n",
       "35         1                      0                   0                 1   \n",
       "\n",
       "    GenHealth  SleepTime  Asthma  KidneyDisease  SkinCancer  \n",
       "5           2       12.0       0              0           0  \n",
       "10          1       15.0       1              0           0  \n",
       "35          1        4.0       0              0           1  \n",
       "\n",
       "[3 rows x 24 columns]"
      ]
     },
     "execution_count": 13,
     "metadata": {},
     "output_type": "execute_result"
    }
   ],
   "source": [
    "from sklearn.model_selection import train_test_split\n",
    "X = df_balanced.loc[:, df_balanced.columns != 'HeartDisease']\n",
    "y = df_balanced['HeartDisease']\n",
    "X_train, X_test, y_train, y_test = train_test_split(X,y,test_size=0.2,random_state=0)\n",
    "X.head(3)"
   ]
  },
  {
   "cell_type": "markdown",
   "metadata": {
    "id": "LPmxyahf_9sG"
   },
   "source": [
    "## Exploring Classifier Performance: Logistic Regression, Decision Tree, KNN "
   ]
  },
  {
   "cell_type": "code",
   "execution_count": 14,
   "metadata": {
    "colab": {
     "base_uri": "https://localhost:8080/"
    },
    "id": "uLvJQPUIL2xW",
    "outputId": "1792942b-8643-421e-dc87-364bb8f8c187"
   },
   "outputs": [
    {
     "name": "stdout",
     "output_type": "stream",
     "text": [
      "Logistic Regression Results:\n",
      "0.7684425722294782\n"
     ]
    }
   ],
   "source": [
    "from sklearn.linear_model import LogisticRegression\n",
    "from sklearn.model_selection import cross_validate\n",
    "lr_model = LogisticRegression(solver='liblinear') \n",
    "lr_cv_results = cross_validate(lr_model, X_train, y_train, cv=5, scoring='f1') \n",
    "lr_cv_results_mean = mean(lr_cv_results['test_score'])\n",
    "print('Logistic Regression Results:')\n",
    "print(lr_cv_results_mean)"
   ]
  },
  {
   "cell_type": "code",
   "execution_count": 15,
   "metadata": {
    "colab": {
     "base_uri": "https://localhost:8080/"
    },
    "id": "osJ-2otRAWiL",
    "outputId": "dc2ce38b-b416-4707-fa4c-9a1f0685042b"
   },
   "outputs": [
    {
     "name": "stdout",
     "output_type": "stream",
     "text": [
      "Decision Tree Classifier Results:\n",
      "0.6667019651626223\n"
     ]
    }
   ],
   "source": [
    "from sklearn.tree import DecisionTreeClassifier\n",
    "dt = DecisionTreeClassifier()\n",
    "dt_cv_results = cross_validate(dt, X_train, y_train, cv=5, scoring='f1')\n",
    "dt_cv_results_mean = mean(dt_cv_results['test_score'])\n",
    "print('Decision Tree Classifier Results:')\n",
    "print(dt_cv_results_mean)"
   ]
  },
  {
   "cell_type": "code",
   "execution_count": 16,
   "metadata": {
    "colab": {
     "base_uri": "https://localhost:8080/"
    },
    "id": "ciEjagnpBNuH",
    "outputId": "95fd1bec-5da9-4635-cd0f-8f81bd3b58ce"
   },
   "outputs": [
    {
     "name": "stdout",
     "output_type": "stream",
     "text": [
      "KNN CLASSIFIER SCORES:\n",
      "0.7226561099819576\n"
     ]
    }
   ],
   "source": [
    "from sklearn.neighbors import KNeighborsClassifier\n",
    "knn = KNeighborsClassifier()\n",
    "knn_cv_results = cross_validate(knn, X_train, y_train, cv=5, scoring='f1')\n",
    "knn_cv_results_mean = mean(knn_cv_results['test_score'])\n",
    "print('KNN CLASSIFIER SCORES:')\n",
    "print(knn_cv_results_mean)"
   ]
  },
  {
   "cell_type": "markdown",
   "metadata": {
    "id": "f4PgPq3tB6NK"
   },
   "source": [
    "Conclusion: Logistic Regression is the best performing classifier"
   ]
  },
  {
   "cell_type": "markdown",
   "metadata": {
    "id": "X68Z6AosCQie"
   },
   "source": [
    "## Tuning ML Model single classifier: Logistic Regression and Decision Tree"
   ]
  },
  {
   "cell_type": "code",
   "execution_count": 17,
   "metadata": {
    "colab": {
     "base_uri": "https://localhost:8080/"
    },
    "id": "57eVQcJ7Qsib",
    "outputId": "5aee2e82-8ab6-42b1-b2fa-15381f9cd776"
   },
   "outputs": [
    {
     "name": "stdout",
     "output_type": "stream",
     "text": [
      "best parameters: {'C': 10, 'intercept_scaling': 0.1, 'penalty': 'l1'}\n",
      "best score: 0.7685566636153389\n",
      "score on testing data: 0.7617580425917536\n"
     ]
    }
   ],
   "source": [
    "from sklearn.model_selection import GridSearchCV\n",
    "import numpy\n",
    "parameters = {'C':[pow(10,i) for i in range(0, 10)],'penalty':['l1','l2'], 'intercept_scaling': [0.1, 0.2, 0.3, 0.4, 0.5, 0.6, 0.7, 0.8, 0.9, 1]}\n",
    "              \n",
    "lr_clf = GridSearchCV(lr_model, parameters, cv=5, scoring='f1')\n",
    "lr_clf.fit(X_train, y_train)\n",
    "print('best parameters:', lr_clf.best_params_)\n",
    "print('best score:', lr_clf.best_score_)\n",
    "print('score on testing data:',lr_clf.score(X_test, y_test))\n"
   ]
  },
  {
   "cell_type": "code",
   "execution_count": 18,
   "metadata": {},
   "outputs": [
    {
     "name": "stdout",
     "output_type": "stream",
     "text": [
      "best parameters: {'C': 1, 'intercept_scaling': 1, 'penalty': 'l1'}\n",
      "best score: 0.841321569542951\n",
      "score on testing data: 0.8347593747198658\n"
     ]
    }
   ],
   "source": [
    "parameters = {'C':[pow(10,i) for i in range(0, 10)],'penalty':['l1','l2'], 'intercept_scaling': [0.1, 0.2, 0.3, 0.4, 0.5, 0.6, 0.7, 0.8, 0.9, 1]}\n",
    "              \n",
    "lr_clf = GridSearchCV(lr_model, parameters, cv=5, scoring='roc_auc')\n",
    "lr_clf.fit(X_train, y_train)\n",
    "print('best parameters:', lr_clf.best_params_)\n",
    "print('best score:', lr_clf.best_score_)\n",
    "print('score on testing data:',lr_clf.score(X_test, y_test))"
   ]
  },
  {
   "cell_type": "code",
   "execution_count": 19,
   "metadata": {},
   "outputs": [
    {
     "name": "stdout",
     "output_type": "stream",
     "text": [
      "best parameters:  {'criterion': 'entropy', 'max_depth': 9, 'max_features': None, 'min_samples_split': 17}\n",
      "best score: 0.7596180247835085\n",
      "score on testing data:  0.7625066761616521\n"
     ]
    }
   ],
   "source": [
    "\n",
    "parameters = {\n",
    "    'max_depth' : range(9,19, 1), \n",
    "    'min_samples_split': range(11, 18, 1),\n",
    "    'criterion': ['entropy'],\n",
    "    'max_features': ['sqrt', 'log2', None]\n",
    "    \n",
    "}\n",
    "dt_res = GridSearchCV(dt, parameters, cv=5, scoring='f1')\n",
    "dt_res.fit(X_train, y_train)\n",
    "dt_res.cv_results_\n",
    "print('best parameters: ', dt_res.best_params_)\n",
    "print('best score:', dt_res.best_score_)\n",
    "print('score on testing data: ', dt_res.score(X_test, y_test))"
   ]
  },
  {
   "cell_type": "code",
   "execution_count": 20,
   "metadata": {},
   "outputs": [
    {
     "name": "stdout",
     "output_type": "stream",
     "text": [
      "best parameters:  {'criterion': 'entropy', 'max_depth': 9, 'max_features': None, 'min_samples_split': 16}\n",
      "best score: 0.8213807462714573\n",
      "score on testing data:  0.8204421069143878\n"
     ]
    }
   ],
   "source": [
    "parameters = {\n",
    "    'max_depth' : range(9,19, 1), \n",
    "    'min_samples_split': range(11, 18, 1),\n",
    "    'criterion': ['entropy'],\n",
    "    'max_features': ['sqrt', 'log2', None]\n",
    "    \n",
    "}\n",
    "dt_res = GridSearchCV(dt, parameters, cv=5, scoring='roc_auc')\n",
    "dt_res.fit(X_train, y_train)\n",
    "dt_res.cv_results_\n",
    "print('best parameters: ', dt_res.best_params_)\n",
    "print('best score:', dt_res.best_score_)\n",
    "print('score on testing data: ', dt_res.score(X_test, y_test))"
   ]
  },
  {
   "cell_type": "markdown",
   "metadata": {},
   "source": [
    "## Exploring Ensemble Performance"
   ]
  },
  {
   "cell_type": "code",
   "execution_count": 21,
   "metadata": {
    "colab": {
     "base_uri": "https://localhost:8080/"
    },
    "id": "u5R_Zkaca5_H",
    "outputId": "5ffc5137-06e6-4ac6-a988-5196e8ef7334"
   },
   "outputs": [
    {
     "name": "stdout",
     "output_type": "stream",
     "text": [
      "ada booster test score:  0.7649412811266924\n"
     ]
    }
   ],
   "source": [
    "from sklearn.ensemble import AdaBoostClassifier\n",
    "adaclf = AdaBoostClassifier()\n",
    "cv_results = cross_validate(adaclf, X_train, y_train, cv=5, scoring='f1')\n",
    "ada_mean = sum(cv_results['test_score'])/len(cv_results['test_score'])\n",
    "print('ada booster test score: ', ada_mean)"
   ]
  },
  {
   "cell_type": "code",
   "execution_count": 22,
   "metadata": {
    "id": "s6UHO26ka-ZM"
   },
   "outputs": [
    {
     "name": "stdout",
     "output_type": "stream",
     "text": [
      "gradient booster test score:  0.7673760870097868\n"
     ]
    }
   ],
   "source": [
    "from sklearn.ensemble import GradientBoostingClassifier\n",
    "gbclf = GradientBoostingClassifier()\n",
    "cv_results = cross_validate(gbclf, X_train, y_train, cv=5)\n",
    "gradient_mean = sum(cv_results['test_score'])/len(cv_results['test_score'])\n",
    "print('gradient booster test score: ', gradient_mean)"
   ]
  },
  {
   "cell_type": "code",
   "execution_count": 23,
   "metadata": {
    "id": "-wtg8CSRbCMI"
   },
   "outputs": [
    {
     "name": "stdout",
     "output_type": "stream",
     "text": [
      "random forest test score:  0.7438352045984273\n"
     ]
    }
   ],
   "source": [
    "from sklearn.ensemble import RandomForestClassifier\n",
    "rfclf = RandomForestClassifier()\n",
    "cv_results = cross_validate(rfclf, X_train, y_train, cv=5)\n",
    "random_mean = sum(cv_results['test_score'])/len(cv_results['test_score'])\n",
    "print('random forest test score: ', random_mean)"
   ]
  },
  {
   "cell_type": "code",
   "execution_count": 24,
   "metadata": {
    "id": "ISWxaFTUbG3_"
   },
   "outputs": [
    {
     "name": "stdout",
     "output_type": "stream",
     "text": [
      "extra trees test score:  0.7300667702000968\n"
     ]
    }
   ],
   "source": [
    "from sklearn.ensemble import ExtraTreesClassifier\n",
    "etclf = ExtraTreesClassifier()\n",
    "cv_results = cross_validate(etclf, X_train, y_train, cv=5)\n",
    "extra_mean = sum(cv_results['test_score'])/len(cv_results['test_score'])\n",
    "print('extra trees test score: ', extra_mean)"
   ]
  },
  {
   "cell_type": "code",
   "execution_count": 25,
   "metadata": {
    "id": "lQ3_QJhqbKm5"
   },
   "outputs": [
    {
     "name": "stdout",
     "output_type": "stream",
     "text": [
      "histogram gradient boosting test score:  0.7642022947303777\n"
     ]
    }
   ],
   "source": [
    "from sklearn.experimental import enable_hist_gradient_boosting\n",
    "from sklearn.ensemble import HistGradientBoostingClassifier\n",
    "hgbclf = HistGradientBoostingClassifier()\n",
    "cv_results = cross_validate(hgbclf, X_train, y_train, cv=5)\n",
    "histo_mean = sum(cv_results['test_score'])/len(cv_results['test_score'])\n",
    "print('histogram gradient boosting test score: ', histo_mean)"
   ]
  },
  {
   "cell_type": "markdown",
   "metadata": {},
   "source": [
    "## ML Model Performance Visualization"
   ]
  },
  {
   "cell_type": "code",
   "execution_count": 27,
   "metadata": {},
   "outputs": [
    {
     "data": {
      "image/png": "[encoded data removed]",
      "text/plain": [
       "<Figure size 432x288 with 1 Axes>"
      ]
     },
     "metadata": {
      "needs_background": "light"
     },
     "output_type": "display_data"
    }
   ],
   "source": [
    "import matplotlib.pyplot as plt\n",
    "\n",
    "bar_plot_data = {'LogisitcRegression': lr_cv_results_mean, 'DecisionTree': dt_cv_results_mean, 'KNN': knn_cv_results_mean}\n",
    "types = list(bar_plot_data.keys())\n",
    "values = list(bar_plot_data.values())\n",
    "\n",
    "plt.bar(types, values, width=0.5)\n",
    "plt.xlabel('Types of Models')\n",
    "plt.ylabel('Mean Score Values')\n",
    "plt.title('Performance Comparision')\n",
    "\n",
    "plt.show()"
   ]
  },
  {
   "cell_type": "code",
   "execution_count": 28,
   "metadata": {},
   "outputs": [
    {
     "data": {
      "image/png": "[encoded data removed]",
      "text/plain": [
       "<Figure size 432x288 with 1 Axes>"
      ]
     },
     "metadata": {
      "needs_background": "light"
     },
     "output_type": "display_data"
    }
   ],
   "source": [
    "bar_plot_data = {'Ada': ada_mean, 'Gradient': gradient_mean, 'Random': random_mean, 'Extra': extra_mean, 'Histogram': histo_mean}\n",
    "types = list(bar_plot_data.keys())\n",
    "values = list(bar_plot_data.values())\n",
    "\n",
    "plt.bar(types, values, width=0.5)\n",
    "plt.xlabel('Types of Models')\n",
    "plt.ylabel('Mean Score Values')\n",
    "plt.title('Performance Comparision')\n",
    "\n",
    "plt.show()"
   ]
  },
  {
   "cell_type": "markdown",
   "metadata": {},
   "source": [
    "## Random Forest Visualization"
   ]
  },
  {
   "cell_type": "code",
   "execution_count": 30,
   "metadata": {},
   "outputs": [
    {
     "data": {
      "text/plain": [
       "<AxesSubplot:title={'center':'Random forest importances'}>"
      ]
     },
     "execution_count": 30,
     "metadata": {},
     "output_type": "execute_result"
    },
    {
     "data": {
      "image/png": "[encoded data removed]",
      "text/plain": [
       "<Figure size 432x288 with 1 Axes>"
      ]
     },
     "metadata": {
      "needs_background": "light"
     },
     "output_type": "display_data"
    }
   ],
   "source": [
    "rfclf.fit(X_train, y_train)\n",
    "\n",
    "pd.Series(rfclf.feature_importances_, index = X_train.columns).nlargest(7).plot(kind = 'barh', title = 'Random forest importances', sort_columns = True)\n"
   ]
  }
 ],
 "metadata": {
  "colab": {
   "collapsed_sections": [],
   "name": "Classifier Model Selection and Tuning.ipynb",
   "provenance": []
  },
  "interpreter": {
   "hash": "408eede7259bd3f21a2c1c31b3ca2f0e8fa0e15dfdb9160368c44a2c3e77a731"
  },
  "kernelspec": {
   "display_name": "Python 3 (ipykernel)",
   "language": "python",
   "name": "python3"
  },
  "language_info": {
   "codemirror_mode": {
    "name": "ipython",
    "version": 3
   },
   "file_extension": ".py",
   "mimetype": "text/x-python",
   "name": "python",
   "nbconvert_exporter": "python",
   "pygments_lexer": "ipython3",
   "version": "3.9.7"
  }
 },
 "nbformat": 4,
 "nbformat_minor": 1
}
