{
 "cells": [
  {
   "cell_type": "code",
   "execution_count": 1,
   "metadata": {
    "id": "48a079ae"
   },
   "outputs": [],
   "source": [
    "from sklearn.model_selection import train_test_split\n",
    "import pandas as pd\n",
    "from sklearn.cluster import KMeans\n",
    "from sklearn import metrics\n",
    "df = pd.read_csv('heart-2020-cleaned-numerical.csv')\n"
   ]
  },
  {
   "cell_type": "code",
   "execution_count": 2,
   "metadata": {
    "colab": {
     "base_uri": "https://localhost:8080/"
    },
    "executionInfo": {
     "elapsed": 6,
     "status": "ok",
     "timestamp": 1653064685392,
     "user": {
      "displayName": "Mieraf Mulat",
      "userId": "09029465746274062863"
     },
     "user_tz": 300
    },
    "id": "2fde5ae9",
    "outputId": "4fb7df62-95f5-4870-d40c-2e3031f0bdff"
   },
   "outputs": [
    {
     "name": "stdout",
     "output_type": "stream",
     "text": [
      "319795\n"
     ]
    }
   ],
   "source": [
    "print(len(df))"
   ]
  },
  {
   "cell_type": "code",
   "execution_count": 3,
   "metadata": {
    "colab": {
     "base_uri": "https://localhost:8080/",
     "height": 270
    },
    "executionInfo": {
     "elapsed": 66146,
     "status": "ok",
     "timestamp": 1653064751535,
     "user": {
      "displayName": "Mieraf Mulat",
      "userId": "09029465746274062863"
     },
     "user_tz": 300
    },
    "id": "e4025ced",
    "outputId": "e1621b62-5b5b-461a-a4be-639a95fd24ad"
   },
   "outputs": [
    {
     "name": "stdout",
     "output_type": "stream",
     "text": [
      "<class 'pandas.core.frame.DataFrame'>\n",
      "RangeIndex: 319795 entries, 0 to 319794\n",
      "Data columns (total 25 columns):\n",
      " #   Column                        Non-Null Count   Dtype  \n",
      "---  ------                        --------------   -----  \n",
      " 0   HeartDisease                  319795 non-null  int64  \n",
      " 1   BMI                           319795 non-null  float64\n",
      " 2   Smoking                       319795 non-null  int64  \n",
      " 3   AlcoholDrinking               319795 non-null  int64  \n",
      " 4   Stroke                        319795 non-null  int64  \n",
      " 5   PhysicalHealth                319795 non-null  float64\n",
      " 6   MentalHealth                  319795 non-null  float64\n",
      " 7   DiffWalking                   319795 non-null  int64  \n",
      " 8   Sex                           319795 non-null  int64  \n",
      " 9   AgeCategory                   319795 non-null  int64  \n",
      " 10  White                         319795 non-null  int64  \n",
      " 11  Other                         319795 non-null  int64  \n",
      " 12  Hispanic                      319795 non-null  int64  \n",
      " 13  Black                         319795 non-null  int64  \n",
      " 14  Asian                         319795 non-null  int64  \n",
      " 15  AmericanIndian/AlaskanNative  319795 non-null  int64  \n",
      " 16  Diabetic                      319795 non-null  int64  \n",
      " 17  DiabeticWhilePregnant         319795 non-null  int64  \n",
      " 18  BorderlineDiabetic            319795 non-null  int64  \n",
      " 19  PhysicalActivity              319795 non-null  int64  \n",
      " 20  GenHealth                     319795 non-null  int64  \n",
      " 21  SleepTime                     319795 non-null  float64\n",
      " 22  Asthma                        319795 non-null  int64  \n",
      " 23  KidneyDisease                 319795 non-null  int64  \n",
      " 24  SkinCancer                    319795 non-null  int64  \n",
      "dtypes: float64(4), int64(21)\n",
      "memory usage: 61.0 MB\n"
     ]
    }
   ],
   "source": [
    "\n",
    "df.head(5)\n",
    "df.info()"
   ]
  },
  {
   "cell_type": "code",
   "execution_count": 4,
   "metadata": {},
   "outputs": [
    {
     "name": "stdout",
     "output_type": "stream",
     "text": [
      "total 319795\n",
      "hd 27373\n",
      "nhd 292422\n",
      "curr total 27373\n",
      "curr total 27373\n",
      "54746\n"
     ]
    }
   ],
   "source": [
    "# balanance data\n",
    "print(\"total\" ,len(df))\n",
    "df_HD = df.loc[df['HeartDisease'] == 1]\n",
    "df_NHD = df.loc[df['HeartDisease'] == 0]\n",
    "print('hd', len(df_HD))\n",
    "print('nhd', len(df_NHD))\n",
    "#get equal amount of sample of each\n",
    "df_HD = df_HD.sample(27373)\n",
    "print('curr total', len(df_HD))\n",
    "df_NHD = df_NHD.sample(27373)\n",
    "print('curr total', len(df_NHD))\n",
    "# merge the two types\n",
    "df = pd.concat([df_HD, df_NHD], axis=0)\n",
    "print(len(df))"
   ]
  },
  {
   "cell_type": "code",
   "execution_count": 5,
   "metadata": {},
   "outputs": [],
   "source": [
    "X = df.loc[:, df.columns != 'HeartDisease']\n",
    "y = df['HeartDisease']\n",
    "X_train, X_test, y_train, y_test = train_test_split(X,y,test_size=0.2,random_state=0)\n",
    "\n",
    "from sklearn.preprocessing import StandardScaler\n",
    "from sklearn.preprocessing import MinMaxScaler\n",
    "sscaler = StandardScaler()\n",
    "mmscaler = MinMaxScaler()\n",
    "\n",
    "sscaler.fit(X_train, y_train)\n",
    "mmscaler.fit(X_train, y_train)\n",
    "\n",
    "X_train_sscaled = pd.DataFrame(sscaler.transform(X_train))\n",
    "X_train_mmscaled = pd.DataFrame(mmscaler.transform(X_train))\n",
    "X_test_sscaled = pd.DataFrame(sscaler.transform(X_test))\n",
    "X_test_mmscaled = pd.DataFrame(mmscaler.transform(X_test))"
   ]
  },
  {
   "cell_type": "code",
   "execution_count": 7,
   "metadata": {},
   "outputs": [
    {
     "data": {
      "text/html": [
       "<div>\n",
       "<style scoped>\n",
       "    .dataframe tbody tr th:only-of-type {\n",
       "        vertical-align: middle;\n",
       "    }\n",
       "\n",
       "    .dataframe tbody tr th {\n",
       "        vertical-align: top;\n",
       "    }\n",
       "\n",
       "    .dataframe thead th {\n",
       "        text-align: right;\n",
       "    }\n",
       "</style>\n",
       "<table border=\"1\" class=\"dataframe\">\n",
       "  <thead>\n",
       "    <tr style=\"text-align: right;\">\n",
       "      <th></th>\n",
       "      <th>0</th>\n",
       "      <th>1</th>\n",
       "      <th>2</th>\n",
       "      <th>3</th>\n",
       "      <th>4</th>\n",
       "      <th>5</th>\n",
       "      <th>6</th>\n",
       "      <th>7</th>\n",
       "      <th>8</th>\n",
       "      <th>9</th>\n",
       "      <th>...</th>\n",
       "      <th>14</th>\n",
       "      <th>15</th>\n",
       "      <th>16</th>\n",
       "      <th>17</th>\n",
       "      <th>18</th>\n",
       "      <th>19</th>\n",
       "      <th>20</th>\n",
       "      <th>21</th>\n",
       "      <th>22</th>\n",
       "      <th>23</th>\n",
       "    </tr>\n",
       "  </thead>\n",
       "  <tbody>\n",
       "    <tr>\n",
       "      <th>0</th>\n",
       "      <td>0.981404</td>\n",
       "      <td>-0.985762</td>\n",
       "      <td>-0.242952</td>\n",
       "      <td>-0.321942</td>\n",
       "      <td>-0.540450</td>\n",
       "      <td>-0.494252</td>\n",
       "      <td>-0.566381</td>\n",
       "      <td>-0.940570</td>\n",
       "      <td>-0.817585</td>\n",
       "      <td>-1.966409</td>\n",
       "      <td>...</td>\n",
       "      <td>-0.136231</td>\n",
       "      <td>-0.530127</td>\n",
       "      <td>-0.077279</td>\n",
       "      <td>-0.158554</td>\n",
       "      <td>-1.584608</td>\n",
       "      <td>-0.190712</td>\n",
       "      <td>-0.072403</td>\n",
       "      <td>-0.428313</td>\n",
       "      <td>-0.287889</td>\n",
       "      <td>-0.392214</td>\n",
       "    </tr>\n",
       "    <tr>\n",
       "      <th>1</th>\n",
       "      <td>-0.031645</td>\n",
       "      <td>-0.985762</td>\n",
       "      <td>-0.242952</td>\n",
       "      <td>-0.321942</td>\n",
       "      <td>-0.540450</td>\n",
       "      <td>3.037354</td>\n",
       "      <td>-0.566381</td>\n",
       "      <td>-0.940570</td>\n",
       "      <td>0.071351</td>\n",
       "      <td>0.508541</td>\n",
       "      <td>...</td>\n",
       "      <td>-0.136231</td>\n",
       "      <td>-0.530127</td>\n",
       "      <td>-0.077279</td>\n",
       "      <td>-0.158554</td>\n",
       "      <td>0.631071</td>\n",
       "      <td>1.562893</td>\n",
       "      <td>-0.072403</td>\n",
       "      <td>-0.428313</td>\n",
       "      <td>-0.287889</td>\n",
       "      <td>-0.392214</td>\n",
       "    </tr>\n",
       "    <tr>\n",
       "      <th>2</th>\n",
       "      <td>-0.679687</td>\n",
       "      <td>-0.985762</td>\n",
       "      <td>-0.242952</td>\n",
       "      <td>-0.321942</td>\n",
       "      <td>-0.540450</td>\n",
       "      <td>-0.494252</td>\n",
       "      <td>-0.566381</td>\n",
       "      <td>-0.940570</td>\n",
       "      <td>0.663976</td>\n",
       "      <td>0.508541</td>\n",
       "      <td>...</td>\n",
       "      <td>-0.136231</td>\n",
       "      <td>-0.530127</td>\n",
       "      <td>-0.077279</td>\n",
       "      <td>-0.158554</td>\n",
       "      <td>0.631071</td>\n",
       "      <td>0.686090</td>\n",
       "      <td>0.551308</td>\n",
       "      <td>-0.428313</td>\n",
       "      <td>-0.287889</td>\n",
       "      <td>-0.392214</td>\n",
       "    </tr>\n",
       "    <tr>\n",
       "      <th>3</th>\n",
       "      <td>0.051873</td>\n",
       "      <td>1.014444</td>\n",
       "      <td>-0.242952</td>\n",
       "      <td>-0.321942</td>\n",
       "      <td>-0.540450</td>\n",
       "      <td>-0.494252</td>\n",
       "      <td>-0.566381</td>\n",
       "      <td>-0.940570</td>\n",
       "      <td>-0.817585</td>\n",
       "      <td>0.508541</td>\n",
       "      <td>...</td>\n",
       "      <td>-0.136231</td>\n",
       "      <td>-0.530127</td>\n",
       "      <td>-0.077279</td>\n",
       "      <td>6.307012</td>\n",
       "      <td>-1.584608</td>\n",
       "      <td>-1.944317</td>\n",
       "      <td>-1.319824</td>\n",
       "      <td>-0.428313</td>\n",
       "      <td>3.473562</td>\n",
       "      <td>-0.392214</td>\n",
       "    </tr>\n",
       "    <tr>\n",
       "      <th>4</th>\n",
       "      <td>-0.141457</td>\n",
       "      <td>-0.985762</td>\n",
       "      <td>-0.242952</td>\n",
       "      <td>-0.321942</td>\n",
       "      <td>-0.238953</td>\n",
       "      <td>1.271551</td>\n",
       "      <td>-0.566381</td>\n",
       "      <td>1.063185</td>\n",
       "      <td>-1.410209</td>\n",
       "      <td>0.508541</td>\n",
       "      <td>...</td>\n",
       "      <td>-0.136231</td>\n",
       "      <td>-0.530127</td>\n",
       "      <td>-0.077279</td>\n",
       "      <td>-0.158554</td>\n",
       "      <td>0.631071</td>\n",
       "      <td>-0.190712</td>\n",
       "      <td>0.551308</td>\n",
       "      <td>-0.428313</td>\n",
       "      <td>-0.287889</td>\n",
       "      <td>-0.392214</td>\n",
       "    </tr>\n",
       "  </tbody>\n",
       "</table>\n",
       "<p>5 rows × 24 columns</p>\n",
       "</div>"
      ],
      "text/plain": [
       "         0         1         2         3         4         5         6   \\\n",
       "0  0.981404 -0.985762 -0.242952 -0.321942 -0.540450 -0.494252 -0.566381   \n",
       "1 -0.031645 -0.985762 -0.242952 -0.321942 -0.540450  3.037354 -0.566381   \n",
       "2 -0.679687 -0.985762 -0.242952 -0.321942 -0.540450 -0.494252 -0.566381   \n",
       "3  0.051873  1.014444 -0.242952 -0.321942 -0.540450 -0.494252 -0.566381   \n",
       "4 -0.141457 -0.985762 -0.242952 -0.321942 -0.238953  1.271551 -0.566381   \n",
       "\n",
       "         7         8         9   ...        14        15        16        17  \\\n",
       "0 -0.940570 -0.817585 -1.966409  ... -0.136231 -0.530127 -0.077279 -0.158554   \n",
       "1 -0.940570  0.071351  0.508541  ... -0.136231 -0.530127 -0.077279 -0.158554   \n",
       "2 -0.940570  0.663976  0.508541  ... -0.136231 -0.530127 -0.077279 -0.158554   \n",
       "3 -0.940570 -0.817585  0.508541  ... -0.136231 -0.530127 -0.077279  6.307012   \n",
       "4  1.063185 -1.410209  0.508541  ... -0.136231 -0.530127 -0.077279 -0.158554   \n",
       "\n",
       "         18        19        20        21        22        23  \n",
       "0 -1.584608 -0.190712 -0.072403 -0.428313 -0.287889 -0.392214  \n",
       "1  0.631071  1.562893 -0.072403 -0.428313 -0.287889 -0.392214  \n",
       "2  0.631071  0.686090  0.551308 -0.428313 -0.287889 -0.392214  \n",
       "3 -1.584608 -1.944317 -1.319824 -0.428313  3.473562 -0.392214  \n",
       "4  0.631071 -0.190712  0.551308 -0.428313 -0.287889 -0.392214  \n",
       "\n",
       "[5 rows x 24 columns]"
      ]
     },
     "execution_count": 7,
     "metadata": {},
     "output_type": "execute_result"
    }
   ],
   "source": [
    "X_train_sscaled.head() #columns match so good!"
   ]
  },
  {
   "cell_type": "code",
   "execution_count": 8,
   "metadata": {},
   "outputs": [
    {
     "name": "stdout",
     "output_type": "stream",
     "text": [
      "kmeans accuracy score:  0.5878538812785388\n",
      "kmeans f1 score:  0.37965635738831616\n",
      "kmeans ROC_AUC score:  0.5857922787556303\n"
     ]
    }
   ],
   "source": [
    "kmeans = KMeans(n_clusters=2).fit(X_train)\n",
    "y_pred = kmeans.predict(X_test)\n",
    "print(\"kmeans accuracy score: \", metrics.accuracy_score(y_test, y_pred))\n",
    "print(\"kmeans f1 score: \", metrics.f1_score(y_test, y_pred))\n",
    "print(\"kmeans ROC_AUC score: \", metrics.roc_auc_score(y_test, y_pred))"
   ]
  },
  {
   "cell_type": "code",
   "execution_count": 9,
   "metadata": {},
   "outputs": [
    {
     "name": "stdout",
     "output_type": "stream",
     "text": [
      "standard scaling\n",
      "kmeans accuracy score:  0.6648401826484018\n",
      "kmeans f1 score:  0.5707602339181287\n",
      "kmeans ROC_AUC score:  0.6635046645863852\n"
     ]
    }
   ],
   "source": [
    "print(\"standard scaling\")\n",
    "kmeans = KMeans(n_clusters=2).fit(X_train_sscaled)\n",
    "y_pred = kmeans.predict(X_test_sscaled)\n",
    "print(\"kmeans accuracy score: \", metrics.accuracy_score(y_test, y_pred))\n",
    "print(\"kmeans f1 score: \", metrics.f1_score(y_test, y_pred))\n",
    "print(\"kmeans ROC_AUC score: \", metrics.roc_auc_score(y_test, y_pred))"
   ]
  },
  {
   "cell_type": "code",
   "execution_count": 10,
   "metadata": {
    "colab": {
     "base_uri": "https://localhost:8080/"
    },
    "executionInfo": {
     "elapsed": 7,
     "status": "ok",
     "timestamp": 1653064751536,
     "user": {
      "displayName": "Mieraf Mulat",
      "userId": "09029465746274062863"
     },
     "user_tz": 300
    },
    "id": "9ff8986d",
    "outputId": "e29a0915-dc0b-4fb4-cec0-79cf823647b9"
   },
   "outputs": [
    {
     "name": "stdout",
     "output_type": "stream",
     "text": [
      "MinMax scaling\n",
      "kmeans accuracy score:  0.6577168949771689\n",
      "kmeans f1 score:  0.5612268789510653\n",
      "kmeans ROC_AUC score:  0.6563765650027028\n"
     ]
    }
   ],
   "source": [
    "print(\"MinMax scaling\")\n",
    "kmeans = KMeans(n_clusters=2).fit(X_train_mmscaled)\n",
    "y_pred = kmeans.predict(X_test_mmscaled)\n",
    "print(\"kmeans accuracy score: \", metrics.accuracy_score(y_test, y_pred))\n",
    "print(\"kmeans f1 score: \", metrics.f1_score(y_test, y_pred))\n",
    "print(\"kmeans ROC_AUC score: \", metrics.roc_auc_score(y_test, y_pred))"
   ]
  },
  {
   "cell_type": "code",
   "execution_count": null,
   "metadata": {},
   "outputs": [],
   "source": []
  }
 ],
 "metadata": {
  "colab": {
   "collapsed_sections": [],
   "name": "classifier tuning.ipynb",
   "provenance": []
  },
  "kernelspec": {
   "display_name": "Python 3",
   "language": "python",
   "name": "python3"
  },
  "language_info": {
   "codemirror_mode": {
    "name": "ipython",
    "version": 3
   },
   "file_extension": ".py",
   "mimetype": "text/x-python",
   "name": "python",
   "nbconvert_exporter": "python",
   "pygments_lexer": "ipython3",
   "version": "3.8.5"
  }
 },
 "nbformat": 4,
 "nbformat_minor": 5
}
