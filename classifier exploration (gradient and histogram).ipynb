{
 "cells": [
  {
   "cell_type": "code",
   "execution_count": 2,
   "metadata": {
    "id": "48a079ae"
   },
   "outputs": [],
   "source": [
    "from sklearn.model_selection import train_test_split\n",
    "import pandas as pd\n",
    "df = pd.read_csv('heart-2020-cleaned-numerical.csv')\n"
   ]
  },
  {
   "cell_type": "code",
   "execution_count": 3,
   "metadata": {
    "colab": {
     "base_uri": "https://localhost:8080/"
    },
    "executionInfo": {
     "elapsed": 6,
     "status": "ok",
     "timestamp": 1653064685392,
     "user": {
      "displayName": "Mieraf Mulat",
      "userId": "09029465746274062863"
     },
     "user_tz": 300
    },
    "id": "2fde5ae9",
    "outputId": "4fb7df62-95f5-4870-d40c-2e3031f0bdff"
   },
   "outputs": [
    {
     "name": "stdout",
     "output_type": "stream",
     "text": [
      "319795\n"
     ]
    }
   ],
   "source": [
    "print(len(df))"
   ]
  },
  {
   "cell_type": "code",
   "execution_count": 4,
   "metadata": {
    "colab": {
     "base_uri": "https://localhost:8080/",
     "height": 270
    },
    "executionInfo": {
     "elapsed": 66146,
     "status": "ok",
     "timestamp": 1653064751535,
     "user": {
      "displayName": "Mieraf Mulat",
      "userId": "09029465746274062863"
     },
     "user_tz": 300
    },
    "id": "e4025ced",
    "outputId": "e1621b62-5b5b-461a-a4be-639a95fd24ad"
   },
   "outputs": [
    {
     "data": {
      "text/html": [
       "<div>\n",
       "<style scoped>\n",
       "    .dataframe tbody tr th:only-of-type {\n",
       "        vertical-align: middle;\n",
       "    }\n",
       "\n",
       "    .dataframe tbody tr th {\n",
       "        vertical-align: top;\n",
       "    }\n",
       "\n",
       "    .dataframe thead th {\n",
       "        text-align: right;\n",
       "    }\n",
       "</style>\n",
       "<table border=\"1\" class=\"dataframe\">\n",
       "  <thead>\n",
       "    <tr style=\"text-align: right;\">\n",
       "      <th></th>\n",
       "      <th>HeartDisease</th>\n",
       "      <th>BMI</th>\n",
       "      <th>Smoking</th>\n",
       "      <th>AlcoholDrinking</th>\n",
       "      <th>Stroke</th>\n",
       "      <th>PhysicalHealth</th>\n",
       "      <th>MentalHealth</th>\n",
       "      <th>DiffWalking</th>\n",
       "      <th>Sex</th>\n",
       "      <th>AgeCategory</th>\n",
       "      <th>Race</th>\n",
       "      <th>Diabetic</th>\n",
       "      <th>PhysicalActivity</th>\n",
       "      <th>GenHealth</th>\n",
       "      <th>SleepTime</th>\n",
       "      <th>Asthma</th>\n",
       "      <th>KidneyDisease</th>\n",
       "      <th>SkinCancer</th>\n",
       "    </tr>\n",
       "  </thead>\n",
       "  <tbody>\n",
       "    <tr>\n",
       "      <th>0</th>\n",
       "      <td>0</td>\n",
       "      <td>16.60</td>\n",
       "      <td>1</td>\n",
       "      <td>0</td>\n",
       "      <td>0</td>\n",
       "      <td>3.0</td>\n",
       "      <td>30.0</td>\n",
       "      <td>0</td>\n",
       "      <td>0</td>\n",
       "      <td>7</td>\n",
       "      <td>4</td>\n",
       "      <td>1</td>\n",
       "      <td>1</td>\n",
       "      <td>4</td>\n",
       "      <td>5.0</td>\n",
       "      <td>1</td>\n",
       "      <td>0</td>\n",
       "      <td>1</td>\n",
       "    </tr>\n",
       "    <tr>\n",
       "      <th>1</th>\n",
       "      <td>0</td>\n",
       "      <td>20.34</td>\n",
       "      <td>0</td>\n",
       "      <td>0</td>\n",
       "      <td>1</td>\n",
       "      <td>0.0</td>\n",
       "      <td>0.0</td>\n",
       "      <td>0</td>\n",
       "      <td>0</td>\n",
       "      <td>12</td>\n",
       "      <td>4</td>\n",
       "      <td>0</td>\n",
       "      <td>1</td>\n",
       "      <td>4</td>\n",
       "      <td>7.0</td>\n",
       "      <td>0</td>\n",
       "      <td>0</td>\n",
       "      <td>0</td>\n",
       "    </tr>\n",
       "    <tr>\n",
       "      <th>2</th>\n",
       "      <td>0</td>\n",
       "      <td>26.58</td>\n",
       "      <td>1</td>\n",
       "      <td>0</td>\n",
       "      <td>0</td>\n",
       "      <td>20.0</td>\n",
       "      <td>30.0</td>\n",
       "      <td>0</td>\n",
       "      <td>1</td>\n",
       "      <td>9</td>\n",
       "      <td>4</td>\n",
       "      <td>1</td>\n",
       "      <td>1</td>\n",
       "      <td>2</td>\n",
       "      <td>8.0</td>\n",
       "      <td>1</td>\n",
       "      <td>0</td>\n",
       "      <td>0</td>\n",
       "    </tr>\n",
       "    <tr>\n",
       "      <th>3</th>\n",
       "      <td>0</td>\n",
       "      <td>24.21</td>\n",
       "      <td>0</td>\n",
       "      <td>0</td>\n",
       "      <td>0</td>\n",
       "      <td>0.0</td>\n",
       "      <td>0.0</td>\n",
       "      <td>0</td>\n",
       "      <td>0</td>\n",
       "      <td>11</td>\n",
       "      <td>4</td>\n",
       "      <td>0</td>\n",
       "      <td>0</td>\n",
       "      <td>3</td>\n",
       "      <td>6.0</td>\n",
       "      <td>0</td>\n",
       "      <td>0</td>\n",
       "      <td>1</td>\n",
       "    </tr>\n",
       "    <tr>\n",
       "      <th>4</th>\n",
       "      <td>0</td>\n",
       "      <td>23.71</td>\n",
       "      <td>0</td>\n",
       "      <td>0</td>\n",
       "      <td>0</td>\n",
       "      <td>28.0</td>\n",
       "      <td>0.0</td>\n",
       "      <td>1</td>\n",
       "      <td>0</td>\n",
       "      <td>4</td>\n",
       "      <td>4</td>\n",
       "      <td>0</td>\n",
       "      <td>1</td>\n",
       "      <td>4</td>\n",
       "      <td>8.0</td>\n",
       "      <td>0</td>\n",
       "      <td>0</td>\n",
       "      <td>0</td>\n",
       "    </tr>\n",
       "  </tbody>\n",
       "</table>\n",
       "</div>"
      ],
      "text/plain": [
       "   HeartDisease    BMI  Smoking  AlcoholDrinking  Stroke  PhysicalHealth  \\\n",
       "0             0  16.60        1                0       0             3.0   \n",
       "1             0  20.34        0                0       1             0.0   \n",
       "2             0  26.58        1                0       0            20.0   \n",
       "3             0  24.21        0                0       0             0.0   \n",
       "4             0  23.71        0                0       0            28.0   \n",
       "\n",
       "   MentalHealth  DiffWalking  Sex  AgeCategory  Race  Diabetic  \\\n",
       "0          30.0            0    0            7     4         1   \n",
       "1           0.0            0    0           12     4         0   \n",
       "2          30.0            0    1            9     4         1   \n",
       "3           0.0            0    0           11     4         0   \n",
       "4           0.0            1    0            4     4         0   \n",
       "\n",
       "   PhysicalActivity  GenHealth  SleepTime  Asthma  KidneyDisease  SkinCancer  \n",
       "0                 1          4        5.0       1              0           1  \n",
       "1                 1          4        7.0       0              0           0  \n",
       "2                 1          2        8.0       1              0           0  \n",
       "3                 0          3        6.0       0              0           1  \n",
       "4                 1          4        8.0       0              0           0  "
      ]
     },
     "execution_count": 4,
     "metadata": {},
     "output_type": "execute_result"
    }
   ],
   "source": [
    "df = df.replace('Yes', 1, regex=True).replace('No', 0, regex=True).replace('Yes (during pregnancy)', 1, regex=True)\n",
    "df = df.replace('Female', 0, regex=True).replace('Male', 1, regex=True)\n",
    "df = df.replace('18-24', 0, regex=True).replace(\"25-29\", 1, regex=True).replace(\"30-34\", 2, regex=True).replace(\"35-39\", 3, regex=True)\n",
    "df = df.replace(\"40-44\", 4, regex=True).replace(\"45-49\", 5, regex=True).replace(\"50-54\", 6, regex=True).replace(\"55-59\", 7, regex=True)\n",
    "df = df.replace(\"60-64\", 8, regex=True).replace(\"65-69\", 9, regex=True).replace(\"70-74\", 10, regex=True).replace(\"75-79\", 11, regex=True).replace(\"80 or older\", 12, regex=True)\n",
    "\n",
    "df =df.replace(\"American Indian/Alaskan Native\", 0, regex=True)\n",
    "df =df.replace(\"Asian\", 1, regex=True)\n",
    "df =df.replace(\"Black\", 2, regex=True)\n",
    "df =df.replace(\"Hispanic\", 3, regex=True)\n",
    "df =df.replace(\"White\", 4, regex=True)\n",
    "df =df.replace(\"Other\", 5, regex=True)\n",
    "\n",
    "\n",
    "\n",
    "df.head(5)"
   ]
  },
  {
   "cell_type": "code",
   "execution_count": 5,
   "metadata": {
    "colab": {
     "base_uri": "https://localhost:8080/"
    },
    "executionInfo": {
     "elapsed": 7,
     "status": "ok",
     "timestamp": 1653064751536,
     "user": {
      "displayName": "Mieraf Mulat",
      "userId": "09029465746274062863"
     },
     "user_tz": 300
    },
    "id": "9ff8986d",
    "outputId": "e29a0915-dc0b-4fb4-cec0-79cf823647b9"
   },
   "outputs": [
    {
     "name": "stdout",
     "output_type": "stream",
     "text": [
      "total 319795\n"
     ]
    }
   ],
   "source": [
    "print(\"total\" ,len(df))"
   ]
  },
  {
   "cell_type": "code",
   "execution_count": 6,
   "metadata": {
    "colab": {
     "base_uri": "https://localhost:8080/"
    },
    "executionInfo": {
     "elapsed": 131,
     "status": "ok",
     "timestamp": 1653064751662,
     "user": {
      "displayName": "Mieraf Mulat",
      "userId": "09029465746274062863"
     },
     "user_tz": 300
    },
    "id": "fc8db03e",
    "outputId": "69d2ac7f-9bdd-4cd7-f581-7772337185c8"
   },
   "outputs": [
    {
     "name": "stdout",
     "output_type": "stream",
     "text": [
      "total 319795\n",
      "hd 27373\n",
      "nhd 292422\n",
      "curr total 27373\n",
      "curr total 27373\n",
      "54746\n"
     ]
    }
   ],
   "source": [
    "# balancing data\n",
    "# seperate by col value\n",
    "print(\"total\" ,len(df))\n",
    "df_HD = df.loc[df['HeartDisease'] == 1]\n",
    "df_NHD = df.loc[df['HeartDisease'] == 0]\n",
    "print('hd', len(df_HD))\n",
    "print('nhd', len(df_NHD))\n",
    "#get equal amount of sample of each\n",
    "df_HD = df_HD.sample(27373)\n",
    "print('curr total', len(df_HD))\n",
    "df_NHD = df_NHD.sample(27373)\n",
    "print('curr total', len(df_NHD))\n",
    "# merge the two types\n",
    "df = pd.concat([df_HD, df_NHD], axis=0)\n",
    "print(len(df))\n",
    "# df.head(3)"
   ]
  },
  {
   "cell_type": "code",
   "execution_count": 7,
   "metadata": {
    "colab": {
     "base_uri": "https://localhost:8080/"
    },
    "executionInfo": {
     "elapsed": 4,
     "status": "ok",
     "timestamp": 1653064751663,
     "user": {
      "displayName": "Mieraf Mulat",
      "userId": "09029465746274062863"
     },
     "user_tz": 300
    },
    "id": "9ef7c028",
    "outputId": "0f9e9943-2f81-4538-80a1-3ffec5ebfb38"
   },
   "outputs": [
    {
     "name": "stdout",
     "output_type": "stream",
     "text": [
      "training size:  43796 43796\n",
      "test size:  10950 10950\n"
     ]
    }
   ],
   "source": [
    "X = df.loc[:, df.columns != 'HeartDisease']\n",
    "y = df['HeartDisease']\n",
    "X_train, X_test, y_train, y_test = train_test_split(X,y,test_size=0.2,random_state=0)\n",
    "print('training size: ', len(X_train), len(y_train))\n",
    "print('test size: ', len(X_test), len(y_test))"
   ]
  },
  {
   "cell_type": "code",
   "execution_count": 8,
   "metadata": {
    "colab": {
     "base_uri": "https://localhost:8080/"
    },
    "executionInfo": {
     "elapsed": 19011,
     "status": "ok",
     "timestamp": 1653064770671,
     "user": {
      "displayName": "Mieraf Mulat",
      "userId": "09029465746274062863"
     },
     "user_tz": 300
    },
    "id": "5c3aec9b",
    "outputId": "150f1ae9-8aac-4680-e105-630589050b2a"
   },
   "outputs": [
    {
     "name": "stdout",
     "output_type": "stream",
     "text": [
      "gradient booster test score:  0.762923490046246\n"
     ]
    }
   ],
   "source": [
    "from sklearn.model_selection import cross_validate\n",
    "from sklearn.ensemble import GradientBoostingClassifier\n",
    "gbclf = GradientBoostingClassifier()\n",
    "cv_results = cross_validate(gbclf, X_train, y_train, cv=5)\n",
    "print('gradient booster test score: ', sum(cv_results['test_score'])/len(cv_results['test_score']))#gives 85\n",
    "from sklearn.model_selection import GridSearchCV\n",
    "import numpy as np"
   ]
  },
  {
   "cell_type": "code",
   "execution_count": 11,
   "metadata": {
    "colab": {
     "base_uri": "https://localhost:8080/",
     "height": 371
    },
    "executionInfo": {
     "elapsed": 12139,
     "status": "error",
     "timestamp": 1653066287805,
     "user": {
      "displayName": "Caroline Jennings",
      "userId": "16134697735208542004"
     },
     "user_tz": 300
    },
    "id": "4798944b",
    "outputId": "2d5d7351-de88-4683-f20d-2c0e78c21148"
   },
   "outputs": [
    {
     "name": "stdout",
     "output_type": "stream",
     "text": [
      "Fitting 5 folds for each of 55 candidates, totalling 275 fits\n"
     ]
    },
    {
     "name": "stderr",
     "output_type": "stream",
     "text": [
      "[Parallel(n_jobs=-1)]: Using backend LokyBackend with 10 concurrent workers.\n",
      "[Parallel(n_jobs=-1)]: Done  30 tasks      | elapsed:    8.8s\n",
      "[Parallel(n_jobs=-1)]: Done 180 tasks      | elapsed:  4.3min\n",
      "[Parallel(n_jobs=-1)]: Done 275 out of 275 | elapsed:  7.0min finished\n"
     ]
    },
    {
     "data": {
      "text/plain": [
       "GridSearchCV(cv=5, estimator=GradientBoostingClassifier(), n_jobs=-1,\n",
       "             param_grid={'learning_rate': array([0. , 0.1, 0.2, 0.3, 0.4, 0.5, 0.6, 0.7, 0.8, 0.9, 1. ]),\n",
       "                         'n_estimators': array([100, 200, 300, 400, 500])},\n",
       "             scoring='f1', verbose=1)"
      ]
     },
     "execution_count": 11,
     "metadata": {},
     "output_type": "execute_result"
    }
   ],
   "source": [
    "\n",
    "parameters = {\n",
    "    'learning_rate' : np.arange(0, 1.1, 0.1), \n",
    "    'n_estimators': np.arange(100, 501, 100)\n",
    "    # 'subsample': np.arange(0, 1.1, 0.1)\n",
    "}\n",
    "# n_cpus = multiprocessing.cpu_count()\n",
    "gbc = GridSearchCV(gbclf, parameters,cv=5, scoring='f1', verbose=1, n_jobs=-1)\n",
    "gbc.fit(X_train,y_train)"
   ]
  },
  {
   "cell_type": "code",
   "execution_count": 12,
   "metadata": {},
   "outputs": [
    {
     "name": "stdout",
     "output_type": "stream",
     "text": [
      "Best parameters:  {'learning_rate': 0.1, 'n_estimators': 100}\n",
      "Average score from cross-validation of best parameters on training data:  0.7766512699469206\n",
      "F1 score of test data: 0.7739221871713985\n"
     ]
    }
   ],
   "source": [
    "\n",
    "print (\"Best parameters: \" , str(gbc.best_params_))\n",
    "print(\"Average score from cross-validation of best parameters on training data: \", str(gbc.best_score_))\n",
    "print(\"F1 score of test data:\", gbc.score(X_test, y_test))"
   ]
  },
  {
   "cell_type": "code",
   "execution_count": 13,
   "metadata": {},
   "outputs": [
    {
     "name": "stdout",
     "output_type": "stream",
     "text": [
      "Fitting 5 folds for each of 132 candidates, totalling 660 fits\n"
     ]
    },
    {
     "name": "stderr",
     "output_type": "stream",
     "text": [
      "[Parallel(n_jobs=-1)]: Using backend LokyBackend with 10 concurrent workers.\n",
      "[Parallel(n_jobs=-1)]: Done  40 tasks      | elapsed:    0.3s\n",
      "[Parallel(n_jobs=-1)]: Done 470 tasks      | elapsed:  3.9min\n",
      "[Parallel(n_jobs=-1)]: Done 660 out of 660 | elapsed:  7.3min finished\n"
     ]
    },
    {
     "data": {
      "text/plain": [
       "GridSearchCV(cv=5, estimator=GradientBoostingClassifier(), n_jobs=-1,\n",
       "             param_grid={'learning_rate': array([0. , 0.1, 0.2]),\n",
       "                         'n_estimators': array([200, 250, 300, 350]),\n",
       "                         'subsample': array([0. , 0.1, 0.2, 0.3, 0.4, 0.5, 0.6, 0.7, 0.8, 0.9, 1. ])},\n",
       "             scoring='f1', verbose=1)"
      ]
     },
     "execution_count": 13,
     "metadata": {},
     "output_type": "execute_result"
    }
   ],
   "source": [
    "\n",
    "parameters = {\n",
    "    'learning_rate' : np.arange(0, 0.3, 0.1), \n",
    "    'n_estimators': np.arange(200, 400, 50),\n",
    "    'subsample': np.arange(0, 1.1, 0.1)\n",
    "}\n",
    "# n_cpus = multiprocessing.cpu_count()\n",
    "gbc = GridSearchCV(gbclf, parameters,cv=5, scoring='f1', verbose=1, n_jobs=-1)\n",
    "gbc.fit(X_train,y_train)"
   ]
  },
  {
   "cell_type": "code",
   "execution_count": 14,
   "metadata": {},
   "outputs": [
    {
     "name": "stdout",
     "output_type": "stream",
     "text": [
      "Best parameters:  {'learning_rate': 0.1, 'n_estimators': 200, 'subsample': 0.7000000000000001}\n",
      "Average score from cross-validation of best parameters on training data:  0.7763767949074396\n",
      "F1 score of test data: 0.7737917726515218\n"
     ]
    }
   ],
   "source": [
    "\n",
    "print (\"Best parameters: \" , str(gbc.best_params_))\n",
    "print(\"Average score from cross-validation of best parameters on training data: \", str(gbc.best_score_))\n",
    "print(\"F1 score of test data:\", gbc.score(X_test, y_test))"
   ]
  },
  {
   "cell_type": "code",
   "execution_count": 15,
   "metadata": {},
   "outputs": [
    {
     "name": "stdout",
     "output_type": "stream",
     "text": [
      "Fitting 5 folds for each of 216 candidates, totalling 1080 fits\n"
     ]
    },
    {
     "name": "stderr",
     "output_type": "stream",
     "text": [
      "[Parallel(n_jobs=-1)]: Using backend LokyBackend with 10 concurrent workers.\n",
      "[Parallel(n_jobs=-1)]: Done  40 tasks      | elapsed:    0.3s\n",
      "[Parallel(n_jobs=-1)]: Done 400 tasks      | elapsed:  6.5min\n",
      "[Parallel(n_jobs=-1)]: Done 1000 tasks      | elapsed: 18.9min\n",
      "[Parallel(n_jobs=-1)]: Done 1080 out of 1080 | elapsed: 24.7min finished\n"
     ]
    },
    {
     "data": {
      "text/plain": [
       "GridSearchCV(cv=5, estimator=GradientBoostingClassifier(), n_jobs=-1,\n",
       "             param_grid={'criterion': ['friedman_mse', 'squared_error', 'mse'],\n",
       "                         'loss': ['log_loss', 'deviance', 'exponential'],\n",
       "                         'n_estimators': array([100, 150, 200, 250, 300, 350]),\n",
       "                         'subsample': array([0.7, 0.8, 0.9, 1. ])},\n",
       "             scoring='f1', verbose=1)"
      ]
     },
     "execution_count": 15,
     "metadata": {},
     "output_type": "execute_result"
    }
   ],
   "source": [
    "\n",
    "parameters = {\n",
    "    'loss' : ['log_loss', 'deviance', 'exponential'], \n",
    "    'n_estimators': np.arange(100, 400, 50),\n",
    "    'subsample': np.arange(0.7, 1.0, 0.1),\n",
    "    'criterion': ['friedman_mse', 'squared_error', 'mse']\n",
    "}\n",
    "# n_cpus = multiprocessing.cpu_count()\n",
    "gbc = GridSearchCV(gbclf, parameters,cv=5, scoring='f1', verbose=1, n_jobs=-1)\n",
    "gbc.fit(X_train,y_train)"
   ]
  },
  {
   "cell_type": "code",
   "execution_count": 16,
   "metadata": {},
   "outputs": [
    {
     "name": "stdout",
     "output_type": "stream",
     "text": [
      "Best parameters:  {'criterion': 'friedman_mse', 'loss': 'deviance', 'n_estimators': 100, 'subsample': 0.7}\n",
      "Average score from cross-validation of best parameters on training data:  0.7768281624962654\n",
      "F1 score of test data: 0.7735038990624726\n"
     ]
    }
   ],
   "source": [
    "\n",
    "print (\"Best parameters: \" , str(gbc.best_params_))\n",
    "print(\"Average score from cross-validation of best parameters on training data: \", str(gbc.best_score_))\n",
    "print(\"F1 score of test data:\", gbc.score(X_test, y_test))"
   ]
  },
  {
   "cell_type": "code",
   "execution_count": 17,
   "metadata": {},
   "outputs": [
    {
     "name": "stdout",
     "output_type": "stream",
     "text": [
      "Fitting 5 folds for each of 1815 candidates, totalling 9075 fits\n"
     ]
    },
    {
     "name": "stderr",
     "output_type": "stream",
     "text": [
      "[Parallel(n_jobs=-1)]: Using backend LokyBackend with 10 concurrent workers.\n",
      "[Parallel(n_jobs=-1)]: Done  40 tasks      | elapsed:    0.3s\n",
      "[Parallel(n_jobs=-1)]: Done 1072 tasks      | elapsed:  1.5min\n",
      "[Parallel(n_jobs=-1)]: Done 1350 tasks      | elapsed:  3.0min\n",
      "[Parallel(n_jobs=-1)]: Done 1700 tasks      | elapsed:  3.8min\n",
      "[Parallel(n_jobs=-1)]: Done 2230 tasks      | elapsed:  6.3min\n",
      "[Parallel(n_jobs=-1)]: Done 2860 tasks      | elapsed:  8.1min\n",
      "[Parallel(n_jobs=-1)]: Done 3590 tasks      | elapsed:  9.9min\n",
      "[Parallel(n_jobs=-1)]: Done 4420 tasks      | elapsed: 11.5min\n",
      "[Parallel(n_jobs=-1)]: Done 8790 tasks      | elapsed: 12.4min\n",
      "[Parallel(n_jobs=-1)]: Done 9075 out of 9075 | elapsed: 12.4min finished\n"
     ]
    },
    {
     "data": {
      "text/plain": [
       "GridSearchCV(cv=5, estimator=GradientBoostingClassifier(), n_jobs=-1,\n",
       "             param_grid={'criterion': ['friedman_mse'], 'loss': ['deviance'],\n",
       "                         'min_samples_leaf': array([0. , 0.1, 0.2, 0.3, 0.4, 0.5, 0.6, 0.7, 0.8, 0.9, 1. ]),\n",
       "                         'min_samples_split': array([0. , 0.1, 0.2, 0.3, 0.4, 0.5, 0.6, 0.7, 0.8, 0.9, 1. ]),\n",
       "                         'n_estimators': array([150, 175, 200, 225, 250]),\n",
       "                         'subsample': [0.7, 0.8, 0.9]},\n",
       "             scoring='f1', verbose=1)"
      ]
     },
     "execution_count": 17,
     "metadata": {},
     "output_type": "execute_result"
    }
   ],
   "source": [
    "\n",
    "parameters = {\n",
    "    'loss' : ['deviance'], \n",
    "    'n_estimators': np.arange(150, 260, 25),\n",
    "    'subsample': [0.7, 0.8, 0.9],\n",
    "    'criterion': ['friedman_mse'],\n",
    "    'min_samples_split': np.arange(0.0, 1.1, 0.1),\n",
    "    'min_samples_leaf': np.arange(0.0, 1.1, 0.1),\n",
    "}\n",
    "# n_cpus = multiprocessing.cpu_count()\n",
    "gbc = GridSearchCV(gbclf, parameters,cv=5, scoring='f1', verbose=1, n_jobs=-1)\n",
    "gbc.fit(X_train,y_train)"
   ]
  },
  {
   "cell_type": "code",
   "execution_count": 18,
   "metadata": {},
   "outputs": [
    {
     "name": "stdout",
     "output_type": "stream",
     "text": [
      "Best parameters:  {'criterion': 'friedman_mse', 'loss': 'deviance', 'min_samples_leaf': 0.1, 'min_samples_split': 0.1, 'n_estimators': 250, 'subsample': 0.9}\n",
      "Average score from cross-validation of best parameters on training data:  0.7718139969962274\n",
      "F1 score of test data: 0.7675050389974586\n"
     ]
    }
   ],
   "source": [
    "\n",
    "print (\"Best parameters: \" , str(gbc.best_params_))\n",
    "print(\"Average score from cross-validation of best parameters on training data: \", str(gbc.best_score_))\n",
    "print(\"F1 score of test data:\", gbc.score(X_test, y_test))"
   ]
  },
  {
   "cell_type": "code",
   "execution_count": 19,
   "metadata": {},
   "outputs": [
    {
     "name": "stdout",
     "output_type": "stream",
     "text": [
      "Fitting 5 folds for each of 384 candidates, totalling 1920 fits\n"
     ]
    },
    {
     "name": "stderr",
     "output_type": "stream",
     "text": [
      "[Parallel(n_jobs=-1)]: Using backend LokyBackend with 10 concurrent workers.\n",
      "[Parallel(n_jobs=-1)]: Done  40 tasks      | elapsed:    0.2s\n",
      "[Parallel(n_jobs=-1)]: Done 750 tasks      | elapsed:  1.4min\n",
      "[Parallel(n_jobs=-1)]: Done 1000 tasks      | elapsed:  2.6min\n",
      "[Parallel(n_jobs=-1)]: Done 1350 tasks      | elapsed:  4.1min\n",
      "[Parallel(n_jobs=-1)]: Done 1800 tasks      | elapsed:  6.4min\n",
      "[Parallel(n_jobs=-1)]: Done 1920 out of 1920 | elapsed:  7.0min finished\n"
     ]
    },
    {
     "data": {
      "text/plain": [
       "GridSearchCV(cv=5, estimator=GradientBoostingClassifier(), n_jobs=-1,\n",
       "             param_grid={'criterion': ['friedman_mse'], 'loss': ['deviance'],\n",
       "                         'min_samples_leaf': [0, 0.1, 0.2, 1],\n",
       "                         'min_samples_split': [0.1, 0.2, 0.3, 2],\n",
       "                         'min_weight_fraction_leaf': [0.0, 0.1, 0.2, 0.3, 0.4,\n",
       "                                                      0.5],\n",
       "                         'n_estimators': array([100, 150, 200, 250]),\n",
       "                         'subsample': [0.8]},\n",
       "             scoring='f1', verbose=1)"
      ]
     },
     "execution_count": 19,
     "metadata": {},
     "output_type": "execute_result"
    }
   ],
   "source": [
    "\n",
    "parameters = {\n",
    "    'loss' : ['deviance'], \n",
    "    'n_estimators': np.arange(100, 260, 50),\n",
    "    'subsample': [0.8],\n",
    "    'criterion': ['friedman_mse'],\n",
    "    'min_samples_split': [0.1, 0.2, 0.3, 2],\n",
    "    'min_samples_leaf': [0, 0.1, 0.2, 1],\n",
    "    'min_weight_fraction_leaf': [0.0, 0.1, 0.2, 0.3, 0.4, 0.5]\n",
    "#     'max_depth': np.arange(1, 16, 2),\n",
    "#     'min_impurity_decrease': np.arange(0, 1000, 300),\n",
    "#     'max_features': ['auto', 'sqrt', 'log2'],\n",
    "#     'ccp_alpha': [0.0, 0.01, 0.1, 0.075, 10, 100]\n",
    "}\n",
    "# n_cpus = multiprocessing.cpu_count()\n",
    "gbc = GridSearchCV(gbclf, parameters,cv=5, scoring='f1', verbose=1, n_jobs=-1)\n",
    "gbc.fit(X_train,y_train)"
   ]
  },
  {
   "cell_type": "code",
   "execution_count": 20,
   "metadata": {},
   "outputs": [
    {
     "name": "stdout",
     "output_type": "stream",
     "text": [
      "Best parameters:  {'criterion': 'friedman_mse', 'loss': 'deviance', 'min_samples_leaf': 1, 'min_samples_split': 2, 'min_weight_fraction_leaf': 0.0, 'n_estimators': 150, 'subsample': 0.8}\n",
      "Average score from cross-validation of best parameters on training data:  0.7767914379299381\n",
      "F1 score of test data: 0.7745847614025836\n"
     ]
    }
   ],
   "source": [
    "\n",
    "print (\"Best parameters: \" , str(gbc.best_params_))\n",
    "print(\"Average score from cross-validation of best parameters on training data: \", str(gbc.best_score_))\n",
    "print(\"F1 score of test data:\", gbc.score(X_test, y_test))"
   ]
  },
  {
   "cell_type": "code",
   "execution_count": 21,
   "metadata": {},
   "outputs": [
    {
     "name": "stdout",
     "output_type": "stream",
     "text": [
      "Fitting 5 folds for each of 240 candidates, totalling 1200 fits\n"
     ]
    },
    {
     "name": "stderr",
     "output_type": "stream",
     "text": [
      "[Parallel(n_jobs=-1)]: Using backend LokyBackend with 10 concurrent workers.\n",
      "[Parallel(n_jobs=-1)]: Done  30 tasks      | elapsed:    8.0s\n",
      "[Parallel(n_jobs=-1)]: Done 180 tasks      | elapsed:   53.0s\n",
      "[Parallel(n_jobs=-1)]: Done 430 tasks      | elapsed:  3.4min\n",
      "[Parallel(n_jobs=-1)]: Done 780 tasks      | elapsed:  8.8min\n",
      "[Parallel(n_jobs=-1)]: Done 1200 out of 1200 | elapsed: 16.7min finished\n"
     ]
    },
    {
     "data": {
      "text/plain": [
       "GridSearchCV(cv=5, estimator=GradientBoostingClassifier(), n_jobs=-1,\n",
       "             param_grid={'criterion': ['friedman_mse'], 'loss': ['deviance'],\n",
       "                         'max_depth': array([ 1,  3,  5,  7,  9, 11, 13, 15]),\n",
       "                         'min_samples_leaf': [1],\n",
       "                         'min_samples_split': [0.05, 0.1, 0.15],\n",
       "                         'min_weight_fraction_leaf': [0.0, 0.01],\n",
       "                         'n_estimators': array([100, 150, 200, 250, 300]),\n",
       "                         'subsample': [0.8]},\n",
       "             scoring='f1', verbose=1)"
      ]
     },
     "execution_count": 21,
     "metadata": {},
     "output_type": "execute_result"
    }
   ],
   "source": [
    "\n",
    "parameters = {\n",
    "    'loss' : ['deviance'], \n",
    "    'n_estimators':np.arange(100, 311, 50),\n",
    "    'subsample': [0.8],\n",
    "    'criterion': ['friedman_mse'],\n",
    "    'min_samples_split': [0.05, 0.1, 0.15],\n",
    "    'min_samples_leaf': [1],\n",
    "    'min_weight_fraction_leaf': [0.0, 0.01],\n",
    "    'max_depth': np.arange(1, 16, 2),\n",
    "#     'min_impurity_decrease': np.arange(0, 1000, 300),\n",
    "#     'max_features': ['auto', 'sqrt', 'log2'],\n",
    "#     'ccp_alpha': [0.0, 0.01, 0.1, 0.075, 10, 100]\n",
    "}\n",
    "# n_cpus = multiprocessing.cpu_count()\n",
    "gbc = GridSearchCV(gbclf, parameters,cv=5, scoring='f1', verbose=1, n_jobs=-1)\n",
    "gbc.fit(X_train,y_train)"
   ]
  },
  {
   "cell_type": "code",
   "execution_count": 22,
   "metadata": {},
   "outputs": [
    {
     "name": "stdout",
     "output_type": "stream",
     "text": [
      "Best parameters:  {'criterion': 'friedman_mse', 'loss': 'deviance', 'max_depth': 7, 'min_samples_leaf': 1, 'min_samples_split': 0.1, 'min_weight_fraction_leaf': 0.0, 'n_estimators': 100, 'subsample': 0.8}\n",
      "Average score from cross-validation of best parameters on training data:  0.777770047311337\n",
      "F1 score of test data: 0.7747968190159924\n"
     ]
    }
   ],
   "source": [
    "\n",
    "print (\"Best parameters: \" , str(gbc.best_params_))\n",
    "print(\"Average score from cross-validation of best parameters on training data: \", str(gbc.best_score_))\n",
    "print(\"F1 score of test data:\", gbc.score(X_test, y_test))"
   ]
  },
  {
   "cell_type": "code",
   "execution_count": 23,
   "metadata": {},
   "outputs": [
    {
     "name": "stdout",
     "output_type": "stream",
     "text": [
      "Fitting 5 folds for each of 216 candidates, totalling 1080 fits\n"
     ]
    },
    {
     "name": "stderr",
     "output_type": "stream",
     "text": [
      "[Parallel(n_jobs=-1)]: Using backend LokyBackend with 10 concurrent workers.\n",
      "[Parallel(n_jobs=-1)]: Done  30 tasks      | elapsed:   11.9s\n",
      "[Parallel(n_jobs=-1)]: Done 180 tasks      | elapsed:   40.3s\n",
      "[Parallel(n_jobs=-1)]: Done 430 tasks      | elapsed:  1.5min\n",
      "[Parallel(n_jobs=-1)]: Done 780 tasks      | elapsed:  2.7min\n",
      "[Parallel(n_jobs=-1)]: Done 1080 out of 1080 | elapsed:  3.4min finished\n"
     ]
    },
    {
     "data": {
      "text/plain": [
       "GridSearchCV(cv=5, estimator=GradientBoostingClassifier(), n_jobs=-1,\n",
       "             param_grid={'criterion': ['friedman_mse'], 'loss': ['deviance'],\n",
       "                         'max_depth': [4, 5, 6],\n",
       "                         'min_impurity_decrease': array([  0, 300, 600, 900]),\n",
       "                         'min_samples_leaf': [1],\n",
       "                         'min_samples_split': [0.025, 0.05, 0.075],\n",
       "                         'min_weight_fraction_leaf': [0.0, 0.001],\n",
       "                         'n_estimators': [100, 110, 90], 'subsample': [0.8]},\n",
       "             scoring='f1', verbose=1)"
      ]
     },
     "execution_count": 23,
     "metadata": {},
     "output_type": "execute_result"
    }
   ],
   "source": [
    "\n",
    "parameters = {\n",
    "    'loss' : ['deviance'], \n",
    "    'n_estimators':[100, 110, 90],\n",
    "    'subsample': [0.8],\n",
    "    'criterion': ['friedman_mse'],\n",
    "    'min_samples_split': [0.025, 0.05, 0.075],\n",
    "    'min_samples_leaf': [1],\n",
    "    'min_weight_fraction_leaf': [0.0, 0.001],\n",
    "    'max_depth': [4, 5, 6],\n",
    "    'min_impurity_decrease': np.arange(0, 1000, 300),\n",
    "#     'max_features': ['auto', 'sqrt', 'log2'],\n",
    "#     'ccp_alpha': [0.0, 0.01, 0.1, 0.075, 10, 100]\n",
    "}\n",
    "# n_cpus = multiprocessing.cpu_count()\n",
    "gbc = GridSearchCV(gbclf, parameters,cv=5, scoring='f1', verbose=1, n_jobs=-1)\n",
    "gbc.fit(X_train,y_train)"
   ]
  },
  {
   "cell_type": "code",
   "execution_count": 24,
   "metadata": {},
   "outputs": [
    {
     "name": "stdout",
     "output_type": "stream",
     "text": [
      "Best parameters:  {'criterion': 'friedman_mse', 'loss': 'deviance', 'max_depth': 5, 'min_impurity_decrease': 0, 'min_samples_leaf': 1, 'min_samples_split': 0.025, 'min_weight_fraction_leaf': 0.001, 'n_estimators': 100, 'subsample': 0.8}\n",
      "Average score from cross-validation of best parameters on training data:  0.7780012788281134\n",
      "F1 score of test data: 0.7743067743067743\n"
     ]
    }
   ],
   "source": [
    "\n",
    "print (\"Best parameters: \" , str(gbc.best_params_))\n",
    "print(\"Average score from cross-validation of best parameters on training data: \", str(gbc.best_score_))\n",
    "print(\"F1 score of test data:\", gbc.score(X_test, y_test))"
   ]
  },
  {
   "cell_type": "code",
   "execution_count": 25,
   "metadata": {},
   "outputs": [
    {
     "name": "stdout",
     "output_type": "stream",
     "text": [
      "Fitting 5 folds for each of 324 candidates, totalling 1620 fits\n"
     ]
    },
    {
     "name": "stderr",
     "output_type": "stream",
     "text": [
      "[Parallel(n_jobs=-1)]: Using backend LokyBackend with 10 concurrent workers.\n",
      "[Parallel(n_jobs=-1)]: Done  30 tasks      | elapsed:    8.7s\n",
      "[Parallel(n_jobs=-1)]: Done 180 tasks      | elapsed:   31.7s\n",
      "[Parallel(n_jobs=-1)]: Done 430 tasks      | elapsed:  1.4min\n",
      "[Parallel(n_jobs=-1)]: Done 780 tasks      | elapsed:  2.5min\n",
      "[Parallel(n_jobs=-1)]: Done 1230 tasks      | elapsed:  4.0min\n",
      "[Parallel(n_jobs=-1)]: Done 1620 out of 1620 | elapsed:  5.2min finished\n"
     ]
    },
    {
     "data": {
      "text/plain": [
       "GridSearchCV(cv=5, estimator=GradientBoostingClassifier(), n_jobs=-1,\n",
       "             param_grid={'ccp_alpha': [0.0, 0.01, 0.1, 0.075, 10, 100],\n",
       "                         'criterion': ['friedman_mse'], 'loss': ['deviance'],\n",
       "                         'max_depth': [5, 6, 7],\n",
       "                         'max_features': ['auto', 'sqrt', 'log2'],\n",
       "                         'min_impurity_decrease': array([ 0, 50]),\n",
       "                         'min_samples_leaf': [1], 'min_samples_split': [0.05],\n",
       "                         'min_weight_fraction_leaf': [0.0, 0.001, 0.005],\n",
       "                         'n_estimators': [100], 'subsample': [0.8]},\n",
       "             scoring='f1', verbose=1)"
      ]
     },
     "execution_count": 25,
     "metadata": {},
     "output_type": "execute_result"
    }
   ],
   "source": [
    "\n",
    "parameters = {\n",
    "    'loss' : ['deviance'], \n",
    "    'n_estimators':[100],\n",
    "    'subsample': [0.8],\n",
    "    'criterion': ['friedman_mse'],\n",
    "    'min_samples_split': [0.05],\n",
    "    'min_samples_leaf': [1],\n",
    "    'min_weight_fraction_leaf': [0.0, 0.001, 0.005],\n",
    "    'max_depth': [5, 6, 7],\n",
    "    'min_impurity_decrease': np.arange(0, 100, 50),\n",
    "    'max_features': ['auto', 'sqrt', 'log2'],\n",
    "    'ccp_alpha': [0.0, 0.01, 0.1, 0.075, 10, 100]\n",
    "}\n",
    "# n_cpus = multiprocessing.cpu_count()\n",
    "gbc = GridSearchCV(gbclf, parameters,cv=5, scoring='f1', verbose=1, n_jobs=-1)\n",
    "gbc.fit(X_train,y_train)"
   ]
  },
  {
   "cell_type": "code",
   "execution_count": 26,
   "metadata": {},
   "outputs": [
    {
     "name": "stdout",
     "output_type": "stream",
     "text": [
      "Best parameters:  {'ccp_alpha': 0.0, 'criterion': 'friedman_mse', 'loss': 'deviance', 'max_depth': 6, 'max_features': 'sqrt', 'min_impurity_decrease': 0, 'min_samples_leaf': 1, 'min_samples_split': 0.05, 'min_weight_fraction_leaf': 0.001, 'n_estimators': 100, 'subsample': 0.8}\n",
      "Average score from cross-validation of best parameters on training data:  0.7785364380365123\n",
      "F1 score of test data: 0.7734128376008418\n"
     ]
    }
   ],
   "source": [
    "\n",
    "print (\"Best parameters: \" , str(gbc.best_params_))\n",
    "print(\"Average score from cross-validation of best parameters on training data: \", str(gbc.best_score_))\n",
    "print(\"F1 score of test data:\", gbc.score(X_test, y_test))"
   ]
  },
  {
   "cell_type": "code",
   "execution_count": 27,
   "metadata": {},
   "outputs": [
    {
     "name": "stdout",
     "output_type": "stream",
     "text": [
      "Fitting 5 folds for each of 180 candidates, totalling 900 fits\n"
     ]
    },
    {
     "name": "stderr",
     "output_type": "stream",
     "text": [
      "[Parallel(n_jobs=-1)]: Using backend LokyBackend with 10 concurrent workers.\n",
      "[Parallel(n_jobs=-1)]: Done  30 tasks      | elapsed:    5.8s\n",
      "[Parallel(n_jobs=-1)]: Done 180 tasks      | elapsed:   21.8s\n",
      "[Parallel(n_jobs=-1)]: Done 430 tasks      | elapsed:   50.3s\n",
      "[Parallel(n_jobs=-1)]: Done 780 tasks      | elapsed:  1.5min\n",
      "[Parallel(n_jobs=-1)]: Done 900 out of 900 | elapsed:  1.8min finished\n"
     ]
    },
    {
     "data": {
      "text/plain": [
       "GridSearchCV(cv=5, estimator=GradientBoostingClassifier(), n_jobs=-1,\n",
       "             param_grid={'ccp_alpha': [0.0, 0.001, 1000],\n",
       "                         'criterion': ['friedman_mse'],\n",
       "                         'learning_rate': [0.025, 0.1, 0.12],\n",
       "                         'loss': ['deviance'], 'max_depth': [6],\n",
       "                         'max_features': ['sqrt'],\n",
       "                         'min_impurity_decrease': array([ 0,  5, 10, 15, 20, 25, 30, 35, 40, 45]),\n",
       "                         'min_samples_leaf': [1], 'min_samples_split': [0.05],\n",
       "                         'min_weight_fraction_leaf': [0.001, 0.002],\n",
       "                         'n_estimators': [100], 'subsample': [0.8]},\n",
       "             scoring='f1', verbose=1)"
      ]
     },
     "execution_count": 27,
     "metadata": {},
     "output_type": "execute_result"
    }
   ],
   "source": [
    "\n",
    "parameters = {\n",
    "    'learning_rate': [0.025, 0.1, 0.12],\n",
    "    'loss' : ['deviance'], \n",
    "    'n_estimators':[100],\n",
    "    'subsample': [0.8],\n",
    "    'criterion': ['friedman_mse'],\n",
    "    'min_samples_split': [0.05],\n",
    "    'min_samples_leaf': [1],\n",
    "    'min_weight_fraction_leaf': [0.001, 0.002],\n",
    "    'max_depth': [6],\n",
    "    'min_impurity_decrease': np.arange(0, 50, 5),\n",
    "    'max_features': ['sqrt'],\n",
    "    'ccp_alpha': [0.0, 0.001, 1000]\n",
    "}\n",
    "# n_cpus = multiprocessing.cpu_count()\n",
    "gbc = GridSearchCV(gbclf, parameters,cv=5, scoring='f1', verbose=1, n_jobs=-1)\n",
    "gbc.fit(X_train,y_train)"
   ]
  },
  {
   "cell_type": "code",
   "execution_count": 28,
   "metadata": {},
   "outputs": [
    {
     "name": "stdout",
     "output_type": "stream",
     "text": [
      "Best parameters:  {'ccp_alpha': 0.0, 'criterion': 'friedman_mse', 'learning_rate': 0.025, 'loss': 'deviance', 'max_depth': 6, 'max_features': 'sqrt', 'min_impurity_decrease': 5, 'min_samples_leaf': 1, 'min_samples_split': 0.05, 'min_weight_fraction_leaf': 0.002, 'n_estimators': 100, 'subsample': 0.8}\n",
      "Average score from cross-validation of best parameters on training data:  0.7781669846934232\n",
      "F1 score of test data: 0.7738684736339154\n"
     ]
    }
   ],
   "source": [
    "\n",
    "print (\"Best parameters: \" , str(gbc.best_params_))\n",
    "print(\"Average score from cross-validation of best parameters on training data: \", str(gbc.best_score_))\n",
    "print(\"F1 score of test data:\", gbc.score(X_test, y_test))"
   ]
  },
  {
   "cell_type": "code",
   "execution_count": 29,
   "metadata": {},
   "outputs": [
    {
     "name": "stdout",
     "output_type": "stream",
     "text": [
      "Fitting 5 folds for each of 40 candidates, totalling 200 fits\n"
     ]
    },
    {
     "name": "stderr",
     "output_type": "stream",
     "text": [
      "[Parallel(n_jobs=-1)]: Using backend LokyBackend with 10 concurrent workers.\n",
      "[Parallel(n_jobs=-1)]: Done  30 tasks      | elapsed:    6.4s\n",
      "[Parallel(n_jobs=-1)]: Done 180 tasks      | elapsed:   29.4s\n",
      "[Parallel(n_jobs=-1)]: Done 200 out of 200 | elapsed:   32.1s finished\n"
     ]
    },
    {
     "data": {
      "text/plain": [
       "GridSearchCV(cv=5, estimator=GradientBoostingClassifier(), n_jobs=-1,\n",
       "             param_grid={'ccp_alpha': [0.0, 1e-06],\n",
       "                         'criterion': ['friedman_mse'],\n",
       "                         'learning_rate': [0.025, 0.05], 'loss': ['deviance'],\n",
       "                         'max_depth': [6], 'max_features': ['sqrt'],\n",
       "                         'min_impurity_decrease': array([0, 1, 2, 3, 4]),\n",
       "                         'min_samples_leaf': [1], 'min_samples_split': [0.05],\n",
       "                         'min_weight_fraction_leaf': [0.003, 0.002],\n",
       "                         'n_estimators': [100], 'subsample': [0.8]},\n",
       "             scoring='f1', verbose=1)"
      ]
     },
     "execution_count": 29,
     "metadata": {},
     "output_type": "execute_result"
    }
   ],
   "source": [
    "\n",
    "parameters = {\n",
    "    'learning_rate': [0.025, 0.05],\n",
    "    'loss' : ['deviance'], \n",
    "    'n_estimators':[100],\n",
    "    'subsample': [0.8],\n",
    "    'criterion': ['friedman_mse'],\n",
    "    'min_samples_split': [0.05],\n",
    "    'min_samples_leaf': [1],\n",
    "    'min_weight_fraction_leaf': [0.003, 0.002],\n",
    "    'max_depth': [6],\n",
    "    'min_impurity_decrease': np.arange(0, 5, 1),\n",
    "    'max_features': ['sqrt'],\n",
    "    'ccp_alpha': [0.0, 0.000001]\n",
    "}\n",
    "# n_cpus = multiprocessing.cpu_count()\n",
    "gbc = GridSearchCV(gbclf, parameters,cv=5, scoring='f1', verbose=1, n_jobs=-1)\n",
    "gbc.fit(X_train,y_train)"
   ]
  },
  {
   "cell_type": "code",
   "execution_count": 30,
   "metadata": {},
   "outputs": [
    {
     "name": "stdout",
     "output_type": "stream",
     "text": [
      "Best parameters:  {'ccp_alpha': 1e-06, 'criterion': 'friedman_mse', 'learning_rate': 0.025, 'loss': 'deviance', 'max_depth': 6, 'max_features': 'sqrt', 'min_impurity_decrease': 2, 'min_samples_leaf': 1, 'min_samples_split': 0.05, 'min_weight_fraction_leaf': 0.003, 'n_estimators': 100, 'subsample': 0.8}\n",
      "Average score from cross-validation of best parameters on training data:  0.7784927753637546\n",
      "F1 score of test data: 0.776220732874924\n"
     ]
    }
   ],
   "source": [
    "\n",
    "print (\"Best parameters: \" , str(gbc.best_params_))\n",
    "print(\"Average score from cross-validation of best parameters on training data: \", str(gbc.best_score_))\n",
    "print(\"F1 score of test data:\", gbc.score(X_test, y_test))"
   ]
  },
  {
   "cell_type": "code",
   "execution_count": 31,
   "metadata": {},
   "outputs": [
    {
     "name": "stdout",
     "output_type": "stream",
     "text": [
      "Fitting 5 folds for each of 18 candidates, totalling 90 fits\n"
     ]
    },
    {
     "name": "stderr",
     "output_type": "stream",
     "text": [
      "[Parallel(n_jobs=-1)]: Using backend LokyBackend with 10 concurrent workers.\n",
      "[Parallel(n_jobs=-1)]: Done  30 tasks      | elapsed:    6.6s\n",
      "[Parallel(n_jobs=-1)]: Done  90 out of  90 | elapsed:   16.4s finished\n"
     ]
    },
    {
     "data": {
      "text/plain": [
       "GridSearchCV(cv=5, estimator=GradientBoostingClassifier(), n_jobs=-1,\n",
       "             param_grid={'ccp_alpha': [1e-05, 1e-06],\n",
       "                         'criterion': ['friedman_mse'],\n",
       "                         'learning_rate': [0.025, 0.03, 0.02],\n",
       "                         'loss': ['deviance'], 'max_depth': [6],\n",
       "                         'max_features': ['sqrt'], 'min_impurity_decrease': [1],\n",
       "                         'min_samples_leaf': [1], 'min_samples_split': [0.05],\n",
       "                         'min_weight_fraction_leaf': [0.0025, 0.002, 0.0015],\n",
       "                         'n_estimators': [100], 'subsample': [0.8]},\n",
       "             scoring='f1', verbose=1)"
      ]
     },
     "execution_count": 31,
     "metadata": {},
     "output_type": "execute_result"
    }
   ],
   "source": [
    "\n",
    "parameters = {\n",
    "    'learning_rate': [0.025, 0.03, 0.02],\n",
    "    'loss' : ['deviance'], \n",
    "    'n_estimators':[100],\n",
    "    'subsample': [0.8],\n",
    "    'criterion': ['friedman_mse'],\n",
    "    'min_samples_split': [0.05],\n",
    "    'min_samples_leaf': [1],\n",
    "    'min_weight_fraction_leaf': [0.0025, 0.002, 0.0015],\n",
    "    'max_depth': [6],\n",
    "    'min_impurity_decrease': [1],\n",
    "    'max_features': ['sqrt'],\n",
    "    'ccp_alpha': [0.00001, 0.000001]\n",
    "}\n",
    "# n_cpus = multiprocessing.cpu_count()\n",
    "gbc = GridSearchCV(gbclf, parameters,cv=5, scoring='f1', verbose=1, n_jobs=-1)\n",
    "gbc.fit(X_train,y_train)"
   ]
  },
  {
   "cell_type": "code",
   "execution_count": 32,
   "metadata": {},
   "outputs": [
    {
     "name": "stdout",
     "output_type": "stream",
     "text": [
      "Best parameters:  {'ccp_alpha': 1e-05, 'criterion': 'friedman_mse', 'learning_rate': 0.02, 'loss': 'deviance', 'max_depth': 6, 'max_features': 'sqrt', 'min_impurity_decrease': 1, 'min_samples_leaf': 1, 'min_samples_split': 0.05, 'min_weight_fraction_leaf': 0.0025, 'n_estimators': 100, 'subsample': 0.8}\n",
      "Average score from cross-validation of best parameters on training data:  0.778714480892764\n",
      "F1 score of test data: 0.775619906363794\n"
     ]
    }
   ],
   "source": [
    "\n",
    "print (\"Best parameters: \" , str(gbc.best_params_))\n",
    "print(\"Average score from cross-validation of best parameters on training data: \", str(gbc.best_score_))\n",
    "print(\"F1 score of test data:\", gbc.score(X_test, y_test))"
   ]
  },
  {
   "cell_type": "code",
   "execution_count": 33,
   "metadata": {},
   "outputs": [
    {
     "name": "stdout",
     "output_type": "stream",
     "text": [
      "Fitting 5 folds for each of 18 candidates, totalling 90 fits\n"
     ]
    },
    {
     "name": "stderr",
     "output_type": "stream",
     "text": [
      "[Parallel(n_jobs=-1)]: Using backend LokyBackend with 10 concurrent workers.\n",
      "[Parallel(n_jobs=-1)]: Done  30 tasks      | elapsed:    7.1s\n",
      "[Parallel(n_jobs=-1)]: Done  90 out of  90 | elapsed:   17.2s finished\n"
     ]
    },
    {
     "data": {
      "text/plain": [
       "GridSearchCV(cv=5, estimator=GradientBoostingClassifier(), n_jobs=-1,\n",
       "             param_grid={'ccp_alpha': [1e-05, 0.0001],\n",
       "                         'criterion': ['friedman_mse'],\n",
       "                         'learning_rate': [0.024, 0.025, 0.026],\n",
       "                         'loss': ['deviance'], 'max_depth': [6],\n",
       "                         'max_features': ['sqrt'], 'min_impurity_decrease': [1],\n",
       "                         'min_samples_leaf': [1], 'min_samples_split': [0.05],\n",
       "                         'min_weight_fraction_leaf': [0.0016, 0.0014, 0.0015],\n",
       "                         'n_estimators': [100], 'subsample': [0.8]},\n",
       "             scoring='f1', verbose=1)"
      ]
     },
     "execution_count": 33,
     "metadata": {},
     "output_type": "execute_result"
    }
   ],
   "source": [
    "\n",
    "parameters = {\n",
    "    'learning_rate': [0.024, 0.025, 0.026],\n",
    "    'loss' : ['deviance'], \n",
    "    'n_estimators':[100],\n",
    "    'subsample': [0.8],\n",
    "    'criterion': ['friedman_mse'],\n",
    "    'min_samples_split': [0.05],\n",
    "    'min_samples_leaf': [1],\n",
    "    'min_weight_fraction_leaf': [0.0016, 0.0014, 0.0015],\n",
    "    'max_depth': [6],\n",
    "    'min_impurity_decrease': [1],\n",
    "    'max_features': ['sqrt'],\n",
    "    'ccp_alpha': [0.00001, 0.0001]\n",
    "}\n",
    "# n_cpus = multiprocessing.cpu_count()\n",
    "gbc = GridSearchCV(gbclf, parameters,cv=5, scoring='f1', verbose=1, n_jobs=-1)\n",
    "gbc.fit(X_train,y_train)"
   ]
  },
  {
   "cell_type": "code",
   "execution_count": 34,
   "metadata": {},
   "outputs": [
    {
     "name": "stdout",
     "output_type": "stream",
     "text": [
      "Best parameters:  {'ccp_alpha': 1e-05, 'criterion': 'friedman_mse', 'learning_rate': 0.025, 'loss': 'deviance', 'max_depth': 6, 'max_features': 'sqrt', 'min_impurity_decrease': 1, 'min_samples_leaf': 1, 'min_samples_split': 0.05, 'min_weight_fraction_leaf': 0.0016, 'n_estimators': 100, 'subsample': 0.8}\n",
      "Average score from cross-validation of best parameters on training data:  0.7788392124087107\n",
      "F1 score of test data: 0.7762906309751434\n"
     ]
    }
   ],
   "source": [
    "\n",
    "print (\"Best parameters: \" , str(gbc.best_params_))\n",
    "print(\"Average score from cross-validation of best parameters on training data: \", str(gbc.best_score_))\n",
    "print(\"F1 score of test data:\", gbc.score(X_test, y_test))"
   ]
  },
  {
   "cell_type": "code",
   "execution_count": 35,
   "metadata": {},
   "outputs": [
    {
     "name": "stdout",
     "output_type": "stream",
     "text": [
      "Fitting 5 folds for each of 486 candidates, totalling 2430 fits\n"
     ]
    },
    {
     "name": "stderr",
     "output_type": "stream",
     "text": [
      "[Parallel(n_jobs=-1)]: Using backend LokyBackend with 10 concurrent workers.\n",
      "[Parallel(n_jobs=-1)]: Done  30 tasks      | elapsed:    6.4s\n",
      "[Parallel(n_jobs=-1)]: Done 180 tasks      | elapsed:   31.1s\n",
      "[Parallel(n_jobs=-1)]: Done 430 tasks      | elapsed:  1.2min\n",
      "[Parallel(n_jobs=-1)]: Done 780 tasks      | elapsed:  2.2min\n",
      "[Parallel(n_jobs=-1)]: Done 1230 tasks      | elapsed:  3.5min\n",
      "[Parallel(n_jobs=-1)]: Done 1780 tasks      | elapsed:  5.0min\n",
      "[Parallel(n_jobs=-1)]: Done 2430 out of 2430 | elapsed:  6.7min finished\n"
     ]
    },
    {
     "data": {
      "text/plain": [
       "GridSearchCV(cv=5, estimator=GradientBoostingClassifier(), n_jobs=-1,\n",
       "             param_grid={'ccp_alpha': [0.00011, 0.0001, 0.000999],\n",
       "                         'criterion': ['friedman_mse'],\n",
       "                         'learning_rate': [0.024, 0.023, 0.021],\n",
       "                         'loss': ['deviance'], 'max_depth': [6],\n",
       "                         'max_features': ['sqrt'],\n",
       "                         'min_impurity_decrease': [1, 0.999],\n",
       "                         'min_samples_leaf': [1],\n",
       "                         'min_samples_split': [0.05, 0.049, 0.051],\n",
       "                         'min_weight_fraction_leaf': [0.0016, 0.0014, 0.0015],\n",
       "                         'n_estimators': [100],\n",
       "                         'subsample': [0.8, 0.79, 0.81]},\n",
       "             scoring='f1', verbose=1)"
      ]
     },
     "execution_count": 35,
     "metadata": {},
     "output_type": "execute_result"
    }
   ],
   "source": [
    "\n",
    "parameters = {\n",
    "    'learning_rate': [0.024, 0.023, 0.021],\n",
    "    'loss' : ['deviance'], \n",
    "    'n_estimators':[100],\n",
    "    'subsample': [0.8, 0.79, 0.81],\n",
    "    'criterion': ['friedman_mse'],\n",
    "    'min_samples_split': [0.05, 0.049, 0.051],\n",
    "    'min_samples_leaf': [1],\n",
    "    'min_weight_fraction_leaf': [0.0016, 0.0014, 0.0015],\n",
    "    'max_depth': [6],\n",
    "    'min_impurity_decrease': [1, 0.999],\n",
    "    'max_features': ['sqrt'],\n",
    "    'ccp_alpha': [0.00011, 0.0001, 0.000999]\n",
    "}\n",
    "# n_cpus = multiprocessing.cpu_count()\n",
    "gbc = GridSearchCV(gbclf, parameters,cv=5, scoring='f1', verbose=1, n_jobs=-1)\n",
    "gbc.fit(X_train,y_train)"
   ]
  },
  {
   "cell_type": "code",
   "execution_count": 36,
   "metadata": {},
   "outputs": [
    {
     "name": "stdout",
     "output_type": "stream",
     "text": [
      "Best parameters:  {'ccp_alpha': 0.00011, 'criterion': 'friedman_mse', 'learning_rate': 0.023, 'loss': 'deviance', 'max_depth': 6, 'max_features': 'sqrt', 'min_impurity_decrease': 0.999, 'min_samples_leaf': 1, 'min_samples_split': 0.05, 'min_weight_fraction_leaf': 0.0015, 'n_estimators': 100, 'subsample': 0.79}\n",
      "Average score from cross-validation of best parameters on training data:  0.7792480602406032\n",
      "F1 score of test data: 0.7758321775312067\n"
     ]
    }
   ],
   "source": [
    "\n",
    "print (\"Best parameters: \" , str(gbc.best_params_))\n",
    "print(\"Average score from cross-validation of best parameters on training data: \", str(gbc.best_score_))\n",
    "print(\"F1 score of test data:\", gbc.score(X_test, y_test))"
   ]
  },
  {
   "cell_type": "code",
   "execution_count": 37,
   "metadata": {},
   "outputs": [
    {
     "name": "stdout",
     "output_type": "stream",
     "text": [
      "Fitting 5 folds for each of 729 candidates, totalling 3645 fits\n"
     ]
    },
    {
     "name": "stderr",
     "output_type": "stream",
     "text": [
      "[Parallel(n_jobs=-1)]: Using backend LokyBackend with 10 concurrent workers.\n",
      "[Parallel(n_jobs=-1)]: Done  30 tasks      | elapsed:    6.5s\n",
      "[Parallel(n_jobs=-1)]: Done 180 tasks      | elapsed:   31.7s\n",
      "[Parallel(n_jobs=-1)]: Done 430 tasks      | elapsed:  1.2min\n",
      "[Parallel(n_jobs=-1)]: Done 780 tasks      | elapsed:  2.2min\n",
      "[Parallel(n_jobs=-1)]: Done 1230 tasks      | elapsed:  3.5min\n",
      "[Parallel(n_jobs=-1)]: Done 1780 tasks      | elapsed:  5.1min\n",
      "[Parallel(n_jobs=-1)]: Done 2430 tasks      | elapsed:  6.9min\n",
      "[Parallel(n_jobs=-1)]: Done 3180 tasks      | elapsed:  9.0min\n",
      "[Parallel(n_jobs=-1)]: Done 3645 out of 3645 | elapsed: 10.4min finished\n"
     ]
    },
    {
     "data": {
      "text/plain": [
       "GridSearchCV(cv=5, estimator=GradientBoostingClassifier(), n_jobs=-1,\n",
       "             param_grid={'ccp_alpha': [0.000101, 0.0001, 9.99e-05],\n",
       "                         'criterion': ['friedman_mse'],\n",
       "                         'learning_rate': [0.0225, 0.023, 0.022],\n",
       "                         'loss': ['deviance'], 'max_depth': [6],\n",
       "                         'max_features': ['sqrt'],\n",
       "                         'min_impurity_decrease': [0.9999, 0.999, 0.998],\n",
       "                         'min_samples_leaf': [1],\n",
       "                         'min_samples_split': [0.05, 0.0499, 0.0501],\n",
       "                         'min_weight_fraction_leaf': [0.00155, 0.00145, 0.0015],\n",
       "                         'n_estimators': [100],\n",
       "                         'subsample': [0.82, 0.83, 0.81]},\n",
       "             scoring='f1', verbose=1)"
      ]
     },
     "execution_count": 37,
     "metadata": {},
     "output_type": "execute_result"
    }
   ],
   "source": [
    "\n",
    "parameters = {\n",
    "    'learning_rate': [0.0225, 0.023, 0.022],\n",
    "    'loss' : ['deviance'], \n",
    "    'n_estimators':[100],\n",
    "    'subsample': [0.82, 0.83, 0.81],\n",
    "    'criterion': ['friedman_mse'],\n",
    "    'min_samples_split': [0.05, 0.0499, 0.0501],\n",
    "    'min_samples_leaf': [1],\n",
    "    'min_weight_fraction_leaf': [0.00155, 0.00145, 0.0015],\n",
    "    'max_depth': [6],\n",
    "    'min_impurity_decrease': [0.9999, 0.999, 0.998],\n",
    "    'max_features': ['sqrt'],\n",
    "    'ccp_alpha': [0.000101, 0.0001, 0.0000999]\n",
    "}\n",
    "# n_cpus = multiprocessing.cpu_count()\n",
    "gbc = GridSearchCV(gbclf, parameters,cv=5, scoring='f1', verbose=1, n_jobs=-1)\n",
    "gbc.fit(X_train,y_train)"
   ]
  },
  {
   "cell_type": "code",
   "execution_count": 38,
   "metadata": {},
   "outputs": [
    {
     "name": "stdout",
     "output_type": "stream",
     "text": [
      "Best parameters:  {'ccp_alpha': 0.0001, 'criterion': 'friedman_mse', 'learning_rate': 0.023, 'loss': 'deviance', 'max_depth': 6, 'max_features': 'sqrt', 'min_impurity_decrease': 0.9999, 'min_samples_leaf': 1, 'min_samples_split': 0.05, 'min_weight_fraction_leaf': 0.0015, 'n_estimators': 100, 'subsample': 0.82}\n",
      "Average score from cross-validation of best parameters on training data:  0.7792536439945771\n",
      "F1 score of test data: 0.7762541225481688\n"
     ]
    }
   ],
   "source": [
    "\n",
    "print (\"Best parameters: \" , str(gbc.best_params_))\n",
    "print(\"Average score from cross-validation of best parameters on training data: \", str(gbc.best_score_))\n",
    "print(\"F1 score of test data:\", gbc.score(X_test, y_test))"
   ]
  },
  {
   "cell_type": "code",
   "execution_count": 39,
   "metadata": {},
   "outputs": [
    {
     "name": "stdout",
     "output_type": "stream",
     "text": [
      "Fitting 5 folds for each of 729 candidates, totalling 3645 fits\n"
     ]
    },
    {
     "name": "stderr",
     "output_type": "stream",
     "text": [
      "[Parallel(n_jobs=-1)]: Using backend LokyBackend with 10 concurrent workers.\n",
      "[Parallel(n_jobs=-1)]: Done  30 tasks      | elapsed:    6.5s\n",
      "[Parallel(n_jobs=-1)]: Done 180 tasks      | elapsed:   31.2s\n",
      "[Parallel(n_jobs=-1)]: Done 430 tasks      | elapsed:  1.2min\n",
      "[Parallel(n_jobs=-1)]: Done 780 tasks      | elapsed:  2.2min\n",
      "[Parallel(n_jobs=-1)]: Done 1230 tasks      | elapsed:  3.5min\n",
      "[Parallel(n_jobs=-1)]: Done 1780 tasks      | elapsed:  5.0min\n",
      "[Parallel(n_jobs=-1)]: Done 2430 tasks      | elapsed:  6.8min\n",
      "[Parallel(n_jobs=-1)]: Done 3180 tasks      | elapsed:  8.9min\n",
      "[Parallel(n_jobs=-1)]: Done 3645 out of 3645 | elapsed: 10.2min finished\n"
     ]
    },
    {
     "data": {
      "text/plain": [
       "GridSearchCV(cv=5, estimator=GradientBoostingClassifier(), n_jobs=-1,\n",
       "             param_grid={'ccp_alpha': [0.000101, 0.0001009, 0.000102],\n",
       "                         'criterion': ['friedman_mse'],\n",
       "                         'learning_rate': [0.0229, 0.023, 0.0231],\n",
       "                         'loss': ['deviance'], 'max_depth': [6],\n",
       "                         'max_features': ['sqrt'],\n",
       "                         'min_impurity_decrease': [0.9999, 0.99999, 0.9998],\n",
       "                         'min_samples_leaf': [1],\n",
       "                         'min_samples_split': [0.05, 0.04999, 0.05001],\n",
       "                         'min_weight_fraction_leaf': [0.00155, 0.00156,\n",
       "                                                      0.00154],\n",
       "                         'n_estimators': [100],\n",
       "                         'subsample': [0.811, 0.809, 0.81]},\n",
       "             scoring='f1', verbose=1)"
      ]
     },
     "execution_count": 39,
     "metadata": {},
     "output_type": "execute_result"
    }
   ],
   "source": [
    "\n",
    "parameters = {\n",
    "    'learning_rate': [0.0229, 0.023, 0.0231],\n",
    "    'loss' : ['deviance'], \n",
    "    'n_estimators':[100],\n",
    "    'subsample': [0.811, 0.809, 0.81],\n",
    "    'criterion': ['friedman_mse'],\n",
    "    'min_samples_split': [0.05, 0.04999, 0.05001],\n",
    "    'min_samples_leaf': [1],\n",
    "    'min_weight_fraction_leaf': [0.00155, 0.00156, 0.00154],\n",
    "    'max_depth': [6],\n",
    "    'min_impurity_decrease': [0.9999, 0.99999, 0.9998],\n",
    "    'max_features': ['sqrt'],\n",
    "    'ccp_alpha': [0.000101, 0.0001009, 0.000102]\n",
    "}\n",
    "# n_cpus = multiprocessing.cpu_count()\n",
    "gbc = GridSearchCV(gbclf, parameters,cv=5, scoring='f1', verbose=1, n_jobs=-1)\n",
    "gbc.fit(X_train,y_train)"
   ]
  },
  {
   "cell_type": "code",
   "execution_count": 40,
   "metadata": {},
   "outputs": [
    {
     "name": "stdout",
     "output_type": "stream",
     "text": [
      "Best parameters:  {'ccp_alpha': 0.0001009, 'criterion': 'friedman_mse', 'learning_rate': 0.023, 'loss': 'deviance', 'max_depth': 6, 'max_features': 'sqrt', 'min_impurity_decrease': 0.9999, 'min_samples_leaf': 1, 'min_samples_split': 0.04999, 'min_weight_fraction_leaf': 0.00155, 'n_estimators': 100, 'subsample': 0.81}\n",
      "Average score from cross-validation of best parameters on training data:  0.7792637804438203\n",
      "F1 score of test data: 0.775829137002952\n"
     ]
    }
   ],
   "source": [
    "\n",
    "print (\"Best parameters: \" , str(gbc.best_params_))\n",
    "print(\"Average score from cross-validation of best parameters on training data: \", str(gbc.best_score_))\n",
    "print(\"F1 score of test data:\", gbc.score(X_test, y_test))"
   ]
  },
  {
   "cell_type": "code",
   "execution_count": 10,
   "metadata": {},
   "outputs": [
    {
     "name": "stdout",
     "output_type": "stream",
     "text": [
      "Fitting 5 folds for each of 4 candidates, totalling 20 fits\n"
     ]
    },
    {
     "name": "stderr",
     "output_type": "stream",
     "text": [
      "[Parallel(n_jobs=-1)]: Using backend LokyBackend with 10 concurrent workers.\n",
      "[Parallel(n_jobs=-1)]: Done  20 out of  20 | elapsed:    2.4s finished\n"
     ]
    },
    {
     "data": {
      "text/plain": [
       "GridSearchCV(cv=5, estimator=HistGradientBoostingClassifier(), n_jobs=-1,\n",
       "             param_grid={'loss': ['log_loss', 'auto', 'binary_cross_entropy',\n",
       "                                  'categorical_crossentropy']},\n",
       "             scoring='f1', verbose=1)"
      ]
     },
     "execution_count": 10,
     "metadata": {},
     "output_type": "execute_result"
    }
   ],
   "source": [
    "from sklearn.experimental import enable_hist_gradient_boosting\n",
    "from sklearn.ensemble import HistGradientBoostingClassifier\n",
    "parameters = {\n",
    "    'loss' : ['log_loss', 'auto', 'binary_cross_entropy', 'categorical_crossentropy'], \n",
    "}\n",
    "gbhlf= HistGradientBoostingClassifier()\n",
    "# n_cpus = multiprocessing.cpu_count()\n",
    "ghbc = GridSearchCV(gbhlf, parameters,cv=5, scoring='f1', verbose=1, n_jobs=-1)\n",
    "ghbc.fit(X_train,y_train)"
   ]
  },
  {
   "cell_type": "code",
   "execution_count": 42,
   "metadata": {},
   "outputs": [
    {
     "name": "stdout",
     "output_type": "stream",
     "text": [
      "Best parameters:  {'loss': 'auto'}\n",
      "Average score from cross-validation of best parameters on training data:  0.7768675451595116\n",
      "F1 score of test data: 0.775829137002952\n"
     ]
    }
   ],
   "source": [
    "\n",
    "print (\"Best parameters: \" , str(ghbc.best_params_))\n",
    "print(\"Average score from cross-validation of best parameters on training data: \", str(ghbc.best_score_))\n",
    "print(\"F1 score of test data:\", gbc.score(X_test, y_test))"
   ]
  },
  {
   "cell_type": "code",
   "execution_count": 43,
   "metadata": {},
   "outputs": [
    {
     "name": "stdout",
     "output_type": "stream",
     "text": [
      "Fitting 5 folds for each of 80 candidates, totalling 400 fits\n"
     ]
    },
    {
     "name": "stderr",
     "output_type": "stream",
     "text": [
      "[Parallel(n_jobs=-1)]: Using backend LokyBackend with 10 concurrent workers.\n",
      "[Parallel(n_jobs=-1)]: Done  40 tasks      | elapsed:    0.3s\n",
      "/Users/carolinejennings/opt/anaconda3/lib/python3.8/site-packages/joblib/externals/loky/process_executor.py:688: UserWarning: A worker stopped while some jobs were given to the executor. This can be caused by a too short worker timeout or by a memory leak.\n",
      "  warnings.warn(\n",
      "[Parallel(n_jobs=-1)]: Done 290 tasks      | elapsed:  1.0min\n",
      "[Parallel(n_jobs=-1)]: Done 400 out of 400 | elapsed:  1.3min finished\n"
     ]
    },
    {
     "data": {
      "text/plain": [
       "GridSearchCV(cv=5, estimator=HistGradientBoostingClassifier(), n_jobs=-1,\n",
       "             param_grid={'learning_rate': array([0. , 0.1, 0.2, 0.3, 0.4, 0.5, 0.6, 0.7, 0.8, 0.9]),\n",
       "                         'loss': ['auto'], 'max_iter': [100, 1000],\n",
       "                         'max_leaf_nodes': [1, 31, 100, None]},\n",
       "             scoring='f1', verbose=1)"
      ]
     },
     "execution_count": 43,
     "metadata": {},
     "output_type": "execute_result"
    }
   ],
   "source": [
    "parameters = {\n",
    "    'loss' : ['auto'], \n",
    "    'learning_rate': np.arange(0.0, 1.0, 0.1),\n",
    "    'max_iter': [100, 1000],\n",
    "    'max_leaf_nodes': [1, 31, 100, None]\n",
    "}\n",
    "# n_cpus = multiprocessing.cpu_count()\n",
    "ghbc = GridSearchCV(gbhlf, parameters,cv=5, scoring='f1', verbose=1, n_jobs=-1)\n",
    "ghbc.fit(X_train,y_train)"
   ]
  },
  {
   "cell_type": "code",
   "execution_count": 44,
   "metadata": {},
   "outputs": [
    {
     "name": "stdout",
     "output_type": "stream",
     "text": [
      "Best parameters:  {'learning_rate': 0.1, 'loss': 'auto', 'max_iter': 100, 'max_leaf_nodes': 31}\n",
      "Average score from cross-validation of best parameters on training data:  0.7771954712005412\n",
      "F1 score of test data: 0.775829137002952\n"
     ]
    }
   ],
   "source": [
    "\n",
    "print (\"Best parameters: \" , str(ghbc.best_params_))\n",
    "print(\"Average score from cross-validation of best parameters on training data: \", str(ghbc.best_score_))\n",
    "print(\"F1 score of test data:\", gbc.score(X_test, y_test))"
   ]
  },
  {
   "cell_type": "code",
   "execution_count": 45,
   "metadata": {},
   "outputs": [
    {
     "name": "stdout",
     "output_type": "stream",
     "text": [
      "Fitting 5 folds for each of 14400 candidates, totalling 72000 fits\n"
     ]
    },
    {
     "name": "stderr",
     "output_type": "stream",
     "text": [
      "[Parallel(n_jobs=-1)]: Using backend LokyBackend with 10 concurrent workers.\n",
      "/Users/carolinejennings/opt/anaconda3/lib/python3.8/site-packages/joblib/externals/loky/process_executor.py:688: UserWarning: A worker stopped while some jobs were given to the executor. This can be caused by a too short worker timeout or by a memory leak.\n",
      "  warnings.warn(\n",
      "[Parallel(n_jobs=-1)]: Done  30 tasks      | elapsed:    2.2s\n",
      "[Parallel(n_jobs=-1)]: Done 180 tasks      | elapsed:   10.5s\n",
      "[Parallel(n_jobs=-1)]: Done 430 tasks      | elapsed:   30.2s\n",
      "[Parallel(n_jobs=-1)]: Done 780 tasks      | elapsed:  1.1min\n",
      "[Parallel(n_jobs=-1)]: Done 1230 tasks      | elapsed:  2.0min\n",
      "[Parallel(n_jobs=-1)]: Done 1780 tasks      | elapsed:  3.1min\n",
      "[Parallel(n_jobs=-1)]: Done 2430 tasks      | elapsed:  4.4min\n",
      "[Parallel(n_jobs=-1)]: Done 3180 tasks      | elapsed:  5.4min\n",
      "[Parallel(n_jobs=-1)]: Done 4030 tasks      | elapsed:  7.2min\n",
      "[Parallel(n_jobs=-1)]: Done 6400 tasks      | elapsed:  8.9min\n",
      "[Parallel(n_jobs=-1)]: Done 23200 tasks      | elapsed:  9.2min\n",
      "[Parallel(n_jobs=-1)]: Done 25570 tasks      | elapsed: 11.1min\n",
      "[Parallel(n_jobs=-1)]: Done 26820 tasks      | elapsed: 12.6min\n",
      "[Parallel(n_jobs=-1)]: Done 28170 tasks      | elapsed: 14.3min\n",
      "[Parallel(n_jobs=-1)]: Done 40490 tasks      | elapsed: 15.4min\n",
      "[Parallel(n_jobs=-1)]: Done 49410 tasks      | elapsed: 16.9min\n",
      "[Parallel(n_jobs=-1)]: Done 51060 tasks      | elapsed: 18.5min\n",
      "[Parallel(n_jobs=-1)]: Done 52810 tasks      | elapsed: 20.1min\n",
      "[Parallel(n_jobs=-1)]: Done 72000 out of 72000 | elapsed: 20.5min finished\n"
     ]
    },
    {
     "data": {
      "text/plain": [
       "GridSearchCV(cv=5, estimator=HistGradientBoostingClassifier(), n_jobs=-1,\n",
       "             param_grid={'learning_rate': [0.05, 0.1, 0.15], 'loss': ['auto'],\n",
       "                         'max_bins': array([ 100,  200,  300,  400,  500,  600,  700,  800,  900, 1000]),\n",
       "                         'max_depth': array([ 1,  3,  5,  7,  9, 11, 13, 15]),\n",
       "                         'max_iter': [100, 200], 'max_leaf_nodes': [30, 31, 32],\n",
       "                         'min_samples_leaf': array([ 1, 11, 21, 31, 41, 51, 61, 71, 81, 91])},\n",
       "             scoring='f1', verbose=1)"
      ]
     },
     "execution_count": 45,
     "metadata": {},
     "output_type": "execute_result"
    }
   ],
   "source": [
    "parameters = {\n",
    "    'loss' : ['auto'], \n",
    "    'learning_rate': [0.05, 0.1, 0.15],\n",
    "    'max_iter': [100, 200],\n",
    "    'max_leaf_nodes': [30, 31, 32],\n",
    "    'max_depth': np.arange(1, 16, 2),\n",
    "    'min_samples_leaf': np.arange(1, 101, 10),\n",
    "    'max_bins': np.arange(100, 1001, 100),\n",
    "}\n",
    "# n_cpus = multiprocessing.cpu_count()\n",
    "ghbc = GridSearchCV(gbhlf, parameters,cv=5, scoring='f1', verbose=1, n_jobs=-1)\n",
    "ghbc.fit(X_train,y_train)"
   ]
  },
  {
   "cell_type": "code",
   "execution_count": 46,
   "metadata": {},
   "outputs": [
    {
     "name": "stdout",
     "output_type": "stream",
     "text": [
      "Best parameters:  {'learning_rate': 0.05, 'loss': 'auto', 'max_bins': 200, 'max_depth': 9, 'max_iter': 100, 'max_leaf_nodes': 31, 'min_samples_leaf': 61}\n",
      "Average score from cross-validation of best parameters on training data:  0.778847063444402\n",
      "F1 score of test data: 0.775829137002952\n"
     ]
    }
   ],
   "source": [
    "\n",
    "print (\"Best parameters: \" , str(ghbc.best_params_))\n",
    "print(\"Average score from cross-validation of best parameters on training data: \", str(ghbc.best_score_))\n",
    "print(\"F1 score of test data:\", gbc.score(X_test, y_test))"
   ]
  },
  {
   "cell_type": "code",
   "execution_count": 47,
   "metadata": {},
   "outputs": [
    {
     "name": "stdout",
     "output_type": "stream",
     "text": [
      "Fitting 5 folds for each of 216 candidates, totalling 1080 fits\n"
     ]
    },
    {
     "name": "stderr",
     "output_type": "stream",
     "text": [
      "[Parallel(n_jobs=-1)]: Using backend LokyBackend with 10 concurrent workers.\n",
      "[Parallel(n_jobs=-1)]: Done  30 tasks      | elapsed:    4.1s\n",
      "[Parallel(n_jobs=-1)]: Done 180 tasks      | elapsed:   21.3s\n",
      "[Parallel(n_jobs=-1)]: Done 643 tasks      | elapsed:  1.0min\n",
      "[Parallel(n_jobs=-1)]: Done 1061 out of 1080 | elapsed:  1.6min remaining:    1.7s\n",
      "[Parallel(n_jobs=-1)]: Done 1080 out of 1080 | elapsed:  1.6min finished\n"
     ]
    },
    {
     "data": {
      "text/plain": [
       "GridSearchCV(cv=5, estimator=HistGradientBoostingClassifier(), n_jobs=-1,\n",
       "             param_grid={'learning_rate': [0.06, 0.05, 0.04], 'loss': ['auto'],\n",
       "                         'max_bins': array([150, 200, 250, 300]),\n",
       "                         'max_depth': array([8]), 'max_iter': [90, 100, 110],\n",
       "                         'max_leaf_nodes': [31],\n",
       "                         'min_samples_leaf': array([ 1,  3,  5,  7,  9, 11])},\n",
       "             scoring='f1', verbose=1)"
      ]
     },
     "execution_count": 47,
     "metadata": {},
     "output_type": "execute_result"
    }
   ],
   "source": [
    "parameters = {\n",
    "    'loss' : ['auto'], \n",
    "    'learning_rate': [0.06, 0.05, 0.04],\n",
    "    'max_iter': [90, 100, 110],\n",
    "    'max_leaf_nodes': [31],\n",
    "    'max_depth': np.arange(8, 9, 10),\n",
    "    'min_samples_leaf': np.arange(1, 12, 2),\n",
    "    'max_bins': np.arange(150, 301, 50),\n",
    "}\n",
    "# n_cpus = multiprocessing.cpu_count()\n",
    "ghbc = GridSearchCV(gbhlf, parameters,cv=5, scoring='f1', verbose=1, n_jobs=-1)\n",
    "ghbc.fit(X_train,y_train)"
   ]
  },
  {
   "cell_type": "code",
   "execution_count": 48,
   "metadata": {},
   "outputs": [
    {
     "name": "stdout",
     "output_type": "stream",
     "text": [
      "Best parameters:  {'learning_rate': 0.04, 'loss': 'auto', 'max_bins': 150, 'max_depth': 8, 'max_iter': 90, 'max_leaf_nodes': 31, 'min_samples_leaf': 7}\n",
      "Average score from cross-validation of best parameters on training data:  0.7787957491022188\n",
      "F1 score of test data: 0.775829137002952\n"
     ]
    }
   ],
   "source": [
    "\n",
    "print (\"Best parameters: \" , str(ghbc.best_params_))\n",
    "print(\"Average score from cross-validation of best parameters on training data: \", str(ghbc.best_score_))\n",
    "print(\"F1 score of test data:\", gbc.score(X_test, y_test))"
   ]
  },
  {
   "cell_type": "code",
   "execution_count": 49,
   "metadata": {},
   "outputs": [
    {
     "name": "stdout",
     "output_type": "stream",
     "text": [
      "Fitting 5 folds for each of 648 candidates, totalling 3240 fits\n"
     ]
    },
    {
     "name": "stderr",
     "output_type": "stream",
     "text": [
      "[Parallel(n_jobs=-1)]: Using backend LokyBackend with 10 concurrent workers.\n",
      "[Parallel(n_jobs=-1)]: Done  30 tasks      | elapsed:    4.2s\n",
      "[Parallel(n_jobs=-1)]: Done 180 tasks      | elapsed:   21.0s\n",
      "[Parallel(n_jobs=-1)]: Done 430 tasks      | elapsed:   51.0s\n",
      "[Parallel(n_jobs=-1)]: Done 780 tasks      | elapsed:  1.5min\n",
      "[Parallel(n_jobs=-1)]: Done 1450 tasks      | elapsed:  2.6min\n",
      "[Parallel(n_jobs=-1)]: Done 2000 tasks      | elapsed:  3.8min\n",
      "[Parallel(n_jobs=-1)]: Done 2870 tasks      | elapsed:  5.3min\n",
      "[Parallel(n_jobs=-1)]: Done 3221 out of 3240 | elapsed:  5.8min remaining:    2.1s\n",
      "[Parallel(n_jobs=-1)]: Done 3240 out of 3240 | elapsed:  5.8min finished\n"
     ]
    },
    {
     "data": {
      "text/plain": [
       "GridSearchCV(cv=5, estimator=HistGradientBoostingClassifier(), n_jobs=-1,\n",
       "             param_grid={'learning_rate': [0.055, 0.05, 0.045],\n",
       "                         'loss': ['auto'],\n",
       "                         'max_bins': array([190, 200, 210, 220, 230, 240, 250, 260]),\n",
       "                         'max_depth': [8, 9, 10], 'max_iter': [99, 100, 101],\n",
       "                         'max_leaf_nodes': [31],\n",
       "                         'min_samples_leaf': [6, 7, 8]},\n",
       "             scoring='f1', verbose=1)"
      ]
     },
     "execution_count": 49,
     "metadata": {},
     "output_type": "execute_result"
    }
   ],
   "source": [
    "parameters = {\n",
    "    'loss' : ['auto'], \n",
    "    'learning_rate': [0.055, 0.05, 0.045],\n",
    "    'max_iter': [99, 100, 101],\n",
    "    'max_leaf_nodes': [31],\n",
    "    'max_depth': [8, 9, 10],\n",
    "    'min_samples_leaf': [6,7,8],\n",
    "    'max_bins': np.arange(190, 261, 10),\n",
    "}\n",
    "# n_cpus = multiprocessing.cpu_count()\n",
    "ghbc = GridSearchCV(gbhlf, parameters,cv=5, scoring='f1', verbose=1, n_jobs=-1)\n",
    "ghbc.fit(X_train,y_train)"
   ]
  },
  {
   "cell_type": "code",
   "execution_count": 50,
   "metadata": {},
   "outputs": [
    {
     "name": "stdout",
     "output_type": "stream",
     "text": [
      "Best parameters:  {'learning_rate': 0.045, 'loss': 'auto', 'max_bins': 200, 'max_depth': 10, 'max_iter': 99, 'max_leaf_nodes': 31, 'min_samples_leaf': 7}\n",
      "Average score from cross-validation of best parameters on training data:  0.779159308765023\n",
      "F1 score of test data: 0.775829137002952\n"
     ]
    }
   ],
   "source": [
    "\n",
    "print (\"Best parameters: \" , str(ghbc.best_params_))\n",
    "print(\"Average score from cross-validation of best parameters on training data: \", str(ghbc.best_score_))\n",
    "print(\"F1 score of test data:\", gbc.score(X_test, y_test))"
   ]
  },
  {
   "cell_type": "code",
   "execution_count": 53,
   "metadata": {},
   "outputs": [
    {
     "name": "stdout",
     "output_type": "stream",
     "text": [
      "Fitting 5 folds for each of 60 candidates, totalling 300 fits\n"
     ]
    },
    {
     "name": "stderr",
     "output_type": "stream",
     "text": [
      "[Parallel(n_jobs=-1)]: Using backend LokyBackend with 10 concurrent workers.\n",
      "[Parallel(n_jobs=-1)]: Done  30 tasks      | elapsed:    3.9s\n",
      "[Parallel(n_jobs=-1)]: Done 180 tasks      | elapsed:   21.7s\n",
      "[Parallel(n_jobs=-1)]: Done 300 out of 300 | elapsed:   36.1s finished\n"
     ]
    },
    {
     "data": {
      "text/plain": [
       "GridSearchCV(cv=5, estimator=HistGradientBoostingClassifier(), n_jobs=-1,\n",
       "             param_grid={'learning_rate': [0.044, 0.046, 0.045],\n",
       "                         'loss': ['auto'],\n",
       "                         'max_bins': array([220, 225, 230, 235, 240]),\n",
       "                         'max_depth': [9], 'max_iter': [98, 99],\n",
       "                         'max_leaf_nodes': [31], 'min_samples_leaf': [8, 9]},\n",
       "             scoring='f1', verbose=1)"
      ]
     },
     "execution_count": 53,
     "metadata": {},
     "output_type": "execute_result"
    }
   ],
   "source": [
    "# print(df.head())\n",
    "# categorical_columns_subset = [\n",
    "#     \"HeartDisease\",\n",
    "#     \"Smoking\",\n",
    "#     \"AlcoholDrinking\",\n",
    "#     \"Stroke\",\n",
    "#     \"Sex\",\n",
    "#     \"AgeCategory\",\n",
    "#     \"Race\",\n",
    "#     \"PhysicalActivity\",\n",
    "#     \"GenHealth\",\n",
    "#     \"Asthma\",\n",
    "#     \"KidneyDisease\",\n",
    "#     \"SkinCancer\"\n",
    "    \n",
    "# ]\n",
    "\n",
    "# numerical_columns_subset = [\n",
    "#     \"BMI\",\n",
    "#     \"PhysicalHealth\",\n",
    "#     \"MentalHealth\",\n",
    "#     \"DiffWalking\",\n",
    "#     \"SleepTime\"\n",
    "# ]\n",
    "\n",
    "# Mymy = df[categorical_columns_subset + numerical_columns_subset]\n",
    "# Mymy[categorical_columns_subset] = Mymy[categorical_columns_subset].astype(\"category\")\n",
    "\n",
    "# n_categorical_features = Mymy.select_dtypes(include=\"category\").shape[1]\n",
    "# n_numerical_features = Mymy.select_dtypes(include=\"number\").shape[1]\n",
    "\n",
    "# categorical_mask = [True] * n_categorical_features + [False] * n_numerical_features\n",
    "parameters = {\n",
    "    'loss' : ['auto'], \n",
    "    'learning_rate': [0.044, 0.046, 0.045],\n",
    "    'max_iter': [98, 99],\n",
    "    'max_leaf_nodes': [31],\n",
    "    'max_depth': [9],\n",
    "    'min_samples_leaf': [8, 9],\n",
    "    'max_bins': np.arange(220, 241, 5)\n",
    "#     'categorical_features': [categorical_mask, None]\n",
    "}\n",
    "\n",
    "# from sklearn.pipeline import make_pipeline\n",
    "# from sklearn.preprocessing import OrdinalEncoder\n",
    "# from sklearn.compose import make_column_transformer\n",
    "\n",
    "# ordinal_encoder = make_column_transformer(\n",
    "#     (\n",
    "#         OrdinalEncoder(handle_unknown=\"use_encoded_value\", unknown_value=np.nan),\n",
    "#         make_column_selector(dtype_include=\"category\"),\n",
    "#     ),\n",
    "#     remainder=\"passthrough\",\n",
    "# )\n",
    "\n",
    "# # n_cpus = multiprocessing.cpu_count()\n",
    "# hist_native = make_pipeline(\n",
    "#     ordinal_encoder,\n",
    "#     HistGradientBoostingRegressor(categorical_features=categorical_mask)\n",
    "# )\n",
    "# gbhlf =hist_native\n",
    "\n",
    "ghbc = GridSearchCV(gbhlf, parameters,cv=5, scoring='f1', verbose=1, n_jobs=-1)\n",
    "ghbc.fit(X_train,y_train)\n"
   ]
  },
  {
   "cell_type": "code",
   "execution_count": 55,
   "metadata": {},
   "outputs": [
    {
     "name": "stdout",
     "output_type": "stream",
     "text": [
      "Best parameters:  {'learning_rate': 0.044, 'loss': 'auto', 'max_bins': 220, 'max_depth': 9, 'max_iter': 98, 'max_leaf_nodes': 31, 'min_samples_leaf': 8}\n",
      "Average score from cross-validation of best parameters on training data:  0.7791347786093038\n",
      "F1 score of test data: 0.775829137002952\n"
     ]
    }
   ],
   "source": [
    "df.head()\n",
    "gbhlf.get_params().keys()\n",
    "\n",
    "print (\"Best parameters: \" , str(ghbc.best_params_))\n",
    "print(\"Average score from cross-validation of best parameters on training data: \", str(ghbc.best_score_))\n",
    "print(\"F1 score of test data:\", gbc.score(X_test, y_test))"
   ]
  },
  {
   "cell_type": "code",
   "execution_count": 56,
   "metadata": {},
   "outputs": [
    {
     "name": "stdout",
     "output_type": "stream",
     "text": [
      "Fitting 5 folds for each of 108 candidates, totalling 540 fits\n"
     ]
    },
    {
     "name": "stderr",
     "output_type": "stream",
     "text": [
      "[Parallel(n_jobs=-1)]: Using backend LokyBackend with 10 concurrent workers.\n",
      "[Parallel(n_jobs=-1)]: Done  30 tasks      | elapsed:    5.5s\n",
      "[Parallel(n_jobs=-1)]: Done 180 tasks      | elapsed:   24.1s\n",
      "[Parallel(n_jobs=-1)]: Done 430 tasks      | elapsed:   54.8s\n",
      "[Parallel(n_jobs=-1)]: Done 540 out of 540 | elapsed:  1.1min finished\n"
     ]
    },
    {
     "data": {
      "text/plain": [
       "GridSearchCV(cv=5, estimator=HistGradientBoostingClassifier(), n_jobs=-1,\n",
       "             param_grid={'learning_rate': [0.044, 0.0441, 0.0439],\n",
       "                         'loss': ['auto'],\n",
       "                         'max_bins': array([215, 217, 219, 221, 223, 225, 227, 229, 231]),\n",
       "                         'max_depth': [9], 'max_iter': [98, 97],\n",
       "                         'max_leaf_nodes': [31], 'min_samples_leaf': [10, 9]},\n",
       "             scoring='f1', verbose=1)"
      ]
     },
     "execution_count": 56,
     "metadata": {},
     "output_type": "execute_result"
    }
   ],
   "source": [
    "parameters = {\n",
    "    'loss' : ['auto'], \n",
    "    'learning_rate': [0.044, 0.0441, 0.0439],\n",
    "    'max_iter': [98, 97],\n",
    "    'max_leaf_nodes': [31],\n",
    "    'max_depth': [9],\n",
    "    'min_samples_leaf': [10, 9],\n",
    "    'max_bins': np.arange(215, 233, 2)\n",
    "#     'categorical_features': [categorical_mask, None]\n",
    "}\n",
    "\n",
    "\n",
    "ghbc = GridSearchCV(gbhlf, parameters,cv=5, scoring='f1', verbose=1, n_jobs=-1)\n",
    "ghbc.fit(X_train,y_train)"
   ]
  },
  {
   "cell_type": "code",
   "execution_count": 57,
   "metadata": {},
   "outputs": [
    {
     "name": "stdout",
     "output_type": "stream",
     "text": [
      "Best parameters:  {'learning_rate': 0.044, 'loss': 'auto', 'max_bins': 217, 'max_depth': 9, 'max_iter': 98, 'max_leaf_nodes': 31, 'min_samples_leaf': 10}\n",
      "Average score from cross-validation of best parameters on training data:  0.7787569865610772\n",
      "F1 score of test data: 0.775829137002952\n"
     ]
    }
   ],
   "source": [
    "\n",
    "print (\"Best parameters: \" , str(ghbc.best_params_))\n",
    "print(\"Average score from cross-validation of best parameters on training data: \", str(ghbc.best_score_))\n",
    "print(\"F1 score of test data:\", gbc.score(X_test, y_test))"
   ]
  },
  {
   "cell_type": "code",
   "execution_count": 60,
   "metadata": {},
   "outputs": [
    {
     "name": "stdout",
     "output_type": "stream",
     "text": [
      "Fitting 5 folds for each of 42 candidates, totalling 210 fits\n"
     ]
    },
    {
     "name": "stderr",
     "output_type": "stream",
     "text": [
      "[Parallel(n_jobs=-1)]: Using backend LokyBackend with 10 concurrent workers.\n",
      "[Parallel(n_jobs=-1)]: Done  30 tasks      | elapsed:    4.2s\n",
      "[Parallel(n_jobs=-1)]: Done 180 tasks      | elapsed:   22.4s\n",
      "[Parallel(n_jobs=-1)]: Done 210 out of 210 | elapsed:   26.0s finished\n"
     ]
    },
    {
     "data": {
      "text/plain": [
       "GridSearchCV(cv=5, estimator=HistGradientBoostingClassifier(), n_jobs=-1,\n",
       "             param_grid={'learning_rate': [0.044, 0.04401, 0.04399],\n",
       "                         'loss': ['auto'],\n",
       "                         'max_bins': array([215, 216, 217, 218, 219, 220, 221]),\n",
       "                         'max_depth': [9], 'max_iter': [98],\n",
       "                         'max_leaf_nodes': [31], 'min_samples_leaf': [10, 11]},\n",
       "             scoring='f1', verbose=1)"
      ]
     },
     "execution_count": 60,
     "metadata": {},
     "output_type": "execute_result"
    }
   ],
   "source": [
    "parameters = {\n",
    "    'loss' : ['auto'], \n",
    "    'learning_rate': [0.044, 0.04401, 0.04399],\n",
    "    'max_iter': [98],\n",
    "    'max_leaf_nodes': [31],\n",
    "    'max_depth': [9],\n",
    "    'min_samples_leaf': [10, 11],\n",
    "    'max_bins': np.arange(215, 222, 1)\n",
    "#     'categorical_features': [categorical_mask, None]\n",
    "}\n",
    "\n",
    "\n",
    "ghbc = GridSearchCV(gbhlf, parameters,cv=5, scoring='f1', verbose=1, n_jobs=-1)\n",
    "ghbc.fit(X_train,y_train)"
   ]
  },
  {
   "cell_type": "code",
   "execution_count": 61,
   "metadata": {},
   "outputs": [
    {
     "name": "stdout",
     "output_type": "stream",
     "text": [
      "Best parameters:  {'learning_rate': 0.04401, 'loss': 'auto', 'max_bins': 216, 'max_depth': 9, 'max_iter': 98, 'max_leaf_nodes': 31, 'min_samples_leaf': 10}\n",
      "Average score from cross-validation of best parameters on training data:  0.7786692820553384\n",
      "F1 score of test data: 0.775829137002952\n"
     ]
    }
   ],
   "source": [
    "\n",
    "print (\"Best parameters: \" , str(ghbc.best_params_))\n",
    "print(\"Average score from cross-validation of best parameters on training data: \", str(ghbc.best_score_))\n",
    "print(\"F1 score of test data:\", gbc.score(X_test, y_test))"
   ]
  },
  {
   "cell_type": "code",
   "execution_count": 14,
   "metadata": {},
   "outputs": [
    {
     "name": "stdout",
     "output_type": "stream",
     "text": [
      "Fitting 5 folds for each of 3 candidates, totalling 15 fits\n"
     ]
    },
    {
     "name": "stderr",
     "output_type": "stream",
     "text": [
      "[Parallel(n_jobs=-1)]: Using backend LokyBackend with 10 concurrent workers.\n",
      "[Parallel(n_jobs=-1)]: Done  12 out of  15 | elapsed:    2.6s remaining:    0.7s\n",
      "[Parallel(n_jobs=-1)]: Done  15 out of  15 | elapsed:    2.7s finished\n"
     ]
    },
    {
     "data": {
      "text/plain": [
       "GridSearchCV(cv=5, estimator=HistGradientBoostingClassifier(), n_jobs=-1,\n",
       "             param_grid={'learning_rate': [0.04402, 0.04401, 0.0440099],\n",
       "                         'loss': ['auto'], 'max_bins': [216], 'max_depth': [9],\n",
       "                         'max_iter': [98], 'max_leaf_nodes': [31],\n",
       "                         'min_samples_leaf': [10]},\n",
       "             scoring='f1', verbose=1)"
      ]
     },
     "execution_count": 14,
     "metadata": {},
     "output_type": "execute_result"
    }
   ],
   "source": [
    "parameters = {\n",
    "    'loss' : ['auto'], \n",
    "    'learning_rate': [0.04402, 0.04401, 0.0440099],\n",
    "    'max_iter': [98],\n",
    "    'max_leaf_nodes': [31],\n",
    "    'max_depth': [9],\n",
    "    'min_samples_leaf': [10],\n",
    "    'max_bins': [216]\n",
    "#     'categorical_features': [categorical_mask, None]\n",
    "}\n",
    "\n",
    "\n",
    "ghbc = GridSearchCV(gbhlf, parameters,cv=5, scoring='f1', verbose=1, n_jobs=-1)\n",
    "ghbc.fit(X_train,y_train)"
   ]
  },
  {
   "cell_type": "code",
   "execution_count": 15,
   "metadata": {},
   "outputs": [
    {
     "name": "stdout",
     "output_type": "stream",
     "text": [
      "Best parameters:  {'learning_rate': 0.0440099, 'loss': 'auto', 'max_bins': 216, 'max_depth': 9, 'max_iter': 98, 'max_leaf_nodes': 31, 'min_samples_leaf': 10}\n",
      "Average score from cross-validation of best parameters on training data:  0.7738244322571978\n",
      "F1 score of test data: 0.7780504908835906\n"
     ]
    }
   ],
   "source": [
    "\n",
    "print (\"Best parameters: \" , str(ghbc.best_params_))\n",
    "print(\"Average score from cross-validation of best parameters on training data: \", str(ghbc.best_score_))\n",
    "print(\"F1 score of test data:\", ghbc.score(X_test, y_test))"
   ]
  },
  {
   "cell_type": "code",
   "execution_count": null,
   "metadata": {},
   "outputs": [],
   "source": []
  }
 ],
 "metadata": {
  "colab": {
   "collapsed_sections": [],
   "name": "classifier tuning.ipynb",
   "provenance": []
  },
  "kernelspec": {
   "display_name": "Python 3",
   "language": "python",
   "name": "python3"
  },
  "language_info": {
   "codemirror_mode": {
    "name": "ipython",
    "version": 3
   },
   "file_extension": ".py",
   "mimetype": "text/x-python",
   "name": "python",
   "nbconvert_exporter": "python",
   "pygments_lexer": "ipython3",
   "version": "3.8.5"
  }
 },
 "nbformat": 4,
 "nbformat_minor": 5
}
